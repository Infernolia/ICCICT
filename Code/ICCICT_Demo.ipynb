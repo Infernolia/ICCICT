{
  "nbformat": 4,
  "nbformat_minor": 0,
  "metadata": {
    "kernelspec": {
      "display_name": "Python 3",
      "language": "python",
      "name": "python3"
    },
    "language_info": {
      "codemirror_mode": {
        "name": "ipython",
        "version": 3
      },
      "file_extension": ".py",
      "mimetype": "text/x-python",
      "name": "python",
      "nbconvert_exporter": "python",
      "pygments_lexer": "ipython3",
      "version": "3.6.9"
    },
    "colab": {
      "name": "ICCICT_Demo.ipynb",
      "provenance": [],
      "collapsed_sections": []
    },
    "widgets": {
      "application/vnd.jupyter.widget-state+json": {
        "0cc18213a0894f709f7e4c762b50056a": {
          "model_module": "@jupyter-widgets/controls",
          "model_name": "HBoxModel",
          "state": {
            "_view_name": "HBoxView",
            "_dom_classes": [],
            "_model_name": "HBoxModel",
            "_view_module": "@jupyter-widgets/controls",
            "_model_module_version": "1.5.0",
            "_view_count": null,
            "_view_module_version": "1.5.0",
            "box_style": "",
            "layout": "IPY_MODEL_d6fcea00de0a484e8f85fd09366a522f",
            "_model_module": "@jupyter-widgets/controls",
            "children": [
              "IPY_MODEL_19cf8527e6d44da89a195b7c98098254",
              "IPY_MODEL_0d9f23ea6c6d4d2887e9adf20a632cd2",
              "IPY_MODEL_8c9a44c4b36f44f282cdabd1e50a4a2d"
            ]
          }
        },
        "d6fcea00de0a484e8f85fd09366a522f": {
          "model_module": "@jupyter-widgets/base",
          "model_name": "LayoutModel",
          "state": {
            "_view_name": "LayoutView",
            "grid_template_rows": null,
            "right": null,
            "justify_content": null,
            "_view_module": "@jupyter-widgets/base",
            "overflow": null,
            "_model_module_version": "1.2.0",
            "_view_count": null,
            "flex_flow": null,
            "width": null,
            "min_width": null,
            "border": null,
            "align_items": null,
            "bottom": null,
            "_model_module": "@jupyter-widgets/base",
            "top": null,
            "grid_column": null,
            "overflow_y": null,
            "overflow_x": null,
            "grid_auto_flow": null,
            "grid_area": null,
            "grid_template_columns": null,
            "flex": null,
            "_model_name": "LayoutModel",
            "justify_items": null,
            "grid_row": null,
            "max_height": null,
            "align_content": null,
            "visibility": null,
            "align_self": null,
            "height": null,
            "min_height": null,
            "padding": null,
            "grid_auto_rows": null,
            "grid_gap": null,
            "max_width": null,
            "order": null,
            "_view_module_version": "1.2.0",
            "grid_template_areas": null,
            "object_position": null,
            "object_fit": null,
            "grid_auto_columns": null,
            "margin": null,
            "display": null,
            "left": null
          }
        },
        "19cf8527e6d44da89a195b7c98098254": {
          "model_module": "@jupyter-widgets/controls",
          "model_name": "HTMLModel",
          "state": {
            "_view_name": "HTMLView",
            "style": "IPY_MODEL_3bc4cdea46d34e38b5df82fd23e9cd7c",
            "_dom_classes": [],
            "description": "",
            "_model_name": "HTMLModel",
            "placeholder": "​",
            "_view_module": "@jupyter-widgets/controls",
            "_model_module_version": "1.5.0",
            "value": "  0%",
            "_view_count": null,
            "_view_module_version": "1.5.0",
            "description_tooltip": null,
            "_model_module": "@jupyter-widgets/controls",
            "layout": "IPY_MODEL_172e3c465c654de0ba9e0cb323f7e252"
          }
        },
        "0d9f23ea6c6d4d2887e9adf20a632cd2": {
          "model_module": "@jupyter-widgets/controls",
          "model_name": "FloatProgressModel",
          "state": {
            "_view_name": "ProgressView",
            "style": "IPY_MODEL_94455e0359f04fa9a9e75d780d57ca1e",
            "_dom_classes": [],
            "description": "",
            "_model_name": "FloatProgressModel",
            "bar_style": "danger",
            "max": 1500,
            "_view_module": "@jupyter-widgets/controls",
            "_model_module_version": "1.5.0",
            "value": 3,
            "_view_count": null,
            "_view_module_version": "1.5.0",
            "orientation": "horizontal",
            "min": 0,
            "description_tooltip": null,
            "_model_module": "@jupyter-widgets/controls",
            "layout": "IPY_MODEL_32cad1016109465dae79f9b8cae4511c"
          }
        },
        "8c9a44c4b36f44f282cdabd1e50a4a2d": {
          "model_module": "@jupyter-widgets/controls",
          "model_name": "HTMLModel",
          "state": {
            "_view_name": "HTMLView",
            "style": "IPY_MODEL_6b971b818458486983e32fa8a5464fb1",
            "_dom_classes": [],
            "description": "",
            "_model_name": "HTMLModel",
            "placeholder": "​",
            "_view_module": "@jupyter-widgets/controls",
            "_model_module_version": "1.5.0",
            "value": " 3/1500 [00:00&lt;09:46,  2.55it/s]",
            "_view_count": null,
            "_view_module_version": "1.5.0",
            "description_tooltip": null,
            "_model_module": "@jupyter-widgets/controls",
            "layout": "IPY_MODEL_b8d9e12c31ab46a694694de93acf740f"
          }
        },
        "3bc4cdea46d34e38b5df82fd23e9cd7c": {
          "model_module": "@jupyter-widgets/controls",
          "model_name": "DescriptionStyleModel",
          "state": {
            "_view_name": "StyleView",
            "_model_name": "DescriptionStyleModel",
            "description_width": "",
            "_view_module": "@jupyter-widgets/base",
            "_model_module_version": "1.5.0",
            "_view_count": null,
            "_view_module_version": "1.2.0",
            "_model_module": "@jupyter-widgets/controls"
          }
        },
        "172e3c465c654de0ba9e0cb323f7e252": {
          "model_module": "@jupyter-widgets/base",
          "model_name": "LayoutModel",
          "state": {
            "_view_name": "LayoutView",
            "grid_template_rows": null,
            "right": null,
            "justify_content": null,
            "_view_module": "@jupyter-widgets/base",
            "overflow": null,
            "_model_module_version": "1.2.0",
            "_view_count": null,
            "flex_flow": null,
            "width": null,
            "min_width": null,
            "border": null,
            "align_items": null,
            "bottom": null,
            "_model_module": "@jupyter-widgets/base",
            "top": null,
            "grid_column": null,
            "overflow_y": null,
            "overflow_x": null,
            "grid_auto_flow": null,
            "grid_area": null,
            "grid_template_columns": null,
            "flex": null,
            "_model_name": "LayoutModel",
            "justify_items": null,
            "grid_row": null,
            "max_height": null,
            "align_content": null,
            "visibility": null,
            "align_self": null,
            "height": null,
            "min_height": null,
            "padding": null,
            "grid_auto_rows": null,
            "grid_gap": null,
            "max_width": null,
            "order": null,
            "_view_module_version": "1.2.0",
            "grid_template_areas": null,
            "object_position": null,
            "object_fit": null,
            "grid_auto_columns": null,
            "margin": null,
            "display": null,
            "left": null
          }
        },
        "94455e0359f04fa9a9e75d780d57ca1e": {
          "model_module": "@jupyter-widgets/controls",
          "model_name": "ProgressStyleModel",
          "state": {
            "_view_name": "StyleView",
            "_model_name": "ProgressStyleModel",
            "description_width": "",
            "_view_module": "@jupyter-widgets/base",
            "_model_module_version": "1.5.0",
            "_view_count": null,
            "_view_module_version": "1.2.0",
            "bar_color": null,
            "_model_module": "@jupyter-widgets/controls"
          }
        },
        "32cad1016109465dae79f9b8cae4511c": {
          "model_module": "@jupyter-widgets/base",
          "model_name": "LayoutModel",
          "state": {
            "_view_name": "LayoutView",
            "grid_template_rows": null,
            "right": null,
            "justify_content": null,
            "_view_module": "@jupyter-widgets/base",
            "overflow": null,
            "_model_module_version": "1.2.0",
            "_view_count": null,
            "flex_flow": null,
            "width": null,
            "min_width": null,
            "border": null,
            "align_items": null,
            "bottom": null,
            "_model_module": "@jupyter-widgets/base",
            "top": null,
            "grid_column": null,
            "overflow_y": null,
            "overflow_x": null,
            "grid_auto_flow": null,
            "grid_area": null,
            "grid_template_columns": null,
            "flex": null,
            "_model_name": "LayoutModel",
            "justify_items": null,
            "grid_row": null,
            "max_height": null,
            "align_content": null,
            "visibility": null,
            "align_self": null,
            "height": null,
            "min_height": null,
            "padding": null,
            "grid_auto_rows": null,
            "grid_gap": null,
            "max_width": null,
            "order": null,
            "_view_module_version": "1.2.0",
            "grid_template_areas": null,
            "object_position": null,
            "object_fit": null,
            "grid_auto_columns": null,
            "margin": null,
            "display": null,
            "left": null
          }
        },
        "6b971b818458486983e32fa8a5464fb1": {
          "model_module": "@jupyter-widgets/controls",
          "model_name": "DescriptionStyleModel",
          "state": {
            "_view_name": "StyleView",
            "_model_name": "DescriptionStyleModel",
            "description_width": "",
            "_view_module": "@jupyter-widgets/base",
            "_model_module_version": "1.5.0",
            "_view_count": null,
            "_view_module_version": "1.2.0",
            "_model_module": "@jupyter-widgets/controls"
          }
        },
        "b8d9e12c31ab46a694694de93acf740f": {
          "model_module": "@jupyter-widgets/base",
          "model_name": "LayoutModel",
          "state": {
            "_view_name": "LayoutView",
            "grid_template_rows": null,
            "right": null,
            "justify_content": null,
            "_view_module": "@jupyter-widgets/base",
            "overflow": null,
            "_model_module_version": "1.2.0",
            "_view_count": null,
            "flex_flow": null,
            "width": null,
            "min_width": null,
            "border": null,
            "align_items": null,
            "bottom": null,
            "_model_module": "@jupyter-widgets/base",
            "top": null,
            "grid_column": null,
            "overflow_y": null,
            "overflow_x": null,
            "grid_auto_flow": null,
            "grid_area": null,
            "grid_template_columns": null,
            "flex": null,
            "_model_name": "LayoutModel",
            "justify_items": null,
            "grid_row": null,
            "max_height": null,
            "align_content": null,
            "visibility": null,
            "align_self": null,
            "height": null,
            "min_height": null,
            "padding": null,
            "grid_auto_rows": null,
            "grid_gap": null,
            "max_width": null,
            "order": null,
            "_view_module_version": "1.2.0",
            "grid_template_areas": null,
            "object_position": null,
            "object_fit": null,
            "grid_auto_columns": null,
            "margin": null,
            "display": null,
            "left": null
          }
        },
        "1cef315fb07f49ab9c9e7d3c6f31f901": {
          "model_module": "@jupyter-widgets/controls",
          "model_name": "HBoxModel",
          "state": {
            "_view_name": "HBoxView",
            "_dom_classes": [],
            "_model_name": "HBoxModel",
            "_view_module": "@jupyter-widgets/controls",
            "_model_module_version": "1.5.0",
            "_view_count": null,
            "_view_module_version": "1.5.0",
            "box_style": "",
            "layout": "IPY_MODEL_d3c5885febc5448e8bc423c79a78ceb3",
            "_model_module": "@jupyter-widgets/controls",
            "children": [
              "IPY_MODEL_578b0994e762482bbfbdae6a04c5440d",
              "IPY_MODEL_619e799898b44e5890b4c472f09fc700",
              "IPY_MODEL_fefa4cd46f2243f1b30516875d75428f"
            ]
          }
        },
        "d3c5885febc5448e8bc423c79a78ceb3": {
          "model_module": "@jupyter-widgets/base",
          "model_name": "LayoutModel",
          "state": {
            "_view_name": "LayoutView",
            "grid_template_rows": null,
            "right": null,
            "justify_content": null,
            "_view_module": "@jupyter-widgets/base",
            "overflow": null,
            "_model_module_version": "1.2.0",
            "_view_count": null,
            "flex_flow": null,
            "width": null,
            "min_width": null,
            "border": null,
            "align_items": null,
            "bottom": null,
            "_model_module": "@jupyter-widgets/base",
            "top": null,
            "grid_column": null,
            "overflow_y": null,
            "overflow_x": null,
            "grid_auto_flow": null,
            "grid_area": null,
            "grid_template_columns": null,
            "flex": null,
            "_model_name": "LayoutModel",
            "justify_items": null,
            "grid_row": null,
            "max_height": null,
            "align_content": null,
            "visibility": null,
            "align_self": null,
            "height": null,
            "min_height": null,
            "padding": null,
            "grid_auto_rows": null,
            "grid_gap": null,
            "max_width": null,
            "order": null,
            "_view_module_version": "1.2.0",
            "grid_template_areas": null,
            "object_position": null,
            "object_fit": null,
            "grid_auto_columns": null,
            "margin": null,
            "display": null,
            "left": null
          }
        },
        "578b0994e762482bbfbdae6a04c5440d": {
          "model_module": "@jupyter-widgets/controls",
          "model_name": "HTMLModel",
          "state": {
            "_view_name": "HTMLView",
            "style": "IPY_MODEL_70bc569b6fa446a4ac7ab4b4e0fbf8a2",
            "_dom_classes": [],
            "description": "",
            "_model_name": "HTMLModel",
            "placeholder": "​",
            "_view_module": "@jupyter-widgets/controls",
            "_model_module_version": "1.5.0",
            "value": "Epoch 1 of 1: 100%",
            "_view_count": null,
            "_view_module_version": "1.5.0",
            "description_tooltip": null,
            "_model_module": "@jupyter-widgets/controls",
            "layout": "IPY_MODEL_56b8787bf54e497e8d286e750244c59f"
          }
        },
        "619e799898b44e5890b4c472f09fc700": {
          "model_module": "@jupyter-widgets/controls",
          "model_name": "FloatProgressModel",
          "state": {
            "_view_name": "ProgressView",
            "style": "IPY_MODEL_cc10dcb43b8d408a9ac8d22e88abe2fe",
            "_dom_classes": [],
            "description": "",
            "_model_name": "FloatProgressModel",
            "bar_style": "success",
            "max": 1,
            "_view_module": "@jupyter-widgets/controls",
            "_model_module_version": "1.5.0",
            "value": 1,
            "_view_count": null,
            "_view_module_version": "1.5.0",
            "orientation": "horizontal",
            "min": 0,
            "description_tooltip": null,
            "_model_module": "@jupyter-widgets/controls",
            "layout": "IPY_MODEL_36bfc1ad9ab94082b3775ee479add205"
          }
        },
        "fefa4cd46f2243f1b30516875d75428f": {
          "model_module": "@jupyter-widgets/controls",
          "model_name": "HTMLModel",
          "state": {
            "_view_name": "HTMLView",
            "style": "IPY_MODEL_614e7a454d154faf8ca4b7e5a3099e81",
            "_dom_classes": [],
            "description": "",
            "_model_name": "HTMLModel",
            "placeholder": "​",
            "_view_module": "@jupyter-widgets/controls",
            "_model_module_version": "1.5.0",
            "value": " 1/1 [35:31&lt;00:00, 2131.29s/it]",
            "_view_count": null,
            "_view_module_version": "1.5.0",
            "description_tooltip": null,
            "_model_module": "@jupyter-widgets/controls",
            "layout": "IPY_MODEL_9592a8ad4c3d42bebe4e130738dfb191"
          }
        },
        "70bc569b6fa446a4ac7ab4b4e0fbf8a2": {
          "model_module": "@jupyter-widgets/controls",
          "model_name": "DescriptionStyleModel",
          "state": {
            "_view_name": "StyleView",
            "_model_name": "DescriptionStyleModel",
            "description_width": "",
            "_view_module": "@jupyter-widgets/base",
            "_model_module_version": "1.5.0",
            "_view_count": null,
            "_view_module_version": "1.2.0",
            "_model_module": "@jupyter-widgets/controls"
          }
        },
        "56b8787bf54e497e8d286e750244c59f": {
          "model_module": "@jupyter-widgets/base",
          "model_name": "LayoutModel",
          "state": {
            "_view_name": "LayoutView",
            "grid_template_rows": null,
            "right": null,
            "justify_content": null,
            "_view_module": "@jupyter-widgets/base",
            "overflow": null,
            "_model_module_version": "1.2.0",
            "_view_count": null,
            "flex_flow": null,
            "width": null,
            "min_width": null,
            "border": null,
            "align_items": null,
            "bottom": null,
            "_model_module": "@jupyter-widgets/base",
            "top": null,
            "grid_column": null,
            "overflow_y": null,
            "overflow_x": null,
            "grid_auto_flow": null,
            "grid_area": null,
            "grid_template_columns": null,
            "flex": null,
            "_model_name": "LayoutModel",
            "justify_items": null,
            "grid_row": null,
            "max_height": null,
            "align_content": null,
            "visibility": null,
            "align_self": null,
            "height": null,
            "min_height": null,
            "padding": null,
            "grid_auto_rows": null,
            "grid_gap": null,
            "max_width": null,
            "order": null,
            "_view_module_version": "1.2.0",
            "grid_template_areas": null,
            "object_position": null,
            "object_fit": null,
            "grid_auto_columns": null,
            "margin": null,
            "display": null,
            "left": null
          }
        },
        "cc10dcb43b8d408a9ac8d22e88abe2fe": {
          "model_module": "@jupyter-widgets/controls",
          "model_name": "ProgressStyleModel",
          "state": {
            "_view_name": "StyleView",
            "_model_name": "ProgressStyleModel",
            "description_width": "",
            "_view_module": "@jupyter-widgets/base",
            "_model_module_version": "1.5.0",
            "_view_count": null,
            "_view_module_version": "1.2.0",
            "bar_color": null,
            "_model_module": "@jupyter-widgets/controls"
          }
        },
        "36bfc1ad9ab94082b3775ee479add205": {
          "model_module": "@jupyter-widgets/base",
          "model_name": "LayoutModel",
          "state": {
            "_view_name": "LayoutView",
            "grid_template_rows": null,
            "right": null,
            "justify_content": null,
            "_view_module": "@jupyter-widgets/base",
            "overflow": null,
            "_model_module_version": "1.2.0",
            "_view_count": null,
            "flex_flow": null,
            "width": null,
            "min_width": null,
            "border": null,
            "align_items": null,
            "bottom": null,
            "_model_module": "@jupyter-widgets/base",
            "top": null,
            "grid_column": null,
            "overflow_y": null,
            "overflow_x": null,
            "grid_auto_flow": null,
            "grid_area": null,
            "grid_template_columns": null,
            "flex": null,
            "_model_name": "LayoutModel",
            "justify_items": null,
            "grid_row": null,
            "max_height": null,
            "align_content": null,
            "visibility": null,
            "align_self": null,
            "height": null,
            "min_height": null,
            "padding": null,
            "grid_auto_rows": null,
            "grid_gap": null,
            "max_width": null,
            "order": null,
            "_view_module_version": "1.2.0",
            "grid_template_areas": null,
            "object_position": null,
            "object_fit": null,
            "grid_auto_columns": null,
            "margin": null,
            "display": null,
            "left": null
          }
        },
        "614e7a454d154faf8ca4b7e5a3099e81": {
          "model_module": "@jupyter-widgets/controls",
          "model_name": "DescriptionStyleModel",
          "state": {
            "_view_name": "StyleView",
            "_model_name": "DescriptionStyleModel",
            "description_width": "",
            "_view_module": "@jupyter-widgets/base",
            "_model_module_version": "1.5.0",
            "_view_count": null,
            "_view_module_version": "1.2.0",
            "_model_module": "@jupyter-widgets/controls"
          }
        },
        "9592a8ad4c3d42bebe4e130738dfb191": {
          "model_module": "@jupyter-widgets/base",
          "model_name": "LayoutModel",
          "state": {
            "_view_name": "LayoutView",
            "grid_template_rows": null,
            "right": null,
            "justify_content": null,
            "_view_module": "@jupyter-widgets/base",
            "overflow": null,
            "_model_module_version": "1.2.0",
            "_view_count": null,
            "flex_flow": null,
            "width": null,
            "min_width": null,
            "border": null,
            "align_items": null,
            "bottom": null,
            "_model_module": "@jupyter-widgets/base",
            "top": null,
            "grid_column": null,
            "overflow_y": null,
            "overflow_x": null,
            "grid_auto_flow": null,
            "grid_area": null,
            "grid_template_columns": null,
            "flex": null,
            "_model_name": "LayoutModel",
            "justify_items": null,
            "grid_row": null,
            "max_height": null,
            "align_content": null,
            "visibility": null,
            "align_self": null,
            "height": null,
            "min_height": null,
            "padding": null,
            "grid_auto_rows": null,
            "grid_gap": null,
            "max_width": null,
            "order": null,
            "_view_module_version": "1.2.0",
            "grid_template_areas": null,
            "object_position": null,
            "object_fit": null,
            "grid_auto_columns": null,
            "margin": null,
            "display": null,
            "left": null
          }
        },
        "2a67d2e780bc4633b56a87416d505896": {
          "model_module": "@jupyter-widgets/controls",
          "model_name": "HBoxModel",
          "state": {
            "_view_name": "HBoxView",
            "_dom_classes": [],
            "_model_name": "HBoxModel",
            "_view_module": "@jupyter-widgets/controls",
            "_model_module_version": "1.5.0",
            "_view_count": null,
            "_view_module_version": "1.5.0",
            "box_style": "",
            "layout": "IPY_MODEL_59bf76d4b31845d5af8745c42ac8f6c3",
            "_model_module": "@jupyter-widgets/controls",
            "children": [
              "IPY_MODEL_9ea69c26bb1649a59416672180e127eb",
              "IPY_MODEL_630d0ff925e74419bf65674ef0e4563a",
              "IPY_MODEL_cd89ea5d97954a8a87cc706651b3f53a"
            ]
          }
        },
        "59bf76d4b31845d5af8745c42ac8f6c3": {
          "model_module": "@jupyter-widgets/base",
          "model_name": "LayoutModel",
          "state": {
            "_view_name": "LayoutView",
            "grid_template_rows": null,
            "right": null,
            "justify_content": null,
            "_view_module": "@jupyter-widgets/base",
            "overflow": null,
            "_model_module_version": "1.2.0",
            "_view_count": null,
            "flex_flow": null,
            "width": null,
            "min_width": null,
            "border": null,
            "align_items": null,
            "bottom": null,
            "_model_module": "@jupyter-widgets/base",
            "top": null,
            "grid_column": null,
            "overflow_y": null,
            "overflow_x": null,
            "grid_auto_flow": null,
            "grid_area": null,
            "grid_template_columns": null,
            "flex": null,
            "_model_name": "LayoutModel",
            "justify_items": null,
            "grid_row": null,
            "max_height": null,
            "align_content": null,
            "visibility": null,
            "align_self": null,
            "height": null,
            "min_height": null,
            "padding": null,
            "grid_auto_rows": null,
            "grid_gap": null,
            "max_width": null,
            "order": null,
            "_view_module_version": "1.2.0",
            "grid_template_areas": null,
            "object_position": null,
            "object_fit": null,
            "grid_auto_columns": null,
            "margin": null,
            "display": null,
            "left": null
          }
        },
        "9ea69c26bb1649a59416672180e127eb": {
          "model_module": "@jupyter-widgets/controls",
          "model_name": "HTMLModel",
          "state": {
            "_view_name": "HTMLView",
            "style": "IPY_MODEL_2bc5b2ccdab74d0ca471fb05fca95948",
            "_dom_classes": [],
            "description": "",
            "_model_name": "HTMLModel",
            "placeholder": "​",
            "_view_module": "@jupyter-widgets/controls",
            "_model_module_version": "1.5.0",
            "value": "Epochs 0/1. Running Loss:    0.6065: 100%",
            "_view_count": null,
            "_view_module_version": "1.5.0",
            "description_tooltip": null,
            "_model_module": "@jupyter-widgets/controls",
            "layout": "IPY_MODEL_7dddaf0288dc4d988b0655e53e3d3c17"
          }
        },
        "630d0ff925e74419bf65674ef0e4563a": {
          "model_module": "@jupyter-widgets/controls",
          "model_name": "FloatProgressModel",
          "state": {
            "_view_name": "ProgressView",
            "style": "IPY_MODEL_f0d07f9b5fd145a0befd3f6a0b7b9ec4",
            "_dom_classes": [],
            "description": "",
            "_model_name": "FloatProgressModel",
            "bar_style": "success",
            "max": 188,
            "_view_module": "@jupyter-widgets/controls",
            "_model_module_version": "1.5.0",
            "value": 188,
            "_view_count": null,
            "_view_module_version": "1.5.0",
            "orientation": "horizontal",
            "min": 0,
            "description_tooltip": null,
            "_model_module": "@jupyter-widgets/controls",
            "layout": "IPY_MODEL_252c81acb63a46b29205b7e6d68ff6d7"
          }
        },
        "cd89ea5d97954a8a87cc706651b3f53a": {
          "model_module": "@jupyter-widgets/controls",
          "model_name": "HTMLModel",
          "state": {
            "_view_name": "HTMLView",
            "style": "IPY_MODEL_698b1610640448c7b49659dc848da79b",
            "_dom_classes": [],
            "description": "",
            "_model_name": "HTMLModel",
            "placeholder": "​",
            "_view_module": "@jupyter-widgets/controls",
            "_model_module_version": "1.5.0",
            "value": " 188/188 [35:23&lt;00:00,  9.59s/it]",
            "_view_count": null,
            "_view_module_version": "1.5.0",
            "description_tooltip": null,
            "_model_module": "@jupyter-widgets/controls",
            "layout": "IPY_MODEL_7eebf9c2250e4b24b9a5357a404a4d36"
          }
        },
        "2bc5b2ccdab74d0ca471fb05fca95948": {
          "model_module": "@jupyter-widgets/controls",
          "model_name": "DescriptionStyleModel",
          "state": {
            "_view_name": "StyleView",
            "_model_name": "DescriptionStyleModel",
            "description_width": "",
            "_view_module": "@jupyter-widgets/base",
            "_model_module_version": "1.5.0",
            "_view_count": null,
            "_view_module_version": "1.2.0",
            "_model_module": "@jupyter-widgets/controls"
          }
        },
        "7dddaf0288dc4d988b0655e53e3d3c17": {
          "model_module": "@jupyter-widgets/base",
          "model_name": "LayoutModel",
          "state": {
            "_view_name": "LayoutView",
            "grid_template_rows": null,
            "right": null,
            "justify_content": null,
            "_view_module": "@jupyter-widgets/base",
            "overflow": null,
            "_model_module_version": "1.2.0",
            "_view_count": null,
            "flex_flow": null,
            "width": null,
            "min_width": null,
            "border": null,
            "align_items": null,
            "bottom": null,
            "_model_module": "@jupyter-widgets/base",
            "top": null,
            "grid_column": null,
            "overflow_y": null,
            "overflow_x": null,
            "grid_auto_flow": null,
            "grid_area": null,
            "grid_template_columns": null,
            "flex": null,
            "_model_name": "LayoutModel",
            "justify_items": null,
            "grid_row": null,
            "max_height": null,
            "align_content": null,
            "visibility": null,
            "align_self": null,
            "height": null,
            "min_height": null,
            "padding": null,
            "grid_auto_rows": null,
            "grid_gap": null,
            "max_width": null,
            "order": null,
            "_view_module_version": "1.2.0",
            "grid_template_areas": null,
            "object_position": null,
            "object_fit": null,
            "grid_auto_columns": null,
            "margin": null,
            "display": null,
            "left": null
          }
        },
        "f0d07f9b5fd145a0befd3f6a0b7b9ec4": {
          "model_module": "@jupyter-widgets/controls",
          "model_name": "ProgressStyleModel",
          "state": {
            "_view_name": "StyleView",
            "_model_name": "ProgressStyleModel",
            "description_width": "",
            "_view_module": "@jupyter-widgets/base",
            "_model_module_version": "1.5.0",
            "_view_count": null,
            "_view_module_version": "1.2.0",
            "bar_color": null,
            "_model_module": "@jupyter-widgets/controls"
          }
        },
        "252c81acb63a46b29205b7e6d68ff6d7": {
          "model_module": "@jupyter-widgets/base",
          "model_name": "LayoutModel",
          "state": {
            "_view_name": "LayoutView",
            "grid_template_rows": null,
            "right": null,
            "justify_content": null,
            "_view_module": "@jupyter-widgets/base",
            "overflow": null,
            "_model_module_version": "1.2.0",
            "_view_count": null,
            "flex_flow": null,
            "width": null,
            "min_width": null,
            "border": null,
            "align_items": null,
            "bottom": null,
            "_model_module": "@jupyter-widgets/base",
            "top": null,
            "grid_column": null,
            "overflow_y": null,
            "overflow_x": null,
            "grid_auto_flow": null,
            "grid_area": null,
            "grid_template_columns": null,
            "flex": null,
            "_model_name": "LayoutModel",
            "justify_items": null,
            "grid_row": null,
            "max_height": null,
            "align_content": null,
            "visibility": null,
            "align_self": null,
            "height": null,
            "min_height": null,
            "padding": null,
            "grid_auto_rows": null,
            "grid_gap": null,
            "max_width": null,
            "order": null,
            "_view_module_version": "1.2.0",
            "grid_template_areas": null,
            "object_position": null,
            "object_fit": null,
            "grid_auto_columns": null,
            "margin": null,
            "display": null,
            "left": null
          }
        },
        "698b1610640448c7b49659dc848da79b": {
          "model_module": "@jupyter-widgets/controls",
          "model_name": "DescriptionStyleModel",
          "state": {
            "_view_name": "StyleView",
            "_model_name": "DescriptionStyleModel",
            "description_width": "",
            "_view_module": "@jupyter-widgets/base",
            "_model_module_version": "1.5.0",
            "_view_count": null,
            "_view_module_version": "1.2.0",
            "_model_module": "@jupyter-widgets/controls"
          }
        },
        "7eebf9c2250e4b24b9a5357a404a4d36": {
          "model_module": "@jupyter-widgets/base",
          "model_name": "LayoutModel",
          "state": {
            "_view_name": "LayoutView",
            "grid_template_rows": null,
            "right": null,
            "justify_content": null,
            "_view_module": "@jupyter-widgets/base",
            "overflow": null,
            "_model_module_version": "1.2.0",
            "_view_count": null,
            "flex_flow": null,
            "width": null,
            "min_width": null,
            "border": null,
            "align_items": null,
            "bottom": null,
            "_model_module": "@jupyter-widgets/base",
            "top": null,
            "grid_column": null,
            "overflow_y": null,
            "overflow_x": null,
            "grid_auto_flow": null,
            "grid_area": null,
            "grid_template_columns": null,
            "flex": null,
            "_model_name": "LayoutModel",
            "justify_items": null,
            "grid_row": null,
            "max_height": null,
            "align_content": null,
            "visibility": null,
            "align_self": null,
            "height": null,
            "min_height": null,
            "padding": null,
            "grid_auto_rows": null,
            "grid_gap": null,
            "max_width": null,
            "order": null,
            "_view_module_version": "1.2.0",
            "grid_template_areas": null,
            "object_position": null,
            "object_fit": null,
            "grid_auto_columns": null,
            "margin": null,
            "display": null,
            "left": null
          }
        },
        "4d5ca4d56d7a4e4097763ef7db427cdf": {
          "model_module": "@jupyter-widgets/controls",
          "model_name": "HBoxModel",
          "state": {
            "_view_name": "HBoxView",
            "_dom_classes": [],
            "_model_name": "HBoxModel",
            "_view_module": "@jupyter-widgets/controls",
            "_model_module_version": "1.5.0",
            "_view_count": null,
            "_view_module_version": "1.5.0",
            "box_style": "",
            "layout": "IPY_MODEL_daaa3afa5a634a90bc15854267b92bbd",
            "_model_module": "@jupyter-widgets/controls",
            "children": [
              "IPY_MODEL_5dd591ded25e43f9b7e527c795cdfa32",
              "IPY_MODEL_b56f930d46c647edb82271b788fd95bd",
              "IPY_MODEL_016e5bad514f47f282f1eaf91a90df6a"
            ]
          }
        },
        "daaa3afa5a634a90bc15854267b92bbd": {
          "model_module": "@jupyter-widgets/base",
          "model_name": "LayoutModel",
          "state": {
            "_view_name": "LayoutView",
            "grid_template_rows": null,
            "right": null,
            "justify_content": null,
            "_view_module": "@jupyter-widgets/base",
            "overflow": null,
            "_model_module_version": "1.2.0",
            "_view_count": null,
            "flex_flow": null,
            "width": null,
            "min_width": null,
            "border": null,
            "align_items": null,
            "bottom": null,
            "_model_module": "@jupyter-widgets/base",
            "top": null,
            "grid_column": null,
            "overflow_y": null,
            "overflow_x": null,
            "grid_auto_flow": null,
            "grid_area": null,
            "grid_template_columns": null,
            "flex": null,
            "_model_name": "LayoutModel",
            "justify_items": null,
            "grid_row": null,
            "max_height": null,
            "align_content": null,
            "visibility": null,
            "align_self": null,
            "height": null,
            "min_height": null,
            "padding": null,
            "grid_auto_rows": null,
            "grid_gap": null,
            "max_width": null,
            "order": null,
            "_view_module_version": "1.2.0",
            "grid_template_areas": null,
            "object_position": null,
            "object_fit": null,
            "grid_auto_columns": null,
            "margin": null,
            "display": null,
            "left": null
          }
        },
        "5dd591ded25e43f9b7e527c795cdfa32": {
          "model_module": "@jupyter-widgets/controls",
          "model_name": "HTMLModel",
          "state": {
            "_view_name": "HTMLView",
            "style": "IPY_MODEL_a86ec260faa84f78bb53d5d24ba09be4",
            "_dom_classes": [],
            "description": "",
            "_model_name": "HTMLModel",
            "placeholder": "​",
            "_view_module": "@jupyter-widgets/controls",
            "_model_module_version": "1.5.0",
            "value": "  0%",
            "_view_count": null,
            "_view_module_version": "1.5.0",
            "description_tooltip": null,
            "_model_module": "@jupyter-widgets/controls",
            "layout": "IPY_MODEL_3881bd069bf8435e81fe1ad606e5062f"
          }
        },
        "b56f930d46c647edb82271b788fd95bd": {
          "model_module": "@jupyter-widgets/controls",
          "model_name": "FloatProgressModel",
          "state": {
            "_view_name": "ProgressView",
            "style": "IPY_MODEL_99c5fc821de444faa41f769fea3a175f",
            "_dom_classes": [],
            "description": "",
            "_model_name": "FloatProgressModel",
            "bar_style": "danger",
            "max": 400,
            "_view_module": "@jupyter-widgets/controls",
            "_model_module_version": "1.5.0",
            "value": 1,
            "_view_count": null,
            "_view_module_version": "1.5.0",
            "orientation": "horizontal",
            "min": 0,
            "description_tooltip": null,
            "_model_module": "@jupyter-widgets/controls",
            "layout": "IPY_MODEL_ea562dfee7f54518b04fcdbc2c8ca86f"
          }
        },
        "016e5bad514f47f282f1eaf91a90df6a": {
          "model_module": "@jupyter-widgets/controls",
          "model_name": "HTMLModel",
          "state": {
            "_view_name": "HTMLView",
            "style": "IPY_MODEL_423fd6c42e7e419d9c74d66c8f351953",
            "_dom_classes": [],
            "description": "",
            "_model_name": "HTMLModel",
            "placeholder": "​",
            "_view_module": "@jupyter-widgets/controls",
            "_model_module_version": "1.5.0",
            "value": " 1/400 [00:00&lt;02:50,  2.34it/s]",
            "_view_count": null,
            "_view_module_version": "1.5.0",
            "description_tooltip": null,
            "_model_module": "@jupyter-widgets/controls",
            "layout": "IPY_MODEL_e7eb2828b9794467bb04191f2bf9179d"
          }
        },
        "a86ec260faa84f78bb53d5d24ba09be4": {
          "model_module": "@jupyter-widgets/controls",
          "model_name": "DescriptionStyleModel",
          "state": {
            "_view_name": "StyleView",
            "_model_name": "DescriptionStyleModel",
            "description_width": "",
            "_view_module": "@jupyter-widgets/base",
            "_model_module_version": "1.5.0",
            "_view_count": null,
            "_view_module_version": "1.2.0",
            "_model_module": "@jupyter-widgets/controls"
          }
        },
        "3881bd069bf8435e81fe1ad606e5062f": {
          "model_module": "@jupyter-widgets/base",
          "model_name": "LayoutModel",
          "state": {
            "_view_name": "LayoutView",
            "grid_template_rows": null,
            "right": null,
            "justify_content": null,
            "_view_module": "@jupyter-widgets/base",
            "overflow": null,
            "_model_module_version": "1.2.0",
            "_view_count": null,
            "flex_flow": null,
            "width": null,
            "min_width": null,
            "border": null,
            "align_items": null,
            "bottom": null,
            "_model_module": "@jupyter-widgets/base",
            "top": null,
            "grid_column": null,
            "overflow_y": null,
            "overflow_x": null,
            "grid_auto_flow": null,
            "grid_area": null,
            "grid_template_columns": null,
            "flex": null,
            "_model_name": "LayoutModel",
            "justify_items": null,
            "grid_row": null,
            "max_height": null,
            "align_content": null,
            "visibility": null,
            "align_self": null,
            "height": null,
            "min_height": null,
            "padding": null,
            "grid_auto_rows": null,
            "grid_gap": null,
            "max_width": null,
            "order": null,
            "_view_module_version": "1.2.0",
            "grid_template_areas": null,
            "object_position": null,
            "object_fit": null,
            "grid_auto_columns": null,
            "margin": null,
            "display": null,
            "left": null
          }
        },
        "99c5fc821de444faa41f769fea3a175f": {
          "model_module": "@jupyter-widgets/controls",
          "model_name": "ProgressStyleModel",
          "state": {
            "_view_name": "StyleView",
            "_model_name": "ProgressStyleModel",
            "description_width": "",
            "_view_module": "@jupyter-widgets/base",
            "_model_module_version": "1.5.0",
            "_view_count": null,
            "_view_module_version": "1.2.0",
            "bar_color": null,
            "_model_module": "@jupyter-widgets/controls"
          }
        },
        "ea562dfee7f54518b04fcdbc2c8ca86f": {
          "model_module": "@jupyter-widgets/base",
          "model_name": "LayoutModel",
          "state": {
            "_view_name": "LayoutView",
            "grid_template_rows": null,
            "right": null,
            "justify_content": null,
            "_view_module": "@jupyter-widgets/base",
            "overflow": null,
            "_model_module_version": "1.2.0",
            "_view_count": null,
            "flex_flow": null,
            "width": null,
            "min_width": null,
            "border": null,
            "align_items": null,
            "bottom": null,
            "_model_module": "@jupyter-widgets/base",
            "top": null,
            "grid_column": null,
            "overflow_y": null,
            "overflow_x": null,
            "grid_auto_flow": null,
            "grid_area": null,
            "grid_template_columns": null,
            "flex": null,
            "_model_name": "LayoutModel",
            "justify_items": null,
            "grid_row": null,
            "max_height": null,
            "align_content": null,
            "visibility": null,
            "align_self": null,
            "height": null,
            "min_height": null,
            "padding": null,
            "grid_auto_rows": null,
            "grid_gap": null,
            "max_width": null,
            "order": null,
            "_view_module_version": "1.2.0",
            "grid_template_areas": null,
            "object_position": null,
            "object_fit": null,
            "grid_auto_columns": null,
            "margin": null,
            "display": null,
            "left": null
          }
        },
        "423fd6c42e7e419d9c74d66c8f351953": {
          "model_module": "@jupyter-widgets/controls",
          "model_name": "DescriptionStyleModel",
          "state": {
            "_view_name": "StyleView",
            "_model_name": "DescriptionStyleModel",
            "description_width": "",
            "_view_module": "@jupyter-widgets/base",
            "_model_module_version": "1.5.0",
            "_view_count": null,
            "_view_module_version": "1.2.0",
            "_model_module": "@jupyter-widgets/controls"
          }
        },
        "e7eb2828b9794467bb04191f2bf9179d": {
          "model_module": "@jupyter-widgets/base",
          "model_name": "LayoutModel",
          "state": {
            "_view_name": "LayoutView",
            "grid_template_rows": null,
            "right": null,
            "justify_content": null,
            "_view_module": "@jupyter-widgets/base",
            "overflow": null,
            "_model_module_version": "1.2.0",
            "_view_count": null,
            "flex_flow": null,
            "width": null,
            "min_width": null,
            "border": null,
            "align_items": null,
            "bottom": null,
            "_model_module": "@jupyter-widgets/base",
            "top": null,
            "grid_column": null,
            "overflow_y": null,
            "overflow_x": null,
            "grid_auto_flow": null,
            "grid_area": null,
            "grid_template_columns": null,
            "flex": null,
            "_model_name": "LayoutModel",
            "justify_items": null,
            "grid_row": null,
            "max_height": null,
            "align_content": null,
            "visibility": null,
            "align_self": null,
            "height": null,
            "min_height": null,
            "padding": null,
            "grid_auto_rows": null,
            "grid_gap": null,
            "max_width": null,
            "order": null,
            "_view_module_version": "1.2.0",
            "grid_template_areas": null,
            "object_position": null,
            "object_fit": null,
            "grid_auto_columns": null,
            "margin": null,
            "display": null,
            "left": null
          }
        },
        "3e4e08dd29664c2b85b3296e4e7d86ee": {
          "model_module": "@jupyter-widgets/controls",
          "model_name": "HBoxModel",
          "state": {
            "_view_name": "HBoxView",
            "_dom_classes": [],
            "_model_name": "HBoxModel",
            "_view_module": "@jupyter-widgets/controls",
            "_model_module_version": "1.5.0",
            "_view_count": null,
            "_view_module_version": "1.5.0",
            "box_style": "",
            "layout": "IPY_MODEL_2b43edba03de4947a9e30c613610f587",
            "_model_module": "@jupyter-widgets/controls",
            "children": [
              "IPY_MODEL_de18dbe1d6e44418993703ee2f55fb00",
              "IPY_MODEL_f0af658c51f749a5af523758d6a96ced",
              "IPY_MODEL_54cf6cc3cb7f425389a6e55a282cab70"
            ]
          }
        },
        "2b43edba03de4947a9e30c613610f587": {
          "model_module": "@jupyter-widgets/base",
          "model_name": "LayoutModel",
          "state": {
            "_view_name": "LayoutView",
            "grid_template_rows": null,
            "right": null,
            "justify_content": null,
            "_view_module": "@jupyter-widgets/base",
            "overflow": null,
            "_model_module_version": "1.2.0",
            "_view_count": null,
            "flex_flow": null,
            "width": null,
            "min_width": null,
            "border": null,
            "align_items": null,
            "bottom": null,
            "_model_module": "@jupyter-widgets/base",
            "top": null,
            "grid_column": null,
            "overflow_y": null,
            "overflow_x": null,
            "grid_auto_flow": null,
            "grid_area": null,
            "grid_template_columns": null,
            "flex": null,
            "_model_name": "LayoutModel",
            "justify_items": null,
            "grid_row": null,
            "max_height": null,
            "align_content": null,
            "visibility": null,
            "align_self": null,
            "height": null,
            "min_height": null,
            "padding": null,
            "grid_auto_rows": null,
            "grid_gap": null,
            "max_width": null,
            "order": null,
            "_view_module_version": "1.2.0",
            "grid_template_areas": null,
            "object_position": null,
            "object_fit": null,
            "grid_auto_columns": null,
            "margin": null,
            "display": null,
            "left": null
          }
        },
        "de18dbe1d6e44418993703ee2f55fb00": {
          "model_module": "@jupyter-widgets/controls",
          "model_name": "HTMLModel",
          "state": {
            "_view_name": "HTMLView",
            "style": "IPY_MODEL_0e92dbbec7804c0b91906343b5721e06",
            "_dom_classes": [],
            "description": "",
            "_model_name": "HTMLModel",
            "placeholder": "​",
            "_view_module": "@jupyter-widgets/controls",
            "_model_module_version": "1.5.0",
            "value": "Running Evaluation: 100%",
            "_view_count": null,
            "_view_module_version": "1.5.0",
            "description_tooltip": null,
            "_model_module": "@jupyter-widgets/controls",
            "layout": "IPY_MODEL_b2b81b0b2b094aaeb2f4398ae6c27999"
          }
        },
        "f0af658c51f749a5af523758d6a96ced": {
          "model_module": "@jupyter-widgets/controls",
          "model_name": "FloatProgressModel",
          "state": {
            "_view_name": "ProgressView",
            "style": "IPY_MODEL_09bcb77d875e4c2b8bdc571e0ae4c314",
            "_dom_classes": [],
            "description": "",
            "_model_name": "FloatProgressModel",
            "bar_style": "success",
            "max": 50,
            "_view_module": "@jupyter-widgets/controls",
            "_model_module_version": "1.5.0",
            "value": 50,
            "_view_count": null,
            "_view_module_version": "1.5.0",
            "orientation": "horizontal",
            "min": 0,
            "description_tooltip": null,
            "_model_module": "@jupyter-widgets/controls",
            "layout": "IPY_MODEL_4bd4120325a04eb8b4d3308fd096cbb6"
          }
        },
        "54cf6cc3cb7f425389a6e55a282cab70": {
          "model_module": "@jupyter-widgets/controls",
          "model_name": "HTMLModel",
          "state": {
            "_view_name": "HTMLView",
            "style": "IPY_MODEL_24e280f717db4a1d8d60e0e194a3a39b",
            "_dom_classes": [],
            "description": "",
            "_model_name": "HTMLModel",
            "placeholder": "​",
            "_view_module": "@jupyter-widgets/controls",
            "_model_module_version": "1.5.0",
            "value": " 50/50 [02:39&lt;00:00,  3.26s/it]",
            "_view_count": null,
            "_view_module_version": "1.5.0",
            "description_tooltip": null,
            "_model_module": "@jupyter-widgets/controls",
            "layout": "IPY_MODEL_c71b2ae59e9146748a6be9c8d5951b2b"
          }
        },
        "0e92dbbec7804c0b91906343b5721e06": {
          "model_module": "@jupyter-widgets/controls",
          "model_name": "DescriptionStyleModel",
          "state": {
            "_view_name": "StyleView",
            "_model_name": "DescriptionStyleModel",
            "description_width": "",
            "_view_module": "@jupyter-widgets/base",
            "_model_module_version": "1.5.0",
            "_view_count": null,
            "_view_module_version": "1.2.0",
            "_model_module": "@jupyter-widgets/controls"
          }
        },
        "b2b81b0b2b094aaeb2f4398ae6c27999": {
          "model_module": "@jupyter-widgets/base",
          "model_name": "LayoutModel",
          "state": {
            "_view_name": "LayoutView",
            "grid_template_rows": null,
            "right": null,
            "justify_content": null,
            "_view_module": "@jupyter-widgets/base",
            "overflow": null,
            "_model_module_version": "1.2.0",
            "_view_count": null,
            "flex_flow": null,
            "width": null,
            "min_width": null,
            "border": null,
            "align_items": null,
            "bottom": null,
            "_model_module": "@jupyter-widgets/base",
            "top": null,
            "grid_column": null,
            "overflow_y": null,
            "overflow_x": null,
            "grid_auto_flow": null,
            "grid_area": null,
            "grid_template_columns": null,
            "flex": null,
            "_model_name": "LayoutModel",
            "justify_items": null,
            "grid_row": null,
            "max_height": null,
            "align_content": null,
            "visibility": null,
            "align_self": null,
            "height": null,
            "min_height": null,
            "padding": null,
            "grid_auto_rows": null,
            "grid_gap": null,
            "max_width": null,
            "order": null,
            "_view_module_version": "1.2.0",
            "grid_template_areas": null,
            "object_position": null,
            "object_fit": null,
            "grid_auto_columns": null,
            "margin": null,
            "display": null,
            "left": null
          }
        },
        "09bcb77d875e4c2b8bdc571e0ae4c314": {
          "model_module": "@jupyter-widgets/controls",
          "model_name": "ProgressStyleModel",
          "state": {
            "_view_name": "StyleView",
            "_model_name": "ProgressStyleModel",
            "description_width": "",
            "_view_module": "@jupyter-widgets/base",
            "_model_module_version": "1.5.0",
            "_view_count": null,
            "_view_module_version": "1.2.0",
            "bar_color": null,
            "_model_module": "@jupyter-widgets/controls"
          }
        },
        "4bd4120325a04eb8b4d3308fd096cbb6": {
          "model_module": "@jupyter-widgets/base",
          "model_name": "LayoutModel",
          "state": {
            "_view_name": "LayoutView",
            "grid_template_rows": null,
            "right": null,
            "justify_content": null,
            "_view_module": "@jupyter-widgets/base",
            "overflow": null,
            "_model_module_version": "1.2.0",
            "_view_count": null,
            "flex_flow": null,
            "width": null,
            "min_width": null,
            "border": null,
            "align_items": null,
            "bottom": null,
            "_model_module": "@jupyter-widgets/base",
            "top": null,
            "grid_column": null,
            "overflow_y": null,
            "overflow_x": null,
            "grid_auto_flow": null,
            "grid_area": null,
            "grid_template_columns": null,
            "flex": null,
            "_model_name": "LayoutModel",
            "justify_items": null,
            "grid_row": null,
            "max_height": null,
            "align_content": null,
            "visibility": null,
            "align_self": null,
            "height": null,
            "min_height": null,
            "padding": null,
            "grid_auto_rows": null,
            "grid_gap": null,
            "max_width": null,
            "order": null,
            "_view_module_version": "1.2.0",
            "grid_template_areas": null,
            "object_position": null,
            "object_fit": null,
            "grid_auto_columns": null,
            "margin": null,
            "display": null,
            "left": null
          }
        },
        "24e280f717db4a1d8d60e0e194a3a39b": {
          "model_module": "@jupyter-widgets/controls",
          "model_name": "DescriptionStyleModel",
          "state": {
            "_view_name": "StyleView",
            "_model_name": "DescriptionStyleModel",
            "description_width": "",
            "_view_module": "@jupyter-widgets/base",
            "_model_module_version": "1.5.0",
            "_view_count": null,
            "_view_module_version": "1.2.0",
            "_model_module": "@jupyter-widgets/controls"
          }
        },
        "c71b2ae59e9146748a6be9c8d5951b2b": {
          "model_module": "@jupyter-widgets/base",
          "model_name": "LayoutModel",
          "state": {
            "_view_name": "LayoutView",
            "grid_template_rows": null,
            "right": null,
            "justify_content": null,
            "_view_module": "@jupyter-widgets/base",
            "overflow": null,
            "_model_module_version": "1.2.0",
            "_view_count": null,
            "flex_flow": null,
            "width": null,
            "min_width": null,
            "border": null,
            "align_items": null,
            "bottom": null,
            "_model_module": "@jupyter-widgets/base",
            "top": null,
            "grid_column": null,
            "overflow_y": null,
            "overflow_x": null,
            "grid_auto_flow": null,
            "grid_area": null,
            "grid_template_columns": null,
            "flex": null,
            "_model_name": "LayoutModel",
            "justify_items": null,
            "grid_row": null,
            "max_height": null,
            "align_content": null,
            "visibility": null,
            "align_self": null,
            "height": null,
            "min_height": null,
            "padding": null,
            "grid_auto_rows": null,
            "grid_gap": null,
            "max_width": null,
            "order": null,
            "_view_module_version": "1.2.0",
            "grid_template_areas": null,
            "object_position": null,
            "object_fit": null,
            "grid_auto_columns": null,
            "margin": null,
            "display": null,
            "left": null
          }
        }
      }
    }
  },
  "cells": [
    {
      "cell_type": "code",
      "metadata": {
        "id": "8GlaCwmIUMOK"
      },
      "source": [
        "import pandas as pd\n",
        "import numpy as np"
      ],
      "execution_count": null,
      "outputs": []
    },
    {
      "cell_type": "code",
      "metadata": {
        "id": "djelMo2qUMOQ"
      },
      "source": [
        "word =pd.read_csv(\"finalwords.csv\")"
      ],
      "execution_count": null,
      "outputs": []
    },
    {
      "cell_type": "code",
      "metadata": {
        "id": "4jDfyoNBUMOQ"
      },
      "source": [
        "word.drop(columns = [\"Unnamed: 0\"],inplace=True)"
      ],
      "execution_count": null,
      "outputs": []
    },
    {
      "cell_type": "code",
      "metadata": {
        "id": "37rlbTjdUMOR"
      },
      "source": [
        "word.columns = [\"words\"]"
      ],
      "execution_count": null,
      "outputs": []
    },
    {
      "cell_type": "code",
      "metadata": {
        "colab": {
          "base_uri": "https://localhost:8080/",
          "height": 402
        },
        "id": "KOjwi0HDUMOR",
        "outputId": "bd833e0a-7b34-447c-ac10-fc85a654bab6"
      },
      "source": [
        "word"
      ],
      "execution_count": null,
      "outputs": [
        {
          "output_type": "execute_result",
          "data": {
            "text/html": [
              "<div>\n",
              "<style scoped>\n",
              "    .dataframe tbody tr th:only-of-type {\n",
              "        vertical-align: middle;\n",
              "    }\n",
              "\n",
              "    .dataframe tbody tr th {\n",
              "        vertical-align: top;\n",
              "    }\n",
              "\n",
              "    .dataframe thead th {\n",
              "        text-align: right;\n",
              "    }\n",
              "</style>\n",
              "<table border=\"1\" class=\"dataframe\">\n",
              "  <thead>\n",
              "    <tr style=\"text-align: right;\">\n",
              "      <th></th>\n",
              "      <th>words</th>\n",
              "    </tr>\n",
              "  </thead>\n",
              "  <tbody>\n",
              "    <tr>\n",
              "      <th>0</th>\n",
              "      <td>people</td>\n",
              "    </tr>\n",
              "    <tr>\n",
              "      <th>1</th>\n",
              "      <td>cases</td>\n",
              "    </tr>\n",
              "    <tr>\n",
              "      <th>2</th>\n",
              "      <td>stay</td>\n",
              "    </tr>\n",
              "    <tr>\n",
              "      <th>3</th>\n",
              "      <td>coronavirus</td>\n",
              "    </tr>\n",
              "    <tr>\n",
              "      <th>4</th>\n",
              "      <td>covid_19</td>\n",
              "    </tr>\n",
              "    <tr>\n",
              "      <th>...</th>\n",
              "      <td>...</td>\n",
              "    </tr>\n",
              "    <tr>\n",
              "      <th>289</th>\n",
              "      <td>realdonaldtrumpin</td>\n",
              "    </tr>\n",
              "    <tr>\n",
              "      <th>290</th>\n",
              "      <td>stayhomeindia</td>\n",
              "    </tr>\n",
              "    <tr>\n",
              "      <th>291</th>\n",
              "      <td>stayhomesaveliveswhen</td>\n",
              "    </tr>\n",
              "    <tr>\n",
              "      <th>292</th>\n",
              "      <td>stayhomesavelivesmake</td>\n",
              "    </tr>\n",
              "    <tr>\n",
              "      <th>293</th>\n",
              "      <td>music</td>\n",
              "    </tr>\n",
              "  </tbody>\n",
              "</table>\n",
              "<p>294 rows × 1 columns</p>\n",
              "</div>"
            ],
            "text/plain": [
              "                     words\n",
              "0                   people\n",
              "1                    cases\n",
              "2                     stay\n",
              "3              coronavirus\n",
              "4                 covid_19\n",
              "..                     ...\n",
              "289      realdonaldtrumpin\n",
              "290          stayhomeindia\n",
              "291  stayhomesaveliveswhen\n",
              "292  stayhomesavelivesmake\n",
              "293                  music\n",
              "\n",
              "[294 rows x 1 columns]"
            ]
          },
          "metadata": {
            "tags": []
          },
          "execution_count": 76
        }
      ]
    },
    {
      "cell_type": "code",
      "metadata": {
        "id": "kzErrUSqUMOS"
      },
      "source": [
        "words = word[\"words\"].unique()"
      ],
      "execution_count": null,
      "outputs": []
    },
    {
      "cell_type": "code",
      "metadata": {
        "id": "IT4DS4YdUMOT",
        "colab": {
          "base_uri": "https://localhost:8080/"
        },
        "outputId": "dbe80607-167a-4d3a-8c90-45044ea26a40"
      },
      "source": [
        "words"
      ],
      "execution_count": null,
      "outputs": [
        {
          "output_type": "execute_result",
          "data": {
            "text/plain": [
              "array(['people', 'cases', 'stay', 'coronavirus', 'covid_19', 'deaths',\n",
              "       'home', 'covid', 'stayathomeandstaysafedied', 'confirmed', 'safe',\n",
              "       'death', 'borisjohnson', 'dying', 'healthy', 'coronaupdate',\n",
              "       'toll', 'corona', 'die', 'number', 'latest',\n",
              "       'lockdowneffecttested', 'reported', 'save', 'news', 'boris',\n",
              "       'virus', 'positive', 'staying', 'authorities', 'covid2019', 'need',\n",
              "       'tweets', 'coronavirustruthpositive', 'recovered', 'lives',\n",
              "       'coronalockdownthink', 'nigeria', 'covid19pandemicvirus', 'april',\n",
              "       'stayhomesavelivesmasks', 'socialdistancinginfected', 'today',\n",
              "       'wash', 'canadian', 'hope', 'government', 'million', 'strong',\n",
              "       'how', 'why', 'hands', 'spain', 'whencoronavirusisoverthere',\n",
              "       'state', 'working', 'what', 'stayathome', 'discharged', 'outbreak',\n",
              "       'recovery', 'stop', 'worldwide', 'inside', 'understand', 'update',\n",
              "       'work', 'china', 'thelockdown', 'county', 'protect', 'nhs',\n",
              "       'cancelstudentdebtkeep', 'support', 'studentdebtstimuluspetition',\n",
              "       'family', 'together', 'stimulate', 'debt', 'sign', 'community',\n",
              "       'coronavirusoutbreaksupport', 'student', 'ukchange', 'food',\n",
              "       'fight', 'package', 'uk', 'patients', 'must', 'urge', 'ppe',\n",
              "       'live', 'friends', 'frontline', 'test', 'help', 'economy', 'great',\n",
              "       'stand', 'next', 'govt', 'staff', 'times', 'provide', 'others',\n",
              "       'coronavirusupdatescommunity', 'needed', 'team', 'tested', 'beat',\n",
              "       'via', 'first', 'continue', 'speakerpelosi', 'youtube', 'many',\n",
              "       'disease', 'medical', 'died', 'win', 'moneyforthepeoplein',\n",
              "       'change', 'updates', 'overcome', 'response', 'alerted', 'crisis',\n",
              "       'trump', 'new', 'realdonaldtrumpto', 'york', 'who', 'city',\n",
              "       'spread', 'president', 'nyc', 'god', 'normal', 'feel', 'symptoms',\n",
              "       'americans', 'newyork', 'app', 'potus', 'jersey', 'self', 'join',\n",
              "       'america', 'daily', 'reports', 'slow', 'donald', 'best', 'total',\n",
              "       'risk', 'states', 'brooklyn', 'download', 'newyorkcity', 'allah',\n",
              "       'cnn', 'yorkers', 'identify', 'media', 'zealand', 'reporting',\n",
              "       'funding', 'record', 'orleans', 'press', 'country', 'manhattan',\n",
              "       'surpasses', 'hoax', 'isolation', 'pray', 'trumppressconfreal',\n",
              "       'prevent', 'lord', 'lockdown', 'stayhome', 'health',\n",
              "       'coronaviruspandemicstayathome', 'staysafe', 'care', 'extended',\n",
              "       'workers', 'india', 'real', 'socialdistancinghealthcare',\n",
              "       'coronavirusoutbreakapril', 'stayhomesavelivespublic',\n",
              "       'covid19pandemictill', 'stayhealthy', 'stayhomesavelivesdays',\n",
              "       'flattenthecurvedoctors', 'washyourhands', 'hospital',\n",
              "       'coronavirususadue', 'savelives', 'nurses', 'weeks', 'love',\n",
              "       'coronavirusupdatecorona', 'life', 'quarantineactivitiesextend',\n",
              "       'sad', 'easter', 'mental', 'coronavirusupdates2020', 'staystrong',\n",
              "       'masks', 'london', 'besafe', 'living', 'lockdown2020', 'essential',\n",
              "       'coronalockdownpolice', 'needs', 'everyone', 'end', 'minister',\n",
              "       'coronavirustruthday', 'world', 'time', 'social', 'distancing',\n",
              "       'socialdistancingone', 'difficult', 'distance', 'practice',\n",
              "       'physical', 'countries', 'would', 'long', 'practicing', 'week',\n",
              "       'chinese', 'maintain', 'morning', 'war', 'usa', 'happy',\n",
              "       'coronavirusoutbreakthink', 'last', 'wuhan', 'measures', 'night',\n",
              "       'rules', 'rest', 'spending', 'guidelines', 'beautiful', 'global',\n",
              "       'right', 'mask', 'make', 'face', 'good', 'important',\n",
              "       'stayhomestaysafeplease', 'quarantine', 'pandemic', 'narendramodi',\n",
              "       'quarantinelifethank', 'share', 'socialdistancingknow', 'days',\n",
              "       'leaders', 'indiafightscoronasomeone', 'oneworld', 'pmoindia',\n",
              "       'quarantineandchillre', 'plan', 'defeat', 'pm', 'donate', 'heroes',\n",
              "       'follow', 'doctors', 'retweet', 'california', 'read', 'tiktok',\n",
              "       'bored', 'service', 'amid', 'dear', 'realdonaldtrumpin',\n",
              "       'stayhomeindia', 'stayhomesaveliveswhen', 'stayhomesavelivesmake',\n",
              "       'music'], dtype=object)"
            ]
          },
          "metadata": {
            "tags": []
          },
          "execution_count": 78
        }
      ]
    },
    {
      "cell_type": "code",
      "metadata": {
        "id": "pP3N0e6vUMOT"
      },
      "source": [
        "data= pd.read_csv(\"clean_df.csv\")"
      ],
      "execution_count": null,
      "outputs": []
    },
    {
      "cell_type": "code",
      "metadata": {
        "id": "LbmxnbahUMOT",
        "colab": {
          "base_uri": "https://localhost:8080/",
          "height": 303
        },
        "outputId": "dea61154-8939-43a3-c956-ca032f45553f"
      },
      "source": [
        "data.drop(columns = [\"Unnamed: 0\",\"lang\",\"created_at\",\"time\"],inplace=True)"
      ],
      "execution_count": null,
      "outputs": [
        {
          "output_type": "error",
          "ename": "KeyError",
          "evalue": "ignored",
          "traceback": [
            "\u001b[0;31m---------------------------------------------------------------------------\u001b[0m",
            "\u001b[0;31mKeyError\u001b[0m                                  Traceback (most recent call last)",
            "\u001b[0;32m<ipython-input-116-911cbef6fbdd>\u001b[0m in \u001b[0;36m<module>\u001b[0;34m()\u001b[0m\n\u001b[0;32m----> 1\u001b[0;31m \u001b[0mdata\u001b[0m\u001b[0;34m.\u001b[0m\u001b[0mdrop\u001b[0m\u001b[0;34m(\u001b[0m\u001b[0mcolumns\u001b[0m \u001b[0;34m=\u001b[0m \u001b[0;34m[\u001b[0m\u001b[0;34m\"Unnamed: 0\"\u001b[0m\u001b[0;34m,\u001b[0m\u001b[0;34m\"lang\"\u001b[0m\u001b[0;34m,\u001b[0m\u001b[0;34m\"created_at\"\u001b[0m\u001b[0;34m,\u001b[0m\u001b[0;34m\"time\"\u001b[0m\u001b[0;34m]\u001b[0m\u001b[0;34m,\u001b[0m\u001b[0minplace\u001b[0m\u001b[0;34m=\u001b[0m\u001b[0;32mTrue\u001b[0m\u001b[0;34m)\u001b[0m\u001b[0;34m\u001b[0m\u001b[0;34m\u001b[0m\u001b[0m\n\u001b[0m",
            "\u001b[0;32m/usr/local/lib/python3.7/dist-packages/pandas/core/frame.py\u001b[0m in \u001b[0;36mdrop\u001b[0;34m(self, labels, axis, index, columns, level, inplace, errors)\u001b[0m\n\u001b[1;32m   4172\u001b[0m             \u001b[0mlevel\u001b[0m\u001b[0;34m=\u001b[0m\u001b[0mlevel\u001b[0m\u001b[0;34m,\u001b[0m\u001b[0;34m\u001b[0m\u001b[0;34m\u001b[0m\u001b[0m\n\u001b[1;32m   4173\u001b[0m             \u001b[0minplace\u001b[0m\u001b[0;34m=\u001b[0m\u001b[0minplace\u001b[0m\u001b[0;34m,\u001b[0m\u001b[0;34m\u001b[0m\u001b[0;34m\u001b[0m\u001b[0m\n\u001b[0;32m-> 4174\u001b[0;31m             \u001b[0merrors\u001b[0m\u001b[0;34m=\u001b[0m\u001b[0merrors\u001b[0m\u001b[0;34m,\u001b[0m\u001b[0;34m\u001b[0m\u001b[0;34m\u001b[0m\u001b[0m\n\u001b[0m\u001b[1;32m   4175\u001b[0m         )\n\u001b[1;32m   4176\u001b[0m \u001b[0;34m\u001b[0m\u001b[0m\n",
            "\u001b[0;32m/usr/local/lib/python3.7/dist-packages/pandas/core/generic.py\u001b[0m in \u001b[0;36mdrop\u001b[0;34m(self, labels, axis, index, columns, level, inplace, errors)\u001b[0m\n\u001b[1;32m   3887\u001b[0m         \u001b[0;32mfor\u001b[0m \u001b[0maxis\u001b[0m\u001b[0;34m,\u001b[0m \u001b[0mlabels\u001b[0m \u001b[0;32min\u001b[0m \u001b[0maxes\u001b[0m\u001b[0;34m.\u001b[0m\u001b[0mitems\u001b[0m\u001b[0;34m(\u001b[0m\u001b[0;34m)\u001b[0m\u001b[0;34m:\u001b[0m\u001b[0;34m\u001b[0m\u001b[0;34m\u001b[0m\u001b[0m\n\u001b[1;32m   3888\u001b[0m             \u001b[0;32mif\u001b[0m \u001b[0mlabels\u001b[0m \u001b[0;32mis\u001b[0m \u001b[0;32mnot\u001b[0m \u001b[0;32mNone\u001b[0m\u001b[0;34m:\u001b[0m\u001b[0;34m\u001b[0m\u001b[0;34m\u001b[0m\u001b[0m\n\u001b[0;32m-> 3889\u001b[0;31m                 \u001b[0mobj\u001b[0m \u001b[0;34m=\u001b[0m \u001b[0mobj\u001b[0m\u001b[0;34m.\u001b[0m\u001b[0m_drop_axis\u001b[0m\u001b[0;34m(\u001b[0m\u001b[0mlabels\u001b[0m\u001b[0;34m,\u001b[0m \u001b[0maxis\u001b[0m\u001b[0;34m,\u001b[0m \u001b[0mlevel\u001b[0m\u001b[0;34m=\u001b[0m\u001b[0mlevel\u001b[0m\u001b[0;34m,\u001b[0m \u001b[0merrors\u001b[0m\u001b[0;34m=\u001b[0m\u001b[0merrors\u001b[0m\u001b[0;34m)\u001b[0m\u001b[0;34m\u001b[0m\u001b[0;34m\u001b[0m\u001b[0m\n\u001b[0m\u001b[1;32m   3890\u001b[0m \u001b[0;34m\u001b[0m\u001b[0m\n\u001b[1;32m   3891\u001b[0m         \u001b[0;32mif\u001b[0m \u001b[0minplace\u001b[0m\u001b[0;34m:\u001b[0m\u001b[0;34m\u001b[0m\u001b[0;34m\u001b[0m\u001b[0m\n",
            "\u001b[0;32m/usr/local/lib/python3.7/dist-packages/pandas/core/generic.py\u001b[0m in \u001b[0;36m_drop_axis\u001b[0;34m(self, labels, axis, level, errors)\u001b[0m\n\u001b[1;32m   3921\u001b[0m                 \u001b[0mnew_axis\u001b[0m \u001b[0;34m=\u001b[0m \u001b[0maxis\u001b[0m\u001b[0;34m.\u001b[0m\u001b[0mdrop\u001b[0m\u001b[0;34m(\u001b[0m\u001b[0mlabels\u001b[0m\u001b[0;34m,\u001b[0m \u001b[0mlevel\u001b[0m\u001b[0;34m=\u001b[0m\u001b[0mlevel\u001b[0m\u001b[0;34m,\u001b[0m \u001b[0merrors\u001b[0m\u001b[0;34m=\u001b[0m\u001b[0merrors\u001b[0m\u001b[0;34m)\u001b[0m\u001b[0;34m\u001b[0m\u001b[0;34m\u001b[0m\u001b[0m\n\u001b[1;32m   3922\u001b[0m             \u001b[0;32melse\u001b[0m\u001b[0;34m:\u001b[0m\u001b[0;34m\u001b[0m\u001b[0;34m\u001b[0m\u001b[0m\n\u001b[0;32m-> 3923\u001b[0;31m                 \u001b[0mnew_axis\u001b[0m \u001b[0;34m=\u001b[0m \u001b[0maxis\u001b[0m\u001b[0;34m.\u001b[0m\u001b[0mdrop\u001b[0m\u001b[0;34m(\u001b[0m\u001b[0mlabels\u001b[0m\u001b[0;34m,\u001b[0m \u001b[0merrors\u001b[0m\u001b[0;34m=\u001b[0m\u001b[0merrors\u001b[0m\u001b[0;34m)\u001b[0m\u001b[0;34m\u001b[0m\u001b[0;34m\u001b[0m\u001b[0m\n\u001b[0m\u001b[1;32m   3924\u001b[0m             \u001b[0mresult\u001b[0m \u001b[0;34m=\u001b[0m \u001b[0mself\u001b[0m\u001b[0;34m.\u001b[0m\u001b[0mreindex\u001b[0m\u001b[0;34m(\u001b[0m\u001b[0;34m**\u001b[0m\u001b[0;34m{\u001b[0m\u001b[0maxis_name\u001b[0m\u001b[0;34m:\u001b[0m \u001b[0mnew_axis\u001b[0m\u001b[0;34m}\u001b[0m\u001b[0;34m)\u001b[0m\u001b[0;34m\u001b[0m\u001b[0;34m\u001b[0m\u001b[0m\n\u001b[1;32m   3925\u001b[0m \u001b[0;34m\u001b[0m\u001b[0m\n",
            "\u001b[0;32m/usr/local/lib/python3.7/dist-packages/pandas/core/indexes/base.py\u001b[0m in \u001b[0;36mdrop\u001b[0;34m(self, labels, errors)\u001b[0m\n\u001b[1;32m   5285\u001b[0m         \u001b[0;32mif\u001b[0m \u001b[0mmask\u001b[0m\u001b[0;34m.\u001b[0m\u001b[0many\u001b[0m\u001b[0;34m(\u001b[0m\u001b[0;34m)\u001b[0m\u001b[0;34m:\u001b[0m\u001b[0;34m\u001b[0m\u001b[0;34m\u001b[0m\u001b[0m\n\u001b[1;32m   5286\u001b[0m             \u001b[0;32mif\u001b[0m \u001b[0merrors\u001b[0m \u001b[0;34m!=\u001b[0m \u001b[0;34m\"ignore\"\u001b[0m\u001b[0;34m:\u001b[0m\u001b[0;34m\u001b[0m\u001b[0;34m\u001b[0m\u001b[0m\n\u001b[0;32m-> 5287\u001b[0;31m                 \u001b[0;32mraise\u001b[0m \u001b[0mKeyError\u001b[0m\u001b[0;34m(\u001b[0m\u001b[0;34mf\"{labels[mask]} not found in axis\"\u001b[0m\u001b[0;34m)\u001b[0m\u001b[0;34m\u001b[0m\u001b[0;34m\u001b[0m\u001b[0m\n\u001b[0m\u001b[1;32m   5288\u001b[0m             \u001b[0mindexer\u001b[0m \u001b[0;34m=\u001b[0m \u001b[0mindexer\u001b[0m\u001b[0;34m[\u001b[0m\u001b[0;34m~\u001b[0m\u001b[0mmask\u001b[0m\u001b[0;34m]\u001b[0m\u001b[0;34m\u001b[0m\u001b[0;34m\u001b[0m\u001b[0m\n\u001b[1;32m   5289\u001b[0m         \u001b[0;32mreturn\u001b[0m \u001b[0mself\u001b[0m\u001b[0;34m.\u001b[0m\u001b[0mdelete\u001b[0m\u001b[0;34m(\u001b[0m\u001b[0mindexer\u001b[0m\u001b[0;34m)\u001b[0m\u001b[0;34m\u001b[0m\u001b[0;34m\u001b[0m\u001b[0m\n",
            "\u001b[0;31mKeyError\u001b[0m: \"['Unnamed: 0' 'lang' 'time'] not found in axis\""
          ]
        }
      ]
    },
    {
      "cell_type": "code",
      "metadata": {
        "colab": {
          "base_uri": "https://localhost:8080/",
          "height": 402
        },
        "id": "YLv7Pke9UMOU",
        "outputId": "e5709c39-8e30-4607-a397-4bb4fb964031"
      },
      "source": [
        "data"
      ],
      "execution_count": null,
      "outputs": [
        {
          "output_type": "execute_result",
          "data": {
            "text/html": [
              "<div>\n",
              "<style scoped>\n",
              "    .dataframe tbody tr th:only-of-type {\n",
              "        vertical-align: middle;\n",
              "    }\n",
              "\n",
              "    .dataframe tbody tr th {\n",
              "        vertical-align: top;\n",
              "    }\n",
              "\n",
              "    .dataframe thead th {\n",
              "        text-align: right;\n",
              "    }\n",
              "</style>\n",
              "<table border=\"1\" class=\"dataframe\">\n",
              "  <thead>\n",
              "    <tr style=\"text-align: right;\">\n",
              "      <th></th>\n",
              "      <th>text</th>\n",
              "      <th>created_at</th>\n",
              "    </tr>\n",
              "  </thead>\n",
              "  <tbody>\n",
              "    <tr>\n",
              "      <th>0</th>\n",
              "      <td>corona update total effected recovered fatalit...</td>\n",
              "      <td>2020-03-25 06:02:50</td>\n",
              "    </tr>\n",
              "    <tr>\n",
              "      <th>1</th>\n",
              "      <td>anti corona t shirt collection is online for s...</td>\n",
              "      <td>2020-03-25 06:03:31</td>\n",
              "    </tr>\n",
              "    <tr>\n",
              "      <th>2</th>\n",
              "      <td>the matter is serious take full care not to be...</td>\n",
              "      <td>2020-03-25 06:03:39</td>\n",
              "    </tr>\n",
              "    <tr>\n",
              "      <th>3</th>\n",
              "      <td>all mosque committee members headed by syed ga...</td>\n",
              "      <td>2020-03-25 06:03:56</td>\n",
              "    </tr>\n",
              "    <tr>\n",
              "      <th>4</th>\n",
              "      <td>if these indians are already infected with cor...</td>\n",
              "      <td>2020-03-25 06:04:11</td>\n",
              "    </tr>\n",
              "    <tr>\n",
              "      <th>...</th>\n",
              "      <td>...</td>\n",
              "      <td>...</td>\n",
              "    </tr>\n",
              "    <tr>\n",
              "      <th>58486</th>\n",
              "      <td>aatmanirbharapnabharat facilitating states dur...</td>\n",
              "      <td>2020-05-23 17:09:28</td>\n",
              "    </tr>\n",
              "    <tr>\n",
              "      <th>58487</th>\n",
              "      <td>cheers to you jyoti wish you health happiness ...</td>\n",
              "      <td>2020-05-23 17:09:39</td>\n",
              "    </tr>\n",
              "    <tr>\n",
              "      <th>58488</th>\n",
              "      <td>aatmanirbharapnabharat technology driven educa...</td>\n",
              "      <td>2020-05-23 17:10:17</td>\n",
              "    </tr>\n",
              "    <tr>\n",
              "      <th>58489</th>\n",
              "      <td>eidmubarak eidalfitr romanreigns eid mubarak e...</td>\n",
              "      <td>2020-05-23 17:10:21</td>\n",
              "    </tr>\n",
              "    <tr>\n",
              "      <th>58490</th>\n",
              "      <td>dmrc metro i wanna ask about and gave asure to...</td>\n",
              "      <td>2020-05-23 17:10:52</td>\n",
              "    </tr>\n",
              "  </tbody>\n",
              "</table>\n",
              "<p>58491 rows × 2 columns</p>\n",
              "</div>"
            ],
            "text/plain": [
              "                                                    text           created_at\n",
              "0      corona update total effected recovered fatalit...  2020-03-25 06:02:50\n",
              "1      anti corona t shirt collection is online for s...  2020-03-25 06:03:31\n",
              "2      the matter is serious take full care not to be...  2020-03-25 06:03:39\n",
              "3      all mosque committee members headed by syed ga...  2020-03-25 06:03:56\n",
              "4      if these indians are already infected with cor...  2020-03-25 06:04:11\n",
              "...                                                  ...                  ...\n",
              "58486  aatmanirbharapnabharat facilitating states dur...  2020-05-23 17:09:28\n",
              "58487  cheers to you jyoti wish you health happiness ...  2020-05-23 17:09:39\n",
              "58488  aatmanirbharapnabharat technology driven educa...  2020-05-23 17:10:17\n",
              "58489  eidmubarak eidalfitr romanreigns eid mubarak e...  2020-05-23 17:10:21\n",
              "58490  dmrc metro i wanna ask about and gave asure to...  2020-05-23 17:10:52\n",
              "\n",
              "[58491 rows x 2 columns]"
            ]
          },
          "metadata": {
            "tags": []
          },
          "execution_count": 117
        }
      ]
    },
    {
      "cell_type": "code",
      "metadata": {
        "id": "HLTviJDTUMOU"
      },
      "source": [
        "data[\"topics\"]=\" \""
      ],
      "execution_count": null,
      "outputs": []
    },
    {
      "cell_type": "code",
      "metadata": {
        "colab": {
          "base_uri": "https://localhost:8080/"
        },
        "id": "SMoA--r8UMOU",
        "outputId": "0c0dfc69-1e5d-432f-cfa7-8a6c559f5885"
      },
      "source": [
        "import nltk.data \n",
        "from nltk.tokenize import word_tokenize \n",
        "nltk.download('punkt')\n"
      ],
      "execution_count": null,
      "outputs": [
        {
          "output_type": "stream",
          "text": [
            "[nltk_data] Downloading package punkt to /root/nltk_data...\n",
            "[nltk_data]   Package punkt is already up-to-date!\n"
          ],
          "name": "stdout"
        },
        {
          "output_type": "execute_result",
          "data": {
            "text/plain": [
              "True"
            ]
          },
          "metadata": {
            "tags": []
          },
          "execution_count": 119
        }
      ]
    },
    {
      "cell_type": "code",
      "metadata": {
        "id": "ekRPPDTdUMOV"
      },
      "source": [
        "for i in data.index:\n",
        "    stri = data.at[i,\"text\"]\n",
        "    l = word_tokenize(stri)\n",
        "    for a in l:\n",
        "        if a in words:\n",
        "            data.at[i,\"topics\"] = data.at[i,\"topics\"] +\",\" + a\n",
        "            "
      ],
      "execution_count": null,
      "outputs": []
    },
    {
      "cell_type": "code",
      "metadata": {
        "colab": {
          "base_uri": "https://localhost:8080/",
          "height": 402
        },
        "id": "8UlMSh2FUMOV",
        "outputId": "b570d57a-a0d0-4e06-c180-7af8fb420b45"
      },
      "source": [
        "data"
      ],
      "execution_count": null,
      "outputs": [
        {
          "output_type": "execute_result",
          "data": {
            "text/html": [
              "<div>\n",
              "<style scoped>\n",
              "    .dataframe tbody tr th:only-of-type {\n",
              "        vertical-align: middle;\n",
              "    }\n",
              "\n",
              "    .dataframe tbody tr th {\n",
              "        vertical-align: top;\n",
              "    }\n",
              "\n",
              "    .dataframe thead th {\n",
              "        text-align: right;\n",
              "    }\n",
              "</style>\n",
              "<table border=\"1\" class=\"dataframe\">\n",
              "  <thead>\n",
              "    <tr style=\"text-align: right;\">\n",
              "      <th></th>\n",
              "      <th>text</th>\n",
              "      <th>created_at</th>\n",
              "      <th>topics</th>\n",
              "    </tr>\n",
              "  </thead>\n",
              "  <tbody>\n",
              "    <tr>\n",
              "      <th>0</th>\n",
              "      <td>corona update total effected recovered fatalit...</td>\n",
              "      <td>2020-03-25 06:02:50</td>\n",
              "      <td>,corona,update,total,recovered,global</td>\n",
              "    </tr>\n",
              "    <tr>\n",
              "      <th>1</th>\n",
              "      <td>anti corona t shirt collection is online for s...</td>\n",
              "      <td>2020-03-25 06:03:31</td>\n",
              "      <td>,corona,covid</td>\n",
              "    </tr>\n",
              "    <tr>\n",
              "      <th>2</th>\n",
              "      <td>the matter is serious take full care not to be...</td>\n",
              "      <td>2020-03-25 06:03:39</td>\n",
              "      <td>,care,corona</td>\n",
              "    </tr>\n",
              "    <tr>\n",
              "      <th>3</th>\n",
              "      <td>all mosque committee members headed by syed ga...</td>\n",
              "      <td>2020-03-25 06:03:56</td>\n",
              "      <td>,lockdown,stay,pray,corona</td>\n",
              "    </tr>\n",
              "    <tr>\n",
              "      <th>4</th>\n",
              "      <td>if these indians are already infected with cor...</td>\n",
              "      <td>2020-03-25 06:04:11</td>\n",
              "      <td>,corona,symptoms,govt,spread,virus,india</td>\n",
              "    </tr>\n",
              "    <tr>\n",
              "      <th>...</th>\n",
              "      <td>...</td>\n",
              "      <td>...</td>\n",
              "      <td>...</td>\n",
              "    </tr>\n",
              "    <tr>\n",
              "      <th>58486</th>\n",
              "      <td>aatmanirbharapnabharat facilitating states dur...</td>\n",
              "      <td>2020-05-23 17:09:28</td>\n",
              "      <td>,states,covid,via,app</td>\n",
              "    </tr>\n",
              "    <tr>\n",
              "      <th>58487</th>\n",
              "      <td>cheers to you jyoti wish you health happiness ...</td>\n",
              "      <td>2020-05-23 17:09:39</td>\n",
              "      <td>,health,who,leaders,would,help,real</td>\n",
              "    </tr>\n",
              "    <tr>\n",
              "      <th>58488</th>\n",
              "      <td>aatmanirbharapnabharat technology driven educa...</td>\n",
              "      <td>2020-05-23 17:10:17</td>\n",
              "      <td>,covid,via,app</td>\n",
              "    </tr>\n",
              "    <tr>\n",
              "      <th>58489</th>\n",
              "      <td>eidmubarak eidalfitr romanreigns eid mubarak e...</td>\n",
              "      <td>2020-05-23 17:10:21</td>\n",
              "      <td>,everyone,world,india,sad,corona,virus,world</td>\n",
              "    </tr>\n",
              "    <tr>\n",
              "      <th>58490</th>\n",
              "      <td>dmrc metro i wanna ask about and gave asure to...</td>\n",
              "      <td>2020-05-23 17:10:52</td>\n",
              "      <td>,days,what,doctors,corona</td>\n",
              "    </tr>\n",
              "  </tbody>\n",
              "</table>\n",
              "<p>58491 rows × 3 columns</p>\n",
              "</div>"
            ],
            "text/plain": [
              "                                                    text  ...                                         topics\n",
              "0      corona update total effected recovered fatalit...  ...          ,corona,update,total,recovered,global\n",
              "1      anti corona t shirt collection is online for s...  ...                                  ,corona,covid\n",
              "2      the matter is serious take full care not to be...  ...                                   ,care,corona\n",
              "3      all mosque committee members headed by syed ga...  ...                     ,lockdown,stay,pray,corona\n",
              "4      if these indians are already infected with cor...  ...       ,corona,symptoms,govt,spread,virus,india\n",
              "...                                                  ...  ...                                            ...\n",
              "58486  aatmanirbharapnabharat facilitating states dur...  ...                          ,states,covid,via,app\n",
              "58487  cheers to you jyoti wish you health happiness ...  ...            ,health,who,leaders,would,help,real\n",
              "58488  aatmanirbharapnabharat technology driven educa...  ...                                 ,covid,via,app\n",
              "58489  eidmubarak eidalfitr romanreigns eid mubarak e...  ...   ,everyone,world,india,sad,corona,virus,world\n",
              "58490  dmrc metro i wanna ask about and gave asure to...  ...                      ,days,what,doctors,corona\n",
              "\n",
              "[58491 rows x 3 columns]"
            ]
          },
          "metadata": {
            "tags": []
          },
          "execution_count": 121
        }
      ]
    },
    {
      "cell_type": "code",
      "metadata": {
        "id": "s7iMiG24UMOV"
      },
      "source": [
        "for i in data.index:\n",
        "    data.at[i,\"topics\"] = data.at[i,\"topics\"][2:]"
      ],
      "execution_count": null,
      "outputs": []
    },
    {
      "cell_type": "code",
      "metadata": {
        "colab": {
          "base_uri": "https://localhost:8080/",
          "height": 402
        },
        "id": "nB-uot-jUMOV",
        "outputId": "ddfc19d0-5c12-45ce-89c6-87d407a63fce"
      },
      "source": [
        "data"
      ],
      "execution_count": null,
      "outputs": [
        {
          "output_type": "execute_result",
          "data": {
            "text/html": [
              "<div>\n",
              "<style scoped>\n",
              "    .dataframe tbody tr th:only-of-type {\n",
              "        vertical-align: middle;\n",
              "    }\n",
              "\n",
              "    .dataframe tbody tr th {\n",
              "        vertical-align: top;\n",
              "    }\n",
              "\n",
              "    .dataframe thead th {\n",
              "        text-align: right;\n",
              "    }\n",
              "</style>\n",
              "<table border=\"1\" class=\"dataframe\">\n",
              "  <thead>\n",
              "    <tr style=\"text-align: right;\">\n",
              "      <th></th>\n",
              "      <th>text</th>\n",
              "      <th>created_at</th>\n",
              "      <th>topics</th>\n",
              "    </tr>\n",
              "  </thead>\n",
              "  <tbody>\n",
              "    <tr>\n",
              "      <th>0</th>\n",
              "      <td>corona update total effected recovered fatalit...</td>\n",
              "      <td>2020-03-25 06:02:50</td>\n",
              "      <td>corona,update,total,recovered,global</td>\n",
              "    </tr>\n",
              "    <tr>\n",
              "      <th>1</th>\n",
              "      <td>anti corona t shirt collection is online for s...</td>\n",
              "      <td>2020-03-25 06:03:31</td>\n",
              "      <td>corona,covid</td>\n",
              "    </tr>\n",
              "    <tr>\n",
              "      <th>2</th>\n",
              "      <td>the matter is serious take full care not to be...</td>\n",
              "      <td>2020-03-25 06:03:39</td>\n",
              "      <td>care,corona</td>\n",
              "    </tr>\n",
              "    <tr>\n",
              "      <th>3</th>\n",
              "      <td>all mosque committee members headed by syed ga...</td>\n",
              "      <td>2020-03-25 06:03:56</td>\n",
              "      <td>lockdown,stay,pray,corona</td>\n",
              "    </tr>\n",
              "    <tr>\n",
              "      <th>4</th>\n",
              "      <td>if these indians are already infected with cor...</td>\n",
              "      <td>2020-03-25 06:04:11</td>\n",
              "      <td>corona,symptoms,govt,spread,virus,india</td>\n",
              "    </tr>\n",
              "    <tr>\n",
              "      <th>...</th>\n",
              "      <td>...</td>\n",
              "      <td>...</td>\n",
              "      <td>...</td>\n",
              "    </tr>\n",
              "    <tr>\n",
              "      <th>58486</th>\n",
              "      <td>aatmanirbharapnabharat facilitating states dur...</td>\n",
              "      <td>2020-05-23 17:09:28</td>\n",
              "      <td>states,covid,via,app</td>\n",
              "    </tr>\n",
              "    <tr>\n",
              "      <th>58487</th>\n",
              "      <td>cheers to you jyoti wish you health happiness ...</td>\n",
              "      <td>2020-05-23 17:09:39</td>\n",
              "      <td>health,who,leaders,would,help,real</td>\n",
              "    </tr>\n",
              "    <tr>\n",
              "      <th>58488</th>\n",
              "      <td>aatmanirbharapnabharat technology driven educa...</td>\n",
              "      <td>2020-05-23 17:10:17</td>\n",
              "      <td>covid,via,app</td>\n",
              "    </tr>\n",
              "    <tr>\n",
              "      <th>58489</th>\n",
              "      <td>eidmubarak eidalfitr romanreigns eid mubarak e...</td>\n",
              "      <td>2020-05-23 17:10:21</td>\n",
              "      <td>everyone,world,india,sad,corona,virus,world</td>\n",
              "    </tr>\n",
              "    <tr>\n",
              "      <th>58490</th>\n",
              "      <td>dmrc metro i wanna ask about and gave asure to...</td>\n",
              "      <td>2020-05-23 17:10:52</td>\n",
              "      <td>days,what,doctors,corona</td>\n",
              "    </tr>\n",
              "  </tbody>\n",
              "</table>\n",
              "<p>58491 rows × 3 columns</p>\n",
              "</div>"
            ],
            "text/plain": [
              "                                                    text  ...                                       topics\n",
              "0      corona update total effected recovered fatalit...  ...         corona,update,total,recovered,global\n",
              "1      anti corona t shirt collection is online for s...  ...                                 corona,covid\n",
              "2      the matter is serious take full care not to be...  ...                                  care,corona\n",
              "3      all mosque committee members headed by syed ga...  ...                    lockdown,stay,pray,corona\n",
              "4      if these indians are already infected with cor...  ...      corona,symptoms,govt,spread,virus,india\n",
              "...                                                  ...  ...                                          ...\n",
              "58486  aatmanirbharapnabharat facilitating states dur...  ...                         states,covid,via,app\n",
              "58487  cheers to you jyoti wish you health happiness ...  ...           health,who,leaders,would,help,real\n",
              "58488  aatmanirbharapnabharat technology driven educa...  ...                                covid,via,app\n",
              "58489  eidmubarak eidalfitr romanreigns eid mubarak e...  ...  everyone,world,india,sad,corona,virus,world\n",
              "58490  dmrc metro i wanna ask about and gave asure to...  ...                     days,what,doctors,corona\n",
              "\n",
              "[58491 rows x 3 columns]"
            ]
          },
          "metadata": {
            "tags": []
          },
          "execution_count": 123
        }
      ]
    },
    {
      "cell_type": "code",
      "metadata": {
        "id": "9iQ-CEiqUMOW"
      },
      "source": [
        "\n",
        "alltopics = \"\"\n",
        "\n",
        "for i in data.index:\n",
        "    alltopics = alltopics + str(data.at[i,\"topics\"])"
      ],
      "execution_count": null,
      "outputs": []
    },
    {
      "cell_type": "code",
      "metadata": {
        "id": "9KAs41x1UMOW"
      },
      "source": [
        "all_topics = alltopics.split(\",\")"
      ],
      "execution_count": null,
      "outputs": []
    },
    {
      "cell_type": "code",
      "metadata": {
        "id": "s3JDgTz4UMOW"
      },
      "source": [
        "all_topics"
      ],
      "execution_count": null,
      "outputs": []
    },
    {
      "cell_type": "code",
      "metadata": {
        "colab": {
          "base_uri": "https://localhost:8080/"
        },
        "id": "MkrzsusHUMOW",
        "outputId": "70a6423d-b414-4c51-c4b6-d59a6f5e4d56"
      },
      "source": [
        "import collections\n",
        "\n",
        "counts_no_urls = collections.Counter(all_topics)\n",
        "\n",
        "counts_no_urls.most_common(15)\n",
        "len(counts_no_urls)"
      ],
      "execution_count": null,
      "outputs": [
        {
          "output_type": "execute_result",
          "data": {
            "text/plain": [
              "16477"
            ]
          },
          "metadata": {
            "tags": []
          },
          "execution_count": 127
        }
      ]
    },
    {
      "cell_type": "code",
      "metadata": {
        "id": "0rwyJ4F4UMOX"
      },
      "source": [
        "clean_tweets_no_urls = pd.DataFrame(counts_no_urls.most_common(10),\n",
        "                             columns=['words', 'count'])"
      ],
      "execution_count": null,
      "outputs": []
    },
    {
      "cell_type": "code",
      "metadata": {
        "colab": {
          "base_uri": "https://localhost:8080/",
          "height": 195
        },
        "id": "mvkWRDKaUMOX",
        "outputId": "fe64def1-b636-455e-98f5-2385deb08f0b"
      },
      "source": [
        "clean_tweets_no_urls.head()"
      ],
      "execution_count": null,
      "outputs": [
        {
          "output_type": "execute_result",
          "data": {
            "text/html": [
              "<div>\n",
              "<style scoped>\n",
              "    .dataframe tbody tr th:only-of-type {\n",
              "        vertical-align: middle;\n",
              "    }\n",
              "\n",
              "    .dataframe tbody tr th {\n",
              "        vertical-align: top;\n",
              "    }\n",
              "\n",
              "    .dataframe thead th {\n",
              "        text-align: right;\n",
              "    }\n",
              "</style>\n",
              "<table border=\"1\" class=\"dataframe\">\n",
              "  <thead>\n",
              "    <tr style=\"text-align: right;\">\n",
              "      <th></th>\n",
              "      <th>words</th>\n",
              "      <th>count</th>\n",
              "    </tr>\n",
              "  </thead>\n",
              "  <tbody>\n",
              "    <tr>\n",
              "      <th>0</th>\n",
              "      <td>corona</td>\n",
              "      <td>15966</td>\n",
              "    </tr>\n",
              "    <tr>\n",
              "      <th>1</th>\n",
              "      <td>covid</td>\n",
              "      <td>11847</td>\n",
              "    </tr>\n",
              "    <tr>\n",
              "      <th>2</th>\n",
              "      <td>india</td>\n",
              "      <td>5144</td>\n",
              "    </tr>\n",
              "    <tr>\n",
              "      <th>3</th>\n",
              "      <td>virus</td>\n",
              "      <td>4873</td>\n",
              "    </tr>\n",
              "    <tr>\n",
              "      <th>4</th>\n",
              "      <td>people</td>\n",
              "      <td>4258</td>\n",
              "    </tr>\n",
              "  </tbody>\n",
              "</table>\n",
              "</div>"
            ],
            "text/plain": [
              "    words  count\n",
              "0  corona  15966\n",
              "1   covid  11847\n",
              "2   india   5144\n",
              "3   virus   4873\n",
              "4  people   4258"
            ]
          },
          "metadata": {
            "tags": []
          },
          "execution_count": 129
        }
      ]
    },
    {
      "cell_type": "code",
      "metadata": {
        "id": "Egu5IP5jbBxP"
      },
      "source": [
        "clean_tweets_no_urls.to_csv(\"a.csv\")"
      ],
      "execution_count": null,
      "outputs": []
    },
    {
      "cell_type": "code",
      "metadata": {
        "id": "V9LYpTkCUMOX"
      },
      "source": [
        "term_freq_df = clean_tweets_no_urls"
      ],
      "execution_count": null,
      "outputs": []
    },
    {
      "cell_type": "code",
      "metadata": {
        "id": "kYeH0vYfUMOX"
      },
      "source": [
        "term_freq_df.columns = [\"words\",\"total\"]"
      ],
      "execution_count": null,
      "outputs": []
    },
    {
      "cell_type": "code",
      "metadata": {
        "colab": {
          "base_uri": "https://localhost:8080/",
          "height": 34
        },
        "id": "AnYdEBLHUMOY",
        "outputId": "a5128118-94d4-44a0-ff47-e1460bc013cc"
      },
      "source": [
        "import matplotlib.pyplot as plt\n",
        "import seaborn as sns\n",
        "import numpy as np\n",
        "y_pos = np.arange(500)\n",
        "plt.figure(figsize=(10,8))\n",
        "s = 1\n",
        "term_freq_df.drop(columns=[\"words\"],inplace=True)\n",
        "plt.show()"
      ],
      "execution_count": null,
      "outputs": [
        {
          "output_type": "display_data",
          "data": {
            "text/plain": [
              "<Figure size 720x576 with 0 Axes>"
            ]
          },
          "metadata": {
            "tags": []
          }
        }
      ]
    },
    {
      "cell_type": "code",
      "metadata": {
        "id": "zEqLLsfdUMOZ"
      },
      "source": [
        "#india = data[data[\"country_code\"]==\"IN\"]"
      ],
      "execution_count": null,
      "outputs": []
    },
    {
      "cell_type": "code",
      "metadata": {
        "id": "Nt0zcrzlUMOZ"
      },
      "source": [
        "india = data"
      ],
      "execution_count": null,
      "outputs": []
    },
    {
      "cell_type": "code",
      "metadata": {
        "colab": {
          "base_uri": "https://localhost:8080/"
        },
        "id": "tN8O_gyWUMOa",
        "outputId": "2bca806e-c11f-4ad4-953f-cea51d7ae759"
      },
      "source": [
        "india.info()"
      ],
      "execution_count": null,
      "outputs": [
        {
          "output_type": "stream",
          "text": [
            "<class 'pandas.core.frame.DataFrame'>\n",
            "RangeIndex: 58491 entries, 0 to 58490\n",
            "Data columns (total 3 columns):\n",
            " #   Column      Non-Null Count  Dtype \n",
            "---  ------      --------------  ----- \n",
            " 0   text        58491 non-null  object\n",
            " 1   created_at  58491 non-null  object\n",
            " 2   topics      58491 non-null  object\n",
            "dtypes: object(3)\n",
            "memory usage: 1.3+ MB\n"
          ],
          "name": "stdout"
        }
      ]
    },
    {
      "cell_type": "code",
      "metadata": {
        "colab": {
          "base_uri": "https://localhost:8080/",
          "height": 402
        },
        "id": "F1ucFPLaCOJ-",
        "outputId": "baa76df6-531e-4786-e8a6-a83d63adacee"
      },
      "source": [
        "india"
      ],
      "execution_count": null,
      "outputs": [
        {
          "output_type": "execute_result",
          "data": {
            "text/html": [
              "<div>\n",
              "<style scoped>\n",
              "    .dataframe tbody tr th:only-of-type {\n",
              "        vertical-align: middle;\n",
              "    }\n",
              "\n",
              "    .dataframe tbody tr th {\n",
              "        vertical-align: top;\n",
              "    }\n",
              "\n",
              "    .dataframe thead th {\n",
              "        text-align: right;\n",
              "    }\n",
              "</style>\n",
              "<table border=\"1\" class=\"dataframe\">\n",
              "  <thead>\n",
              "    <tr style=\"text-align: right;\">\n",
              "      <th></th>\n",
              "      <th>text</th>\n",
              "      <th>created_at</th>\n",
              "      <th>topics</th>\n",
              "    </tr>\n",
              "  </thead>\n",
              "  <tbody>\n",
              "    <tr>\n",
              "      <th>0</th>\n",
              "      <td>corona update total effected recovered fatalit...</td>\n",
              "      <td>2020-03-25 06:02:50</td>\n",
              "      <td>corona,update,total,recovered,global</td>\n",
              "    </tr>\n",
              "    <tr>\n",
              "      <th>1</th>\n",
              "      <td>anti corona t shirt collection is online for s...</td>\n",
              "      <td>2020-03-25 06:03:31</td>\n",
              "      <td>corona,covid</td>\n",
              "    </tr>\n",
              "    <tr>\n",
              "      <th>2</th>\n",
              "      <td>the matter is serious take full care not to be...</td>\n",
              "      <td>2020-03-25 06:03:39</td>\n",
              "      <td>care,corona</td>\n",
              "    </tr>\n",
              "    <tr>\n",
              "      <th>3</th>\n",
              "      <td>all mosque committee members headed by syed ga...</td>\n",
              "      <td>2020-03-25 06:03:56</td>\n",
              "      <td>lockdown,stay,pray,corona</td>\n",
              "    </tr>\n",
              "    <tr>\n",
              "      <th>4</th>\n",
              "      <td>if these indians are already infected with cor...</td>\n",
              "      <td>2020-03-25 06:04:11</td>\n",
              "      <td>corona,symptoms,govt,spread,virus,india</td>\n",
              "    </tr>\n",
              "    <tr>\n",
              "      <th>...</th>\n",
              "      <td>...</td>\n",
              "      <td>...</td>\n",
              "      <td>...</td>\n",
              "    </tr>\n",
              "    <tr>\n",
              "      <th>58486</th>\n",
              "      <td>aatmanirbharapnabharat facilitating states dur...</td>\n",
              "      <td>2020-05-23 17:09:28</td>\n",
              "      <td>states,covid,via,app</td>\n",
              "    </tr>\n",
              "    <tr>\n",
              "      <th>58487</th>\n",
              "      <td>cheers to you jyoti wish you health happiness ...</td>\n",
              "      <td>2020-05-23 17:09:39</td>\n",
              "      <td>health,who,leaders,would,help,real</td>\n",
              "    </tr>\n",
              "    <tr>\n",
              "      <th>58488</th>\n",
              "      <td>aatmanirbharapnabharat technology driven educa...</td>\n",
              "      <td>2020-05-23 17:10:17</td>\n",
              "      <td>covid,via,app</td>\n",
              "    </tr>\n",
              "    <tr>\n",
              "      <th>58489</th>\n",
              "      <td>eidmubarak eidalfitr romanreigns eid mubarak e...</td>\n",
              "      <td>2020-05-23 17:10:21</td>\n",
              "      <td>everyone,world,india,sad,corona,virus,world</td>\n",
              "    </tr>\n",
              "    <tr>\n",
              "      <th>58490</th>\n",
              "      <td>dmrc metro i wanna ask about and gave asure to...</td>\n",
              "      <td>2020-05-23 17:10:52</td>\n",
              "      <td>days,what,doctors,corona</td>\n",
              "    </tr>\n",
              "  </tbody>\n",
              "</table>\n",
              "<p>58491 rows × 3 columns</p>\n",
              "</div>"
            ],
            "text/plain": [
              "                                                    text  ...                                       topics\n",
              "0      corona update total effected recovered fatalit...  ...         corona,update,total,recovered,global\n",
              "1      anti corona t shirt collection is online for s...  ...                                 corona,covid\n",
              "2      the matter is serious take full care not to be...  ...                                  care,corona\n",
              "3      all mosque committee members headed by syed ga...  ...                    lockdown,stay,pray,corona\n",
              "4      if these indians are already infected with cor...  ...      corona,symptoms,govt,spread,virus,india\n",
              "...                                                  ...  ...                                          ...\n",
              "58486  aatmanirbharapnabharat facilitating states dur...  ...                         states,covid,via,app\n",
              "58487  cheers to you jyoti wish you health happiness ...  ...           health,who,leaders,would,help,real\n",
              "58488  aatmanirbharapnabharat technology driven educa...  ...                                covid,via,app\n",
              "58489  eidmubarak eidalfitr romanreigns eid mubarak e...  ...  everyone,world,india,sad,corona,virus,world\n",
              "58490  dmrc metro i wanna ask about and gave asure to...  ...                     days,what,doctors,corona\n",
              "\n",
              "[58491 rows x 3 columns]"
            ]
          },
          "metadata": {
            "tags": []
          },
          "execution_count": 137
        }
      ]
    },
    {
      "cell_type": "code",
      "metadata": {
        "id": "4qZ5AVx3CQJK"
      },
      "source": [
        "india[\"date\"] = \"\""
      ],
      "execution_count": null,
      "outputs": []
    },
    {
      "cell_type": "code",
      "metadata": {
        "id": "OVHL930NUMOa"
      },
      "source": [
        "from datetime import datetime\n",
        "\n",
        "for i in india.index:\n",
        "  india.at[i,\"date\"] = str(india.at[i,\"created_at\"]).split(' ')[0]"
      ],
      "execution_count": null,
      "outputs": []
    },
    {
      "cell_type": "code",
      "metadata": {
        "id": "QQ7ADVl0DAsM"
      },
      "source": [
        "india = india.drop(columns=[\"created_at\"])"
      ],
      "execution_count": null,
      "outputs": []
    },
    {
      "cell_type": "code",
      "metadata": {
        "colab": {
          "base_uri": "https://localhost:8080/",
          "height": 402
        },
        "id": "TMzqpkVbDGRC",
        "outputId": "481d3500-2246-42a0-eb97-a518b0acc7c3"
      },
      "source": [
        "india"
      ],
      "execution_count": null,
      "outputs": [
        {
          "output_type": "execute_result",
          "data": {
            "text/html": [
              "<div>\n",
              "<style scoped>\n",
              "    .dataframe tbody tr th:only-of-type {\n",
              "        vertical-align: middle;\n",
              "    }\n",
              "\n",
              "    .dataframe tbody tr th {\n",
              "        vertical-align: top;\n",
              "    }\n",
              "\n",
              "    .dataframe thead th {\n",
              "        text-align: right;\n",
              "    }\n",
              "</style>\n",
              "<table border=\"1\" class=\"dataframe\">\n",
              "  <thead>\n",
              "    <tr style=\"text-align: right;\">\n",
              "      <th></th>\n",
              "      <th>text</th>\n",
              "      <th>topics</th>\n",
              "      <th>date</th>\n",
              "    </tr>\n",
              "  </thead>\n",
              "  <tbody>\n",
              "    <tr>\n",
              "      <th>0</th>\n",
              "      <td>corona update total effected recovered fatalit...</td>\n",
              "      <td>corona,update,total,recovered,global</td>\n",
              "      <td>2020-03-25</td>\n",
              "    </tr>\n",
              "    <tr>\n",
              "      <th>1</th>\n",
              "      <td>anti corona t shirt collection is online for s...</td>\n",
              "      <td>corona,covid</td>\n",
              "      <td>2020-03-25</td>\n",
              "    </tr>\n",
              "    <tr>\n",
              "      <th>2</th>\n",
              "      <td>the matter is serious take full care not to be...</td>\n",
              "      <td>care,corona</td>\n",
              "      <td>2020-03-25</td>\n",
              "    </tr>\n",
              "    <tr>\n",
              "      <th>3</th>\n",
              "      <td>all mosque committee members headed by syed ga...</td>\n",
              "      <td>lockdown,stay,pray,corona</td>\n",
              "      <td>2020-03-25</td>\n",
              "    </tr>\n",
              "    <tr>\n",
              "      <th>4</th>\n",
              "      <td>if these indians are already infected with cor...</td>\n",
              "      <td>corona,symptoms,govt,spread,virus,india</td>\n",
              "      <td>2020-03-25</td>\n",
              "    </tr>\n",
              "    <tr>\n",
              "      <th>...</th>\n",
              "      <td>...</td>\n",
              "      <td>...</td>\n",
              "      <td>...</td>\n",
              "    </tr>\n",
              "    <tr>\n",
              "      <th>58486</th>\n",
              "      <td>aatmanirbharapnabharat facilitating states dur...</td>\n",
              "      <td>states,covid,via,app</td>\n",
              "      <td>2020-05-23</td>\n",
              "    </tr>\n",
              "    <tr>\n",
              "      <th>58487</th>\n",
              "      <td>cheers to you jyoti wish you health happiness ...</td>\n",
              "      <td>health,who,leaders,would,help,real</td>\n",
              "      <td>2020-05-23</td>\n",
              "    </tr>\n",
              "    <tr>\n",
              "      <th>58488</th>\n",
              "      <td>aatmanirbharapnabharat technology driven educa...</td>\n",
              "      <td>covid,via,app</td>\n",
              "      <td>2020-05-23</td>\n",
              "    </tr>\n",
              "    <tr>\n",
              "      <th>58489</th>\n",
              "      <td>eidmubarak eidalfitr romanreigns eid mubarak e...</td>\n",
              "      <td>everyone,world,india,sad,corona,virus,world</td>\n",
              "      <td>2020-05-23</td>\n",
              "    </tr>\n",
              "    <tr>\n",
              "      <th>58490</th>\n",
              "      <td>dmrc metro i wanna ask about and gave asure to...</td>\n",
              "      <td>days,what,doctors,corona</td>\n",
              "      <td>2020-05-23</td>\n",
              "    </tr>\n",
              "  </tbody>\n",
              "</table>\n",
              "<p>58491 rows × 3 columns</p>\n",
              "</div>"
            ],
            "text/plain": [
              "                                                    text  ...        date\n",
              "0      corona update total effected recovered fatalit...  ...  2020-03-25\n",
              "1      anti corona t shirt collection is online for s...  ...  2020-03-25\n",
              "2      the matter is serious take full care not to be...  ...  2020-03-25\n",
              "3      all mosque committee members headed by syed ga...  ...  2020-03-25\n",
              "4      if these indians are already infected with cor...  ...  2020-03-25\n",
              "...                                                  ...  ...         ...\n",
              "58486  aatmanirbharapnabharat facilitating states dur...  ...  2020-05-23\n",
              "58487  cheers to you jyoti wish you health happiness ...  ...  2020-05-23\n",
              "58488  aatmanirbharapnabharat technology driven educa...  ...  2020-05-23\n",
              "58489  eidmubarak eidalfitr romanreigns eid mubarak e...  ...  2020-05-23\n",
              "58490  dmrc metro i wanna ask about and gave asure to...  ...  2020-05-23\n",
              "\n",
              "[58491 rows x 3 columns]"
            ]
          },
          "metadata": {
            "tags": []
          },
          "execution_count": 143
        }
      ]
    },
    {
      "cell_type": "code",
      "metadata": {
        "id": "kHL52olqDTxW"
      },
      "source": [
        "india[\"date\"] = india[\"date\"].astype('datetime64[ns]')"
      ],
      "execution_count": null,
      "outputs": []
    },
    {
      "cell_type": "code",
      "metadata": {
        "id": "nolr0tyuDTrc"
      },
      "source": [
        ""
      ],
      "execution_count": null,
      "outputs": []
    },
    {
      "cell_type": "code",
      "metadata": {
        "id": "cKbHM1W0UMOa"
      },
      "source": [
        "la1 = '2020-03-25'\n",
        "la2 = '2020-04-14'\n",
        "lb1 = '2020-04-15'\n",
        "lb2 = '2020-05-03'\n",
        "lc1 = '2020-05-04'\n",
        "lc2 = '2020-05-17'\n",
        "ld1 = '2020-05-18'\n",
        "ld2 = '2020-05-31'\n",
        "\n",
        "a1 = datetime.strptime(la1, '%Y-%m-%d')\n",
        "a2 = datetime.strptime(la2, '%Y-%m-%d')\n",
        "b1 = datetime.strptime(lb1, '%Y-%m-%d')\n",
        "b2 = datetime.strptime(lb2, '%Y-%m-%d')\n",
        "c1 = datetime.strptime(lc1, '%Y-%m-%d')\n",
        "c2 = datetime.strptime(lc2, '%Y-%m-%d')\n",
        "d1 = datetime.strptime(ld1, '%Y-%m-%d')\n",
        "d2 = datetime.strptime(ld2, '%Y-%m-%d')"
      ],
      "execution_count": null,
      "outputs": []
    },
    {
      "cell_type": "code",
      "metadata": {
        "id": "wwgZdLgmUMOa"
      },
      "source": [
        "indialockdown1 = india[(india.date>=a1) & (india.date<=a2)]\n",
        "indialockdown2 = india[(india.date>=b1) & (india.date<=b2)]\n",
        "indialockdown3 = india[(india.date>=c1) & (india.date<=c2)]\n",
        "indialockdown4 = india[(india.date>=d1) & (india.date<=d2)]"
      ],
      "execution_count": null,
      "outputs": []
    },
    {
      "cell_type": "code",
      "metadata": {
        "colab": {
          "base_uri": "https://localhost:8080/"
        },
        "id": "GPRTaQHGdUTh",
        "outputId": "9292fbf2-7da2-48cc-ca68-2e44b94ce98d"
      },
      "source": [
        "from textblob import TextBlob\n",
        "\n",
        "def get_sentiment(text):\n",
        "    blob = TextBlob(text)\n",
        "    return [blob.sentiment.polarity, blob.sentiment.subjectivity]\n",
        "\n",
        "\n",
        "indialockdown1.reset_index(inplace = True)\n",
        "polarity,subjectivity = [], []\n",
        "for i in range(len(indialockdown1)):\n",
        "    pol , sub = get_sentiment(indialockdown1['text'][i])\n",
        "    polarity.append(pol)\n",
        "    subjectivity.append(sub)\n",
        "    \n",
        "indialockdown1['polarity'] = polarity\n",
        "indialockdown1['subjectivity'] = subjectivity\n",
        "\n",
        "\n",
        "indialockdown2.reset_index(inplace = True)\n",
        "polarity,subjectivity = [], []\n",
        "for i in range(len(indialockdown2)):\n",
        "    pol , sub = get_sentiment(indialockdown2['text'][i])\n",
        "    polarity.append(pol)\n",
        "    subjectivity.append(sub)\n",
        "\n",
        "indialockdown2['polarity'] = polarity\n",
        "indialockdown2['subjectivity'] = subjectivity\n",
        "\n",
        "indialockdown3.reset_index(inplace = True)\n",
        "polarity,subjectivity = [], []\n",
        "for i in range(len(indialockdown3)):\n",
        "    pol , sub = get_sentiment(indialockdown3['text'][i])\n",
        "    polarity.append(pol)\n",
        "    subjectivity.append(sub)\n",
        "\n",
        "\n",
        "indialockdown3['polarity'] = polarity\n",
        "indialockdown3['subjectivity'] = subjectivity\n",
        "\n",
        "indialockdown4.reset_index(inplace = True)\n",
        "polarity,subjectivity = [], []\n",
        "for i in range(len(indialockdown4)):\n",
        "    pol , sub = get_sentiment(indialockdown4['text'][i])\n",
        "    polarity.append(pol)\n",
        "    subjectivity.append(sub)\n",
        "\n",
        "\n",
        "indialockdown4['polarity'] = polarity\n",
        "indialockdown4['subjectivity'] = subjectivity\n"
      ],
      "execution_count": null,
      "outputs": [
        {
          "output_type": "stream",
          "text": [
            "/usr/local/lib/python3.7/dist-packages/ipykernel_launcher.py:15: SettingWithCopyWarning: \n",
            "A value is trying to be set on a copy of a slice from a DataFrame.\n",
            "Try using .loc[row_indexer,col_indexer] = value instead\n",
            "\n",
            "See the caveats in the documentation: https://pandas.pydata.org/pandas-docs/stable/user_guide/indexing.html#returning-a-view-versus-a-copy\n",
            "  from ipykernel import kernelapp as app\n",
            "/usr/local/lib/python3.7/dist-packages/ipykernel_launcher.py:16: SettingWithCopyWarning: \n",
            "A value is trying to be set on a copy of a slice from a DataFrame.\n",
            "Try using .loc[row_indexer,col_indexer] = value instead\n",
            "\n",
            "See the caveats in the documentation: https://pandas.pydata.org/pandas-docs/stable/user_guide/indexing.html#returning-a-view-versus-a-copy\n",
            "  app.launch_new_instance()\n",
            "/usr/local/lib/python3.7/dist-packages/ipykernel_launcher.py:26: SettingWithCopyWarning: \n",
            "A value is trying to be set on a copy of a slice from a DataFrame.\n",
            "Try using .loc[row_indexer,col_indexer] = value instead\n",
            "\n",
            "See the caveats in the documentation: https://pandas.pydata.org/pandas-docs/stable/user_guide/indexing.html#returning-a-view-versus-a-copy\n",
            "/usr/local/lib/python3.7/dist-packages/ipykernel_launcher.py:27: SettingWithCopyWarning: \n",
            "A value is trying to be set on a copy of a slice from a DataFrame.\n",
            "Try using .loc[row_indexer,col_indexer] = value instead\n",
            "\n",
            "See the caveats in the documentation: https://pandas.pydata.org/pandas-docs/stable/user_guide/indexing.html#returning-a-view-versus-a-copy\n",
            "/usr/local/lib/python3.7/dist-packages/ipykernel_launcher.py:37: SettingWithCopyWarning: \n",
            "A value is trying to be set on a copy of a slice from a DataFrame.\n",
            "Try using .loc[row_indexer,col_indexer] = value instead\n",
            "\n",
            "See the caveats in the documentation: https://pandas.pydata.org/pandas-docs/stable/user_guide/indexing.html#returning-a-view-versus-a-copy\n",
            "/usr/local/lib/python3.7/dist-packages/ipykernel_launcher.py:38: SettingWithCopyWarning: \n",
            "A value is trying to be set on a copy of a slice from a DataFrame.\n",
            "Try using .loc[row_indexer,col_indexer] = value instead\n",
            "\n",
            "See the caveats in the documentation: https://pandas.pydata.org/pandas-docs/stable/user_guide/indexing.html#returning-a-view-versus-a-copy\n",
            "/usr/local/lib/python3.7/dist-packages/ipykernel_launcher.py:48: SettingWithCopyWarning: \n",
            "A value is trying to be set on a copy of a slice from a DataFrame.\n",
            "Try using .loc[row_indexer,col_indexer] = value instead\n",
            "\n",
            "See the caveats in the documentation: https://pandas.pydata.org/pandas-docs/stable/user_guide/indexing.html#returning-a-view-versus-a-copy\n",
            "/usr/local/lib/python3.7/dist-packages/ipykernel_launcher.py:49: SettingWithCopyWarning: \n",
            "A value is trying to be set on a copy of a slice from a DataFrame.\n",
            "Try using .loc[row_indexer,col_indexer] = value instead\n",
            "\n",
            "See the caveats in the documentation: https://pandas.pydata.org/pandas-docs/stable/user_guide/indexing.html#returning-a-view-versus-a-copy\n"
          ],
          "name": "stderr"
        }
      ]
    },
    {
      "cell_type": "code",
      "metadata": {
        "colab": {
          "base_uri": "https://localhost:8080/",
          "height": 195
        },
        "id": "C-nxGzRvdUPw",
        "outputId": "dc24b108-20a3-4f96-cf07-b727b3b7c447"
      },
      "source": [
        "indialockdown1.head()"
      ],
      "execution_count": null,
      "outputs": [
        {
          "output_type": "execute_result",
          "data": {
            "text/html": [
              "<div>\n",
              "<style scoped>\n",
              "    .dataframe tbody tr th:only-of-type {\n",
              "        vertical-align: middle;\n",
              "    }\n",
              "\n",
              "    .dataframe tbody tr th {\n",
              "        vertical-align: top;\n",
              "    }\n",
              "\n",
              "    .dataframe thead th {\n",
              "        text-align: right;\n",
              "    }\n",
              "</style>\n",
              "<table border=\"1\" class=\"dataframe\">\n",
              "  <thead>\n",
              "    <tr style=\"text-align: right;\">\n",
              "      <th></th>\n",
              "      <th>index</th>\n",
              "      <th>text</th>\n",
              "      <th>topics</th>\n",
              "      <th>date</th>\n",
              "      <th>polarity</th>\n",
              "      <th>subjectivity</th>\n",
              "    </tr>\n",
              "  </thead>\n",
              "  <tbody>\n",
              "    <tr>\n",
              "      <th>0</th>\n",
              "      <td>0</td>\n",
              "      <td>corona update total effected recovered fatalit...</td>\n",
              "      <td>corona,update,total,recovered,global</td>\n",
              "      <td>2020-03-25</td>\n",
              "      <td>0.000000</td>\n",
              "      <td>0.375000</td>\n",
              "    </tr>\n",
              "    <tr>\n",
              "      <th>1</th>\n",
              "      <td>1</td>\n",
              "      <td>anti corona t shirt collection is online for s...</td>\n",
              "      <td>corona,covid</td>\n",
              "      <td>2020-03-25</td>\n",
              "      <td>0.000000</td>\n",
              "      <td>0.000000</td>\n",
              "    </tr>\n",
              "    <tr>\n",
              "      <th>2</th>\n",
              "      <td>2</td>\n",
              "      <td>the matter is serious take full care not to be...</td>\n",
              "      <td>care,corona</td>\n",
              "      <td>2020-03-25</td>\n",
              "      <td>0.008333</td>\n",
              "      <td>0.608333</td>\n",
              "    </tr>\n",
              "    <tr>\n",
              "      <th>3</th>\n",
              "      <td>3</td>\n",
              "      <td>all mosque committee members headed by syed ga...</td>\n",
              "      <td>lockdown,stay,pray,corona</td>\n",
              "      <td>2020-03-25</td>\n",
              "      <td>-0.100000</td>\n",
              "      <td>0.100000</td>\n",
              "    </tr>\n",
              "    <tr>\n",
              "      <th>4</th>\n",
              "      <td>4</td>\n",
              "      <td>if these indians are already infected with cor...</td>\n",
              "      <td>corona,symptoms,govt,spread,virus,india</td>\n",
              "      <td>2020-03-25</td>\n",
              "      <td>0.000000</td>\n",
              "      <td>0.250000</td>\n",
              "    </tr>\n",
              "  </tbody>\n",
              "</table>\n",
              "</div>"
            ],
            "text/plain": [
              "   index  ... subjectivity\n",
              "0      0  ...     0.375000\n",
              "1      1  ...     0.000000\n",
              "2      2  ...     0.608333\n",
              "3      3  ...     0.100000\n",
              "4      4  ...     0.250000\n",
              "\n",
              "[5 rows x 6 columns]"
            ]
          },
          "metadata": {
            "tags": []
          },
          "execution_count": 158
        }
      ]
    },
    {
      "cell_type": "code",
      "metadata": {
        "id": "9yb5KnYIdUMN"
      },
      "source": [
        "poscount1 = 0\n",
        "negcount1 = 0\n",
        "neutcount1 = 0\n",
        "poscount2 = 0\n",
        "negcount2 = 0\n",
        "neutcount2 = 0\n",
        "poscount3 = 0\n",
        "negcount3 = 0\n",
        "neutcount3 = 0\n",
        "poscount4 = 0\n",
        "negcount4 = 0\n",
        "neutcount4 = 0\n",
        "\n",
        "\n",
        "for i in indialockdown1.index:\n",
        "  if (indialockdown1.at[i,\"polarity\"]>0):\n",
        "    poscount1 = poscount1 + 1\n",
        "  elif (indialockdown1.at[i,\"polarity\"]==0):\n",
        "    neutcount1 = neutcount1 + 1\n",
        "  else:\n",
        "    negcount1 = negcount1 + 1\n",
        "\n",
        "\n",
        "for i in indialockdown2.index:\n",
        "  if (indialockdown2.at[i,\"polarity\"]>0):\n",
        "    poscount2 = poscount2 + 1\n",
        "  elif (indialockdown2.at[i,\"polarity\"]==0):\n",
        "    neutcount2 = neutcount2 + 1\n",
        "  else:\n",
        "    negcount2 = negcount2 + 1\n",
        "\n",
        "for i in indialockdown3.index:\n",
        "  if (indialockdown3.at[i,\"polarity\"]>0):\n",
        "    poscount3 = poscount3 + 1\n",
        "  elif (indialockdown3.at[i,\"polarity\"]==0):\n",
        "    neutcount3 = neutcount3 + 1\n",
        "  else:\n",
        "    negcount3 = negcount3 + 1\n",
        "\n",
        "for i in indialockdown4.index:\n",
        "  if(indialockdown4.at[i,\"polarity\"]>0):\n",
        "    poscount4 = poscount4 + 1\n",
        "  elif (indialockdown4.at[i,\"polarity\"]==0):\n",
        "    neutcount4 = neutcount4 + 1\n",
        "  else:\n",
        "    negcount4 = negcount4 + 1"
      ],
      "execution_count": null,
      "outputs": []
    },
    {
      "cell_type": "code",
      "metadata": {
        "id": "ghfYptVhdUH0"
      },
      "source": [
        "draw = pd.DataFrame(columns=[\"Lockdown\",\"Positive\",\"Negative\",\"Neutral\"])\n",
        "draw = draw.append({'Lockdown': \"Lockdown 1\", 'Positive': poscount1, 'Negative': negcount1, 'Neutral': neutcount1}, ignore_index=True)\n",
        "draw = draw.append({'Lockdown': \"Lockdown 2\",'Positive': poscount2, 'Negative': negcount2, 'Neutral': neutcount2}, ignore_index=True)\n",
        "draw = draw.append({'Lockdown': \"Lockdown 3\",'Positive': poscount3, 'Negative': negcount3, 'Neutral': neutcount3}, ignore_index=True)\n",
        "draw = draw.append({'Lockdown': \"Lockdown 4\",'Positive': poscount4, 'Negative': negcount4, 'Neutral': neutcount4}, ignore_index=True)"
      ],
      "execution_count": null,
      "outputs": []
    },
    {
      "cell_type": "code",
      "metadata": {
        "id": "ab3rivyunMBO"
      },
      "source": [
        ""
      ],
      "execution_count": null,
      "outputs": []
    },
    {
      "cell_type": "code",
      "metadata": {
        "colab": {
          "base_uri": "https://localhost:8080/",
          "height": 166
        },
        "id": "KFaE-ZQRfMV-",
        "outputId": "50397b92-7ebb-4106-ba5f-2138bae02485"
      },
      "source": [
        "draw"
      ],
      "execution_count": null,
      "outputs": [
        {
          "output_type": "execute_result",
          "data": {
            "text/html": [
              "<div>\n",
              "<style scoped>\n",
              "    .dataframe tbody tr th:only-of-type {\n",
              "        vertical-align: middle;\n",
              "    }\n",
              "\n",
              "    .dataframe tbody tr th {\n",
              "        vertical-align: top;\n",
              "    }\n",
              "\n",
              "    .dataframe thead th {\n",
              "        text-align: right;\n",
              "    }\n",
              "</style>\n",
              "<table border=\"1\" class=\"dataframe\">\n",
              "  <thead>\n",
              "    <tr style=\"text-align: right;\">\n",
              "      <th></th>\n",
              "      <th>Lockdown</th>\n",
              "      <th>Positive</th>\n",
              "      <th>Negative</th>\n",
              "      <th>Neutral</th>\n",
              "    </tr>\n",
              "  </thead>\n",
              "  <tbody>\n",
              "    <tr>\n",
              "      <th>0</th>\n",
              "      <td>Lockdown 1</td>\n",
              "      <td>9482</td>\n",
              "      <td>4500</td>\n",
              "      <td>6392</td>\n",
              "    </tr>\n",
              "    <tr>\n",
              "      <th>1</th>\n",
              "      <td>Lockdown 2</td>\n",
              "      <td>8729</td>\n",
              "      <td>3440</td>\n",
              "      <td>5530</td>\n",
              "    </tr>\n",
              "    <tr>\n",
              "      <th>2</th>\n",
              "      <td>Lockdown 3</td>\n",
              "      <td>2964</td>\n",
              "      <td>1246</td>\n",
              "      <td>1940</td>\n",
              "    </tr>\n",
              "    <tr>\n",
              "      <th>3</th>\n",
              "      <td>Lockdown 4</td>\n",
              "      <td>7112</td>\n",
              "      <td>2853</td>\n",
              "      <td>4303</td>\n",
              "    </tr>\n",
              "  </tbody>\n",
              "</table>\n",
              "</div>"
            ],
            "text/plain": [
              "     Lockdown Positive Negative Neutral\n",
              "0  Lockdown 1     9482     4500    6392\n",
              "1  Lockdown 2     8729     3440    5530\n",
              "2  Lockdown 3     2964     1246    1940\n",
              "3  Lockdown 4     7112     2853    4303"
            ]
          },
          "metadata": {
            "tags": []
          },
          "execution_count": 161
        }
      ]
    },
    {
      "cell_type": "code",
      "metadata": {
        "colab": {
          "base_uri": "https://localhost:8080/"
        },
        "id": "fO9sYF7rmBw-",
        "outputId": "5c689835-c079-46f7-b2b4-b0967bc8f220"
      },
      "source": [
        "draw.sum(axis=0) "
      ],
      "execution_count": null,
      "outputs": [
        {
          "output_type": "execute_result",
          "data": {
            "text/plain": [
              "Lockdown    Lockdown 1Lockdown 2Lockdown 3Lockdown 4\n",
              "Positive                                       28287\n",
              "Negative                                       12039\n",
              "Neutral                                        18165\n",
              "dtype: object"
            ]
          },
          "metadata": {
            "tags": []
          },
          "execution_count": 162
        }
      ]
    },
    {
      "cell_type": "code",
      "metadata": {
        "colab": {
          "base_uri": "https://localhost:8080/"
        },
        "id": "EAG0YYM3jIrR",
        "outputId": "559412e2-6491-4d44-d9d1-ad0da42fa2e0"
      },
      "source": [
        "indialockdown1['sentiment'] = \"\"\n",
        "for i in indialockdown1.index:\n",
        "  if (indialockdown1.at[i,\"polarity\"]>0):\n",
        "    indialockdown1.at[i,'sentiment']= 'Positive'\n",
        "  elif (indialockdown1.at[i,\"polarity\"]==0):\n",
        "    indialockdown1.at[i,'sentiment']= 'Neutral'\n",
        "  else:\n",
        "    indialockdown1.at[i,'sentiment']= 'Negative'\n",
        "\n"
      ],
      "execution_count": null,
      "outputs": [
        {
          "output_type": "stream",
          "text": [
            "/usr/local/lib/python3.7/dist-packages/ipykernel_launcher.py:1: SettingWithCopyWarning: \n",
            "A value is trying to be set on a copy of a slice from a DataFrame.\n",
            "Try using .loc[row_indexer,col_indexer] = value instead\n",
            "\n",
            "See the caveats in the documentation: https://pandas.pydata.org/pandas-docs/stable/user_guide/indexing.html#returning-a-view-versus-a-copy\n",
            "  \"\"\"Entry point for launching an IPython kernel.\n"
          ],
          "name": "stderr"
        }
      ]
    },
    {
      "cell_type": "code",
      "metadata": {
        "colab": {
          "base_uri": "https://localhost:8080/"
        },
        "id": "OYLqSNaqocl8",
        "outputId": "9af60596-41fc-42e9-9550-40f93948cb49"
      },
      "source": [
        "indialockdown2['sentiment'] = \"\"\n",
        "for i in indialockdown2.index:\n",
        "  if (indialockdown2.at[i,\"polarity\"]>0):\n",
        "    indialockdown2.at[i,'sentiment']= 'Positive'\n",
        "  elif (indialockdown2.at[i,\"polarity\"]==0):\n",
        "    indialockdown2.at[i,'sentiment']= 'Neutral'\n",
        "  else:\n",
        "    indialockdown2.at[i,'sentiment']= 'Negative'"
      ],
      "execution_count": null,
      "outputs": [
        {
          "output_type": "stream",
          "text": [
            "/usr/local/lib/python3.7/dist-packages/ipykernel_launcher.py:1: SettingWithCopyWarning: \n",
            "A value is trying to be set on a copy of a slice from a DataFrame.\n",
            "Try using .loc[row_indexer,col_indexer] = value instead\n",
            "\n",
            "See the caveats in the documentation: https://pandas.pydata.org/pandas-docs/stable/user_guide/indexing.html#returning-a-view-versus-a-copy\n",
            "  \"\"\"Entry point for launching an IPython kernel.\n"
          ],
          "name": "stderr"
        }
      ]
    },
    {
      "cell_type": "code",
      "metadata": {
        "colab": {
          "base_uri": "https://localhost:8080/"
        },
        "id": "e9MHu6t-EDGc",
        "outputId": "f7583413-9b73-4624-af3b-99cecbdc7b72"
      },
      "source": [
        "indialockdown3['sentiment'] = \"\"\n",
        "for i in indialockdown3.index:\n",
        "  if (indialockdown3.at[i,\"polarity\"]>0):\n",
        "    indialockdown3.at[i,'sentiment']= 'Positive'\n",
        "  elif (indialockdown3.at[i,\"polarity\"]==0):\n",
        "    indialockdown3.at[i,'sentiment']= 'Neutral'\n",
        "  else:\n",
        "    indialockdown3.at[i,'sentiment']= 'Negative'"
      ],
      "execution_count": null,
      "outputs": [
        {
          "output_type": "stream",
          "text": [
            "/usr/local/lib/python3.7/dist-packages/ipykernel_launcher.py:1: SettingWithCopyWarning: \n",
            "A value is trying to be set on a copy of a slice from a DataFrame.\n",
            "Try using .loc[row_indexer,col_indexer] = value instead\n",
            "\n",
            "See the caveats in the documentation: https://pandas.pydata.org/pandas-docs/stable/user_guide/indexing.html#returning-a-view-versus-a-copy\n",
            "  \"\"\"Entry point for launching an IPython kernel.\n"
          ],
          "name": "stderr"
        }
      ]
    },
    {
      "cell_type": "code",
      "metadata": {
        "colab": {
          "base_uri": "https://localhost:8080/"
        },
        "id": "Tdz1ZnkeEDCm",
        "outputId": "1e388b37-dcc9-42f5-812e-346ed67a7f4b"
      },
      "source": [
        "indialockdown4['sentiment'] = \"\"\n",
        "for i in indialockdown4.index:\n",
        "  if (indialockdown4.at[i,\"polarity\"]>0):\n",
        "    indialockdown4.at[i,'sentiment']= 'Positive'\n",
        "  elif (indialockdown4.at[i,\"polarity\"]==0):\n",
        "    indialockdown4.at[i,'sentiment']= 'Neutral'\n",
        "  else:\n",
        "    indialockdown4.at[i,'sentiment']= 'Negative'"
      ],
      "execution_count": null,
      "outputs": [
        {
          "output_type": "stream",
          "text": [
            "/usr/local/lib/python3.7/dist-packages/ipykernel_launcher.py:1: SettingWithCopyWarning: \n",
            "A value is trying to be set on a copy of a slice from a DataFrame.\n",
            "Try using .loc[row_indexer,col_indexer] = value instead\n",
            "\n",
            "See the caveats in the documentation: https://pandas.pydata.org/pandas-docs/stable/user_guide/indexing.html#returning-a-view-versus-a-copy\n",
            "  \"\"\"Entry point for launching an IPython kernel.\n"
          ],
          "name": "stderr"
        }
      ]
    },
    {
      "cell_type": "code",
      "metadata": {
        "id": "KX8BHVYYjoDJ"
      },
      "source": [
        "import numpy as np # linear algebra\n",
        "import pandas as pd # data processing, CSV file I/O (e.g. pd.read_csv)\n",
        "\n",
        "from sklearn.feature_extraction.text import CountVectorizer\n",
        "from keras.preprocessing.text import Tokenizer\n",
        "from keras.preprocessing.sequence import pad_sequences\n",
        "from keras.models import Sequential\n",
        "from keras.layers import Dense, Embedding, LSTM, SpatialDropout1D\n",
        "from sklearn.model_selection import train_test_split\n",
        "from keras.utils.np_utils import to_categorical\n",
        "import re\n"
      ],
      "execution_count": null,
      "outputs": []
    },
    {
      "cell_type": "code",
      "metadata": {
        "id": "cU9RDuCsEdGF"
      },
      "source": [
        ""
      ],
      "execution_count": null,
      "outputs": []
    },
    {
      "cell_type": "code",
      "metadata": {
        "id": "r7pDfCBEsVf5"
      },
      "source": [
        "df1 = indialockdown1[['text','sentiment']]\n",
        "df1.columns = ['statement','sentiment']\n",
        "\n",
        "df2 = indialockdown2[['text','sentiment']]\n",
        "df2.columns = ['statement','sentiment']\n",
        "\n",
        "df3 = indialockdown3[['text','sentiment']]\n",
        "df3.columns = ['statement','sentiment']\n",
        "\n",
        "df4 = indialockdown4[['text','sentiment']]\n",
        "df4.columns = ['statement','sentiment']"
      ],
      "execution_count": null,
      "outputs": []
    },
    {
      "cell_type": "code",
      "metadata": {
        "colab": {
          "base_uri": "https://localhost:8080/",
          "height": 402
        },
        "id": "P0GBUKiLEW8e",
        "outputId": "d2e551fb-7a39-4f42-b95a-15dad5db9615"
      },
      "source": [
        "df = df1.append(df2)\n",
        "df = df.append(df3)\n",
        "df = df.append(df4)\n",
        "df"
      ],
      "execution_count": null,
      "outputs": [
        {
          "output_type": "execute_result",
          "data": {
            "text/html": [
              "<div>\n",
              "<style scoped>\n",
              "    .dataframe tbody tr th:only-of-type {\n",
              "        vertical-align: middle;\n",
              "    }\n",
              "\n",
              "    .dataframe tbody tr th {\n",
              "        vertical-align: top;\n",
              "    }\n",
              "\n",
              "    .dataframe thead th {\n",
              "        text-align: right;\n",
              "    }\n",
              "</style>\n",
              "<table border=\"1\" class=\"dataframe\">\n",
              "  <thead>\n",
              "    <tr style=\"text-align: right;\">\n",
              "      <th></th>\n",
              "      <th>statement</th>\n",
              "      <th>sentiment</th>\n",
              "    </tr>\n",
              "  </thead>\n",
              "  <tbody>\n",
              "    <tr>\n",
              "      <th>0</th>\n",
              "      <td>corona update total effected recovered fatalit...</td>\n",
              "      <td>Neutral</td>\n",
              "    </tr>\n",
              "    <tr>\n",
              "      <th>1</th>\n",
              "      <td>anti corona t shirt collection is online for s...</td>\n",
              "      <td>Neutral</td>\n",
              "    </tr>\n",
              "    <tr>\n",
              "      <th>2</th>\n",
              "      <td>the matter is serious take full care not to be...</td>\n",
              "      <td>Positive</td>\n",
              "    </tr>\n",
              "    <tr>\n",
              "      <th>3</th>\n",
              "      <td>all mosque committee members headed by syed ga...</td>\n",
              "      <td>Negative</td>\n",
              "    </tr>\n",
              "    <tr>\n",
              "      <th>4</th>\n",
              "      <td>if these indians are already infected with cor...</td>\n",
              "      <td>Neutral</td>\n",
              "    </tr>\n",
              "    <tr>\n",
              "      <th>...</th>\n",
              "      <td>...</td>\n",
              "      <td>...</td>\n",
              "    </tr>\n",
              "    <tr>\n",
              "      <th>14263</th>\n",
              "      <td>aatmanirbharapnabharat facilitating states dur...</td>\n",
              "      <td>Neutral</td>\n",
              "    </tr>\n",
              "    <tr>\n",
              "      <th>14264</th>\n",
              "      <td>cheers to you jyoti wish you health happiness ...</td>\n",
              "      <td>Positive</td>\n",
              "    </tr>\n",
              "    <tr>\n",
              "      <th>14265</th>\n",
              "      <td>aatmanirbharapnabharat technology driven educa...</td>\n",
              "      <td>Neutral</td>\n",
              "    </tr>\n",
              "    <tr>\n",
              "      <th>14266</th>\n",
              "      <td>eidmubarak eidalfitr romanreigns eid mubarak e...</td>\n",
              "      <td>Negative</td>\n",
              "    </tr>\n",
              "    <tr>\n",
              "      <th>14267</th>\n",
              "      <td>dmrc metro i wanna ask about and gave asure to...</td>\n",
              "      <td>Positive</td>\n",
              "    </tr>\n",
              "  </tbody>\n",
              "</table>\n",
              "<p>58491 rows × 2 columns</p>\n",
              "</div>"
            ],
            "text/plain": [
              "                                               statement sentiment\n",
              "0      corona update total effected recovered fatalit...   Neutral\n",
              "1      anti corona t shirt collection is online for s...   Neutral\n",
              "2      the matter is serious take full care not to be...  Positive\n",
              "3      all mosque committee members headed by syed ga...  Negative\n",
              "4      if these indians are already infected with cor...   Neutral\n",
              "...                                                  ...       ...\n",
              "14263  aatmanirbharapnabharat facilitating states dur...   Neutral\n",
              "14264  cheers to you jyoti wish you health happiness ...  Positive\n",
              "14265  aatmanirbharapnabharat technology driven educa...   Neutral\n",
              "14266  eidmubarak eidalfitr romanreigns eid mubarak e...  Negative\n",
              "14267  dmrc metro i wanna ask about and gave asure to...  Positive\n",
              "\n",
              "[58491 rows x 2 columns]"
            ]
          },
          "metadata": {
            "tags": []
          },
          "execution_count": 170
        }
      ]
    },
    {
      "cell_type": "code",
      "metadata": {
        "id": "yf0QnmkJsVcx"
      },
      "source": [
        "train,eva = train_test_split(df,test_size = 0.2)"
      ],
      "execution_count": null,
      "outputs": []
    },
    {
      "cell_type": "code",
      "metadata": {
        "id": "QYvrO51RsVZM"
      },
      "source": [
        "!pip install simpletransformers\n"
      ],
      "execution_count": null,
      "outputs": []
    },
    {
      "cell_type": "code",
      "metadata": {
        "id": "qLglACtJt7YC"
      },
      "source": [
        "!pip install simpletransformers[classification]"
      ],
      "execution_count": null,
      "outputs": []
    },
    {
      "cell_type": "code",
      "metadata": {
        "colab": {
          "base_uri": "https://localhost:8080/"
        },
        "id": "MFZcBXpGsVVh",
        "outputId": "70395762-53ed-40b0-a0db-0d49dfc5bc70"
      },
      "source": [
        "from simpletransformers.classification import ClassificationModel\n",
        "\n",
        "\n",
        "# Create a TransformerModel\n",
        "model = ClassificationModel('bert', 'bert-base-cased', num_labels=3, args={'reprocess_input_data': True, 'overwrite_output_dir': True},use_cuda=False)"
      ],
      "execution_count": null,
      "outputs": [
        {
          "output_type": "stream",
          "text": [
            "Some weights of the model checkpoint at bert-base-cased were not used when initializing BertForSequenceClassification: ['cls.predictions.bias', 'cls.predictions.transform.dense.weight', 'cls.predictions.transform.dense.bias', 'cls.predictions.decoder.weight', 'cls.seq_relationship.weight', 'cls.seq_relationship.bias', 'cls.predictions.transform.LayerNorm.weight', 'cls.predictions.transform.LayerNorm.bias']\n",
            "- This IS expected if you are initializing BertForSequenceClassification from the checkpoint of a model trained on another task or with another architecture (e.g. initializing a BertForSequenceClassification model from a BertForPreTraining model).\n",
            "- This IS NOT expected if you are initializing BertForSequenceClassification from the checkpoint of a model that you expect to be exactly identical (initializing a BertForSequenceClassification model from a BertForSequenceClassification model).\n",
            "Some weights of BertForSequenceClassification were not initialized from the model checkpoint at bert-base-cased and are newly initialized: ['classifier.weight', 'classifier.bias']\n",
            "You should probably TRAIN this model on a down-stream task to be able to use it for predictions and inference.\n"
          ],
          "name": "stderr"
        }
      ]
    },
    {
      "cell_type": "code",
      "metadata": {
        "colab": {
          "base_uri": "https://localhost:8080/"
        },
        "id": "0E6X4GLz1HXX",
        "outputId": "793c5612-3328-49c4-f896-ba477de03738"
      },
      "source": [
        "# Create a TransformerModel\n",
        "model = ClassificationModel('roberta', 'roberta-base', num_labels=3, args={'reprocess_input_data': True, 'overwrite_output_dir': True},use_cuda=False)\n"
      ],
      "execution_count": null,
      "outputs": [
        {
          "output_type": "stream",
          "text": [
            "Some weights of the model checkpoint at roberta-base were not used when initializing RobertaForSequenceClassification: ['lm_head.bias', 'lm_head.dense.weight', 'lm_head.dense.bias', 'lm_head.layer_norm.weight', 'lm_head.layer_norm.bias', 'lm_head.decoder.weight']\n",
            "- This IS expected if you are initializing RobertaForSequenceClassification from the checkpoint of a model trained on another task or with another architecture (e.g. initializing a BertForSequenceClassification model from a BertForPreTraining model).\n",
            "- This IS NOT expected if you are initializing RobertaForSequenceClassification from the checkpoint of a model that you expect to be exactly identical (initializing a BertForSequenceClassification model from a BertForSequenceClassification model).\n",
            "Some weights of RobertaForSequenceClassification were not initialized from the model checkpoint at roberta-base and are newly initialized: ['classifier.dense.weight', 'classifier.dense.bias', 'classifier.out_proj.weight', 'classifier.out_proj.bias']\n",
            "You should probably TRAIN this model on a down-stream task to be able to use it for predictions and inference.\n"
          ],
          "name": "stderr"
        }
      ]
    },
    {
      "cell_type": "code",
      "metadata": {
        "colab": {
          "base_uri": "https://localhost:8080/"
        },
        "id": "TTABGAlnsVR_",
        "outputId": "db2375c7-c29a-464f-bc83-b2c38e3051a3"
      },
      "source": [
        "def making_label(st):\n",
        "    if(st=='Positive'):\n",
        "        return 0\n",
        "    elif(st=='Neutral'):\n",
        "        return 2\n",
        "    else:\n",
        "        return 1\n",
        "    \n",
        "train['label'] = train['sentiment'].apply(making_label)\n",
        "eva['label'] = eva['sentiment'].apply(making_label)\n",
        "print(train.shape)"
      ],
      "execution_count": null,
      "outputs": [
        {
          "output_type": "stream",
          "text": [
            "(46792, 3)\n"
          ],
          "name": "stdout"
        },
        {
          "output_type": "stream",
          "text": [
            "/usr/local/lib/python3.7/dist-packages/ipykernel_launcher.py:9: SettingWithCopyWarning: \n",
            "A value is trying to be set on a copy of a slice from a DataFrame.\n",
            "Try using .loc[row_indexer,col_indexer] = value instead\n",
            "\n",
            "See the caveats in the documentation: https://pandas.pydata.org/pandas-docs/stable/user_guide/indexing.html#returning-a-view-versus-a-copy\n",
            "  if __name__ == '__main__':\n",
            "/usr/local/lib/python3.7/dist-packages/ipykernel_launcher.py:10: SettingWithCopyWarning: \n",
            "A value is trying to be set on a copy of a slice from a DataFrame.\n",
            "Try using .loc[row_indexer,col_indexer] = value instead\n",
            "\n",
            "See the caveats in the documentation: https://pandas.pydata.org/pandas-docs/stable/user_guide/indexing.html#returning-a-view-versus-a-copy\n",
            "  # Remove the CWD from sys.path while we load stuff.\n"
          ],
          "name": "stderr"
        }
      ]
    },
    {
      "cell_type": "code",
      "metadata": {
        "id": "Gi7WQ4MhuFBk"
      },
      "source": [
        "train_df = pd.DataFrame({\n",
        "    'text': train['statement'][:1500].replace(r'\\n', ' ', regex=True),\n",
        "    'label': train['label'][:1500]\n",
        "})\n",
        "\n",
        "eval_df = pd.DataFrame({\n",
        "    'text': eva['statement'][-400:].replace(r'\\n', ' ', regex=True),\n",
        "    'label': eva['label'][-400:]\n",
        "})"
      ],
      "execution_count": null,
      "outputs": []
    },
    {
      "cell_type": "code",
      "metadata": {
        "colab": {
          "base_uri": "https://localhost:8080/",
          "height": 183,
          "referenced_widgets": [
            "0cc18213a0894f709f7e4c762b50056a",
            "d6fcea00de0a484e8f85fd09366a522f",
            "19cf8527e6d44da89a195b7c98098254",
            "0d9f23ea6c6d4d2887e9adf20a632cd2",
            "8c9a44c4b36f44f282cdabd1e50a4a2d",
            "3bc4cdea46d34e38b5df82fd23e9cd7c",
            "172e3c465c654de0ba9e0cb323f7e252",
            "94455e0359f04fa9a9e75d780d57ca1e",
            "32cad1016109465dae79f9b8cae4511c",
            "6b971b818458486983e32fa8a5464fb1",
            "b8d9e12c31ab46a694694de93acf740f",
            "1cef315fb07f49ab9c9e7d3c6f31f901",
            "d3c5885febc5448e8bc423c79a78ceb3",
            "578b0994e762482bbfbdae6a04c5440d",
            "619e799898b44e5890b4c472f09fc700",
            "fefa4cd46f2243f1b30516875d75428f",
            "70bc569b6fa446a4ac7ab4b4e0fbf8a2",
            "56b8787bf54e497e8d286e750244c59f",
            "cc10dcb43b8d408a9ac8d22e88abe2fe",
            "36bfc1ad9ab94082b3775ee479add205",
            "614e7a454d154faf8ca4b7e5a3099e81",
            "9592a8ad4c3d42bebe4e130738dfb191",
            "2a67d2e780bc4633b56a87416d505896",
            "59bf76d4b31845d5af8745c42ac8f6c3",
            "9ea69c26bb1649a59416672180e127eb",
            "630d0ff925e74419bf65674ef0e4563a",
            "cd89ea5d97954a8a87cc706651b3f53a",
            "2bc5b2ccdab74d0ca471fb05fca95948",
            "7dddaf0288dc4d988b0655e53e3d3c17",
            "f0d07f9b5fd145a0befd3f6a0b7b9ec4",
            "252c81acb63a46b29205b7e6d68ff6d7",
            "698b1610640448c7b49659dc848da79b",
            "7eebf9c2250e4b24b9a5357a404a4d36"
          ]
        },
        "id": "MQ6dJFZluE9W",
        "outputId": "238c606e-4b0c-41ba-acff-6ddcea0e56d9"
      },
      "source": [
        "model.train_model(train_df)"
      ],
      "execution_count": null,
      "outputs": [
        {
          "output_type": "stream",
          "text": [
            "/usr/local/lib/python3.7/dist-packages/simpletransformers/classification/classification_model.py:449: UserWarning: Dataframe headers not specified. Falling back to using column 0 as text and column 1 as labels.\n",
            "  \"Dataframe headers not specified. Falling back to using column 0 as text and column 1 as labels.\"\n"
          ],
          "name": "stderr"
        },
        {
          "output_type": "display_data",
          "data": {
            "application/vnd.jupyter.widget-view+json": {
              "model_id": "0cc18213a0894f709f7e4c762b50056a",
              "version_minor": 0,
              "version_major": 2
            },
            "text/plain": [
              "  0%|          | 0/1500 [00:00<?, ?it/s]"
            ]
          },
          "metadata": {
            "tags": []
          }
        },
        {
          "output_type": "display_data",
          "data": {
            "application/vnd.jupyter.widget-view+json": {
              "model_id": "1cef315fb07f49ab9c9e7d3c6f31f901",
              "version_minor": 0,
              "version_major": 2
            },
            "text/plain": [
              "Epoch:   0%|          | 0/1 [00:00<?, ?it/s]"
            ]
          },
          "metadata": {
            "tags": []
          }
        },
        {
          "output_type": "display_data",
          "data": {
            "application/vnd.jupyter.widget-view+json": {
              "model_id": "2a67d2e780bc4633b56a87416d505896",
              "version_minor": 0,
              "version_major": 2
            },
            "text/plain": [
              "Running Epoch 0 of 1:   0%|          | 0/188 [00:00<?, ?it/s]"
            ]
          },
          "metadata": {
            "tags": []
          }
        },
        {
          "output_type": "execute_result",
          "data": {
            "text/plain": [
              "(188, 1.0048085359182763)"
            ]
          },
          "metadata": {
            "tags": []
          },
          "execution_count": 204
        }
      ]
    },
    {
      "cell_type": "code",
      "metadata": {
        "colab": {
          "base_uri": "https://localhost:8080/",
          "height": 134,
          "referenced_widgets": [
            "4d5ca4d56d7a4e4097763ef7db427cdf",
            "daaa3afa5a634a90bc15854267b92bbd",
            "5dd591ded25e43f9b7e527c795cdfa32",
            "b56f930d46c647edb82271b788fd95bd",
            "016e5bad514f47f282f1eaf91a90df6a",
            "a86ec260faa84f78bb53d5d24ba09be4",
            "3881bd069bf8435e81fe1ad606e5062f",
            "99c5fc821de444faa41f769fea3a175f",
            "ea562dfee7f54518b04fcdbc2c8ca86f",
            "423fd6c42e7e419d9c74d66c8f351953",
            "e7eb2828b9794467bb04191f2bf9179d",
            "3e4e08dd29664c2b85b3296e4e7d86ee",
            "2b43edba03de4947a9e30c613610f587",
            "de18dbe1d6e44418993703ee2f55fb00",
            "f0af658c51f749a5af523758d6a96ced",
            "54cf6cc3cb7f425389a6e55a282cab70",
            "0e92dbbec7804c0b91906343b5721e06",
            "b2b81b0b2b094aaeb2f4398ae6c27999",
            "09bcb77d875e4c2b8bdc571e0ae4c314",
            "4bd4120325a04eb8b4d3308fd096cbb6",
            "24e280f717db4a1d8d60e0e194a3a39b",
            "c71b2ae59e9146748a6be9c8d5951b2b"
          ]
        },
        "id": "NW4MAP-EuE52",
        "outputId": "3bdfc0f9-d8f2-4263-b6c2-251f608a26b6"
      },
      "source": [
        "result, model_outputs, wrong_predictions = model.eval_model(eval_df)"
      ],
      "execution_count": null,
      "outputs": [
        {
          "output_type": "stream",
          "text": [
            "/usr/local/lib/python3.7/dist-packages/simpletransformers/classification/classification_model.py:1029: UserWarning: Dataframe headers not specified. Falling back to using column 0 as text and column 1 as labels.\n",
            "  \"Dataframe headers not specified. Falling back to using column 0 as text and column 1 as labels.\"\n"
          ],
          "name": "stderr"
        },
        {
          "output_type": "display_data",
          "data": {
            "application/vnd.jupyter.widget-view+json": {
              "model_id": "4d5ca4d56d7a4e4097763ef7db427cdf",
              "version_minor": 0,
              "version_major": 2
            },
            "text/plain": [
              "  0%|          | 0/400 [00:00<?, ?it/s]"
            ]
          },
          "metadata": {
            "tags": []
          }
        },
        {
          "output_type": "display_data",
          "data": {
            "application/vnd.jupyter.widget-view+json": {
              "model_id": "3e4e08dd29664c2b85b3296e4e7d86ee",
              "version_minor": 0,
              "version_major": 2
            },
            "text/plain": [
              "Running Evaluation:   0%|          | 0/50 [00:00<?, ?it/s]"
            ]
          },
          "metadata": {
            "tags": []
          }
        }
      ]
    },
    {
      "cell_type": "code",
      "metadata": {
        "colab": {
          "base_uri": "https://localhost:8080/"
        },
        "id": "vrEjeA4fomOU",
        "outputId": "e253f4d3-76cf-4fbd-a81e-df4c7e097e2d"
      },
      "source": [
        "result"
      ],
      "execution_count": null,
      "outputs": [
        {
          "output_type": "execute_result",
          "data": {
            "text/plain": [
              "{'eval_loss': 0.8707465839385986, 'mcc': 0.375596098900267}"
            ]
          },
          "metadata": {
            "tags": []
          },
          "execution_count": 206
        }
      ]
    },
    {
      "cell_type": "code",
      "metadata": {
        "colab": {
          "base_uri": "https://localhost:8080/"
        },
        "id": "XpXVxS88vVhe",
        "outputId": "6ef8f1d7-a512-41d8-f4c0-80d6461687d4"
      },
      "source": [
        "model_outputs"
      ],
      "execution_count": null,
      "outputs": [
        {
          "output_type": "execute_result",
          "data": {
            "text/plain": [
              "array([[ 0.61977553,  0.44902292, -0.90085047],\n",
              "       [ 0.64759207, -0.93842554,  0.44740051],\n",
              "       [ 0.3215186 , -0.99738109,  0.94640166],\n",
              "       ...,\n",
              "       [ 0.84211397, -0.04078467, -0.58108532],\n",
              "       [ 0.76904523,  0.61685264, -1.17630851],\n",
              "       [ 0.23999476, -1.0979799 ,  1.04708052]])"
            ]
          },
          "metadata": {
            "tags": []
          },
          "execution_count": 207
        }
      ]
    },
    {
      "cell_type": "code",
      "metadata": {
        "id": "lV6gVYearRkk"
      },
      "source": [
        ""
      ],
      "execution_count": null,
      "outputs": []
    },
    {
      "cell_type": "code",
      "metadata": {
        "id": "MZfi53ocvVeV"
      },
      "source": [
        "lst = []\n",
        "for arr in model_outputs:\n",
        "    lst.append(np.argmax(arr))"
      ],
      "execution_count": null,
      "outputs": []
    },
    {
      "cell_type": "code",
      "metadata": {
        "id": "TK1GM-ScvVbS"
      },
      "source": [
        "true = eval_df['label'].tolist()\n",
        "predicted = lst"
      ],
      "execution_count": null,
      "outputs": []
    },
    {
      "cell_type": "code",
      "metadata": {
        "colab": {
          "base_uri": "https://localhost:8080/"
        },
        "id": "Lg076SygvVZM",
        "outputId": "9458e407-07aa-4a85-cdef-58f24674b3dd"
      },
      "source": [
        "import sklearn\n",
        "mat = sklearn.metrics.confusion_matrix(true , predicted)\n",
        "mat"
      ],
      "execution_count": null,
      "outputs": [
        {
          "output_type": "execute_result",
          "data": {
            "text/plain": [
              "array([[150,  12,  18],\n",
              "       [ 53,  23,  15],\n",
              "       [ 56,   2,  71]])"
            ]
          },
          "metadata": {
            "tags": []
          },
          "execution_count": 210
        }
      ]
    },
    {
      "cell_type": "code",
      "metadata": {
        "colab": {
          "base_uri": "https://localhost:8080/",
          "height": 265
        },
        "id": "N0Q2KO8ZvVW2",
        "outputId": "6c87573f-5de4-407f-b2bd-41115ae8fb7e"
      },
      "source": [
        "df_cm = pd.DataFrame(mat, range(3), range(3))\n",
        "\n",
        "sns.heatmap(df_cm, annot=True) \n",
        "plt.show()\n"
      ],
      "execution_count": null,
      "outputs": [
        {
          "output_type": "display_data",
          "data": {
            "image/png": "[encoded data removed]",
            "text/plain": [
              "<Figure size 432x288 with 2 Axes>"
            ]
          },
          "metadata": {
            "tags": [],
            "needs_background": "light"
          }
        }
      ]
    },
    {
      "cell_type": "code",
      "metadata": {
        "colab": {
          "base_uri": "https://localhost:8080/"
        },
        "id": "LjZrQlfQvVS-",
        "outputId": "0f878f9e-8603-4009-dc96-6995810ada03"
      },
      "source": [
        "print(sklearn.metrics.classification_report(true,predicted,target_names=['positive','neutral','negative']))"
      ],
      "execution_count": null,
      "outputs": [
        {
          "output_type": "stream",
          "text": [
            "              precision    recall  f1-score   support\n",
            "\n",
            "    positive       0.58      0.83      0.68       180\n",
            "     neutral       0.62      0.25      0.36        91\n",
            "    negative       0.68      0.55      0.61       129\n",
            "\n",
            "    accuracy                           0.61       400\n",
            "   macro avg       0.63      0.55      0.55       400\n",
            "weighted avg       0.62      0.61      0.59       400\n",
            "\n"
          ],
          "name": "stdout"
        }
      ]
    },
    {
      "cell_type": "code",
      "metadata": {
        "colab": {
          "base_uri": "https://localhost:8080/"
        },
        "id": "hTJhW1EEvVP7",
        "outputId": "c878192a-4492-4c16-e038-b5d1350dd049"
      },
      "source": [
        "sklearn.metrics.accuracy_score(true,predicted)"
      ],
      "execution_count": null,
      "outputs": [
        {
          "output_type": "execute_result",
          "data": {
            "text/plain": [
              "0.7025"
            ]
          },
          "metadata": {
            "tags": []
          },
          "execution_count": 67
        }
      ]
    },
    {
      "cell_type": "code",
      "metadata": {
        "id": "3p0i0dUGw01a"
      },
      "source": [
        ""
      ],
      "execution_count": null,
      "outputs": []
    },
    {
      "cell_type": "code",
      "metadata": {
        "id": "b8077NjvDkKj",
        "colab": {
          "base_uri": "https://localhost:8080/",
          "height": 195
        },
        "outputId": "c1aac8f6-12e9-435b-a503-99a683796432"
      },
      "source": [
        "indialockdown1.head()"
      ],
      "execution_count": null,
      "outputs": [
        {
          "output_type": "execute_result",
          "data": {
            "text/html": [
              "<div>\n",
              "<style scoped>\n",
              "    .dataframe tbody tr th:only-of-type {\n",
              "        vertical-align: middle;\n",
              "    }\n",
              "\n",
              "    .dataframe tbody tr th {\n",
              "        vertical-align: top;\n",
              "    }\n",
              "\n",
              "    .dataframe thead th {\n",
              "        text-align: right;\n",
              "    }\n",
              "</style>\n",
              "<table border=\"1\" class=\"dataframe\">\n",
              "  <thead>\n",
              "    <tr style=\"text-align: right;\">\n",
              "      <th></th>\n",
              "      <th>index</th>\n",
              "      <th>text</th>\n",
              "      <th>topics</th>\n",
              "      <th>date</th>\n",
              "      <th>polarity</th>\n",
              "      <th>subjectivity</th>\n",
              "      <th>sentiment</th>\n",
              "    </tr>\n",
              "  </thead>\n",
              "  <tbody>\n",
              "    <tr>\n",
              "      <th>0</th>\n",
              "      <td>0</td>\n",
              "      <td>corona update total effected recovered fatalit...</td>\n",
              "      <td>corona,update,total,recovered,global</td>\n",
              "      <td>2020-03-25</td>\n",
              "      <td>0.000000</td>\n",
              "      <td>0.375000</td>\n",
              "      <td>Neutral</td>\n",
              "    </tr>\n",
              "    <tr>\n",
              "      <th>1</th>\n",
              "      <td>1</td>\n",
              "      <td>anti corona t shirt collection is online for s...</td>\n",
              "      <td>corona,covid</td>\n",
              "      <td>2020-03-25</td>\n",
              "      <td>0.000000</td>\n",
              "      <td>0.000000</td>\n",
              "      <td>Neutral</td>\n",
              "    </tr>\n",
              "    <tr>\n",
              "      <th>2</th>\n",
              "      <td>2</td>\n",
              "      <td>the matter is serious take full care not to be...</td>\n",
              "      <td>care,corona</td>\n",
              "      <td>2020-03-25</td>\n",
              "      <td>0.008333</td>\n",
              "      <td>0.608333</td>\n",
              "      <td>Positive</td>\n",
              "    </tr>\n",
              "    <tr>\n",
              "      <th>3</th>\n",
              "      <td>3</td>\n",
              "      <td>all mosque committee members headed by syed ga...</td>\n",
              "      <td>lockdown,stay,pray,corona</td>\n",
              "      <td>2020-03-25</td>\n",
              "      <td>-0.100000</td>\n",
              "      <td>0.100000</td>\n",
              "      <td>Negative</td>\n",
              "    </tr>\n",
              "    <tr>\n",
              "      <th>4</th>\n",
              "      <td>4</td>\n",
              "      <td>if these indians are already infected with cor...</td>\n",
              "      <td>corona,symptoms,govt,spread,virus,india</td>\n",
              "      <td>2020-03-25</td>\n",
              "      <td>0.000000</td>\n",
              "      <td>0.250000</td>\n",
              "      <td>Neutral</td>\n",
              "    </tr>\n",
              "  </tbody>\n",
              "</table>\n",
              "</div>"
            ],
            "text/plain": [
              "   index  ... sentiment\n",
              "0      0  ...   Neutral\n",
              "1      1  ...   Neutral\n",
              "2      2  ...  Positive\n",
              "3      3  ...  Negative\n",
              "4      4  ...   Neutral\n",
              "\n",
              "[5 rows x 7 columns]"
            ]
          },
          "metadata": {
            "tags": []
          },
          "execution_count": 188
        }
      ]
    },
    {
      "cell_type": "code",
      "metadata": {
        "id": "Bgrh-XUPBNPh"
      },
      "source": [
        "indialockdown1.to_csv(\"a1.csv\")\n",
        "indialockdown2.to_csv(\"a2.csv\")"
      ],
      "execution_count": null,
      "outputs": []
    },
    {
      "cell_type": "code",
      "metadata": {
        "id": "ynTN4mtq27x2",
        "colab": {
          "base_uri": "https://localhost:8080/",
          "height": 555
        },
        "outputId": "f81c4992-67db-44c7-8818-19690c6cd8f0"
      },
      "source": [
        "poscount1 = 0\n",
        "negcount1 = 0\n",
        "neutcount1 = 0\n",
        "poscount2 = 0\n",
        "negcount2 = 0\n",
        "neutcount2 = 0\n",
        "poscount3 = 0\n",
        "negcount3 = 0\n",
        "neutcount3 = 0\n",
        "poscount4 = 0\n",
        "negcount4 = 0\n",
        "neutcount4 = 0\n",
        "\n",
        "\n",
        "for i in indialockdown1.index:\n",
        "  if (indialockdown1.at[i,\"pred\"]==\"positive\"):\n",
        "    poscount1 = poscount1 + 1\n",
        "  elif (indialockdown1.at[i,\"pred\"]==\"neutral\"):\n",
        "    neutcount1 = neutcount1 + 1\n",
        "  else:\n",
        "    negcount1 = negcount1 + 1\n",
        "\n",
        "\n",
        "for i in indialockdown2.index:\n",
        "  if (indialockdown2.at[i,\"pred\"]==\"positive\"):\n",
        "    poscount2 = poscount2 + 1\n",
        "  elif (indialockdown2.at[i,\"pred\"]==\"neutral\"):\n",
        "    neutcount2 = neutcount2 + 1\n",
        "  else:\n",
        "    negcount2 = negcount2 + 1\n",
        "\n",
        "\n",
        "for i in indialockdown3.index:\n",
        "  if (indialockdown3.at[i,\"pred\"]==\"positive\"):\n",
        "    poscount3 = poscount3 + 1\n",
        "  elif (indialockdown3.at[i,\"pred\"]==\"neutral\"):\n",
        "    neutcount3 = neutcount3 + 1\n",
        "  else:\n",
        "    negcount3 = negcount3 + 1\n",
        "\n",
        "\n",
        "for i in indialockdown4.index:\n",
        "  if (indialockdown4.at[i,\"pred\"]==\"positive\"):\n",
        "    poscount4 = poscount4 + 1\n",
        "  elif (indialockdown4.at[i,\"pred\"]==\"neutral\"):\n",
        "    neutcount4 = neutcount4 + 1\n",
        "  else:\n",
        "    negcount4 = negcount4 + 1\n",
        "\n"
      ],
      "execution_count": null,
      "outputs": [
        {
          "output_type": "error",
          "ename": "KeyError",
          "evalue": "ignored",
          "traceback": [
            "\u001b[0;31m---------------------------------------------------------------------------\u001b[0m",
            "\u001b[0;31mKeyError\u001b[0m                                  Traceback (most recent call last)",
            "\u001b[0;32m/usr/local/lib/python3.7/dist-packages/pandas/core/indexes/base.py\u001b[0m in \u001b[0;36mget_loc\u001b[0;34m(self, key, method, tolerance)\u001b[0m\n\u001b[1;32m   2897\u001b[0m             \u001b[0;32mtry\u001b[0m\u001b[0;34m:\u001b[0m\u001b[0;34m\u001b[0m\u001b[0;34m\u001b[0m\u001b[0m\n\u001b[0;32m-> 2898\u001b[0;31m                 \u001b[0;32mreturn\u001b[0m \u001b[0mself\u001b[0m\u001b[0;34m.\u001b[0m\u001b[0m_engine\u001b[0m\u001b[0;34m.\u001b[0m\u001b[0mget_loc\u001b[0m\u001b[0;34m(\u001b[0m\u001b[0mcasted_key\u001b[0m\u001b[0;34m)\u001b[0m\u001b[0;34m\u001b[0m\u001b[0;34m\u001b[0m\u001b[0m\n\u001b[0m\u001b[1;32m   2899\u001b[0m             \u001b[0;32mexcept\u001b[0m \u001b[0mKeyError\u001b[0m \u001b[0;32mas\u001b[0m \u001b[0merr\u001b[0m\u001b[0;34m:\u001b[0m\u001b[0;34m\u001b[0m\u001b[0;34m\u001b[0m\u001b[0m\n",
            "\u001b[0;32mpandas/_libs/index.pyx\u001b[0m in \u001b[0;36mpandas._libs.index.IndexEngine.get_loc\u001b[0;34m()\u001b[0m\n",
            "\u001b[0;32mpandas/_libs/index.pyx\u001b[0m in \u001b[0;36mpandas._libs.index.IndexEngine.get_loc\u001b[0;34m()\u001b[0m\n",
            "\u001b[0;32mpandas/_libs/hashtable_class_helper.pxi\u001b[0m in \u001b[0;36mpandas._libs.hashtable.PyObjectHashTable.get_item\u001b[0;34m()\u001b[0m\n",
            "\u001b[0;32mpandas/_libs/hashtable_class_helper.pxi\u001b[0m in \u001b[0;36mpandas._libs.hashtable.PyObjectHashTable.get_item\u001b[0;34m()\u001b[0m\n",
            "\u001b[0;31mKeyError\u001b[0m: 'pred'",
            "\nThe above exception was the direct cause of the following exception:\n",
            "\u001b[0;31mKeyError\u001b[0m                                  Traceback (most recent call last)",
            "\u001b[0;32m<ipython-input-187-3be8f9d93cdf>\u001b[0m in \u001b[0;36m<module>\u001b[0;34m()\u001b[0m\n\u001b[1;32m     14\u001b[0m \u001b[0;34m\u001b[0m\u001b[0m\n\u001b[1;32m     15\u001b[0m \u001b[0;32mfor\u001b[0m \u001b[0mi\u001b[0m \u001b[0;32min\u001b[0m \u001b[0mindialockdown1\u001b[0m\u001b[0;34m.\u001b[0m\u001b[0mindex\u001b[0m\u001b[0;34m:\u001b[0m\u001b[0;34m\u001b[0m\u001b[0;34m\u001b[0m\u001b[0m\n\u001b[0;32m---> 16\u001b[0;31m   \u001b[0;32mif\u001b[0m \u001b[0;34m(\u001b[0m\u001b[0mindialockdown1\u001b[0m\u001b[0;34m.\u001b[0m\u001b[0mat\u001b[0m\u001b[0;34m[\u001b[0m\u001b[0mi\u001b[0m\u001b[0;34m,\u001b[0m\u001b[0;34m\"pred\"\u001b[0m\u001b[0;34m]\u001b[0m\u001b[0;34m==\u001b[0m\u001b[0;34m\"positive\"\u001b[0m\u001b[0;34m)\u001b[0m\u001b[0;34m:\u001b[0m\u001b[0;34m\u001b[0m\u001b[0;34m\u001b[0m\u001b[0m\n\u001b[0m\u001b[1;32m     17\u001b[0m     \u001b[0mposcount1\u001b[0m \u001b[0;34m=\u001b[0m \u001b[0mposcount1\u001b[0m \u001b[0;34m+\u001b[0m \u001b[0;36m1\u001b[0m\u001b[0;34m\u001b[0m\u001b[0;34m\u001b[0m\u001b[0m\n\u001b[1;32m     18\u001b[0m   \u001b[0;32melif\u001b[0m \u001b[0;34m(\u001b[0m\u001b[0mindialockdown1\u001b[0m\u001b[0;34m.\u001b[0m\u001b[0mat\u001b[0m\u001b[0;34m[\u001b[0m\u001b[0mi\u001b[0m\u001b[0;34m,\u001b[0m\u001b[0;34m\"pred\"\u001b[0m\u001b[0;34m]\u001b[0m\u001b[0;34m==\u001b[0m\u001b[0;34m\"neutral\"\u001b[0m\u001b[0;34m)\u001b[0m\u001b[0;34m:\u001b[0m\u001b[0;34m\u001b[0m\u001b[0;34m\u001b[0m\u001b[0m\n",
            "\u001b[0;32m/usr/local/lib/python3.7/dist-packages/pandas/core/indexing.py\u001b[0m in \u001b[0;36m__getitem__\u001b[0;34m(self, key)\u001b[0m\n\u001b[1;32m   2076\u001b[0m             \u001b[0;32mreturn\u001b[0m \u001b[0mself\u001b[0m\u001b[0;34m.\u001b[0m\u001b[0mobj\u001b[0m\u001b[0;34m.\u001b[0m\u001b[0mloc\u001b[0m\u001b[0;34m[\u001b[0m\u001b[0mkey\u001b[0m\u001b[0;34m]\u001b[0m\u001b[0;34m\u001b[0m\u001b[0;34m\u001b[0m\u001b[0m\n\u001b[1;32m   2077\u001b[0m \u001b[0;34m\u001b[0m\u001b[0m\n\u001b[0;32m-> 2078\u001b[0;31m         \u001b[0;32mreturn\u001b[0m \u001b[0msuper\u001b[0m\u001b[0;34m(\u001b[0m\u001b[0;34m)\u001b[0m\u001b[0;34m.\u001b[0m\u001b[0m__getitem__\u001b[0m\u001b[0;34m(\u001b[0m\u001b[0mkey\u001b[0m\u001b[0;34m)\u001b[0m\u001b[0;34m\u001b[0m\u001b[0;34m\u001b[0m\u001b[0m\n\u001b[0m\u001b[1;32m   2079\u001b[0m \u001b[0;34m\u001b[0m\u001b[0m\n\u001b[1;32m   2080\u001b[0m     \u001b[0;32mdef\u001b[0m \u001b[0m__setitem__\u001b[0m\u001b[0;34m(\u001b[0m\u001b[0mself\u001b[0m\u001b[0;34m,\u001b[0m \u001b[0mkey\u001b[0m\u001b[0;34m,\u001b[0m \u001b[0mvalue\u001b[0m\u001b[0;34m)\u001b[0m\u001b[0;34m:\u001b[0m\u001b[0;34m\u001b[0m\u001b[0;34m\u001b[0m\u001b[0m\n",
            "\u001b[0;32m/usr/local/lib/python3.7/dist-packages/pandas/core/indexing.py\u001b[0m in \u001b[0;36m__getitem__\u001b[0;34m(self, key)\u001b[0m\n\u001b[1;32m   2023\u001b[0m \u001b[0;34m\u001b[0m\u001b[0m\n\u001b[1;32m   2024\u001b[0m         \u001b[0mkey\u001b[0m \u001b[0;34m=\u001b[0m \u001b[0mself\u001b[0m\u001b[0;34m.\u001b[0m\u001b[0m_convert_key\u001b[0m\u001b[0;34m(\u001b[0m\u001b[0mkey\u001b[0m\u001b[0;34m)\u001b[0m\u001b[0;34m\u001b[0m\u001b[0;34m\u001b[0m\u001b[0m\n\u001b[0;32m-> 2025\u001b[0;31m         \u001b[0;32mreturn\u001b[0m \u001b[0mself\u001b[0m\u001b[0;34m.\u001b[0m\u001b[0mobj\u001b[0m\u001b[0;34m.\u001b[0m\u001b[0m_get_value\u001b[0m\u001b[0;34m(\u001b[0m\u001b[0;34m*\u001b[0m\u001b[0mkey\u001b[0m\u001b[0;34m,\u001b[0m \u001b[0mtakeable\u001b[0m\u001b[0;34m=\u001b[0m\u001b[0mself\u001b[0m\u001b[0;34m.\u001b[0m\u001b[0m_takeable\u001b[0m\u001b[0;34m)\u001b[0m\u001b[0;34m\u001b[0m\u001b[0;34m\u001b[0m\u001b[0m\n\u001b[0m\u001b[1;32m   2026\u001b[0m \u001b[0;34m\u001b[0m\u001b[0m\n\u001b[1;32m   2027\u001b[0m     \u001b[0;32mdef\u001b[0m \u001b[0m__setitem__\u001b[0m\u001b[0;34m(\u001b[0m\u001b[0mself\u001b[0m\u001b[0;34m,\u001b[0m \u001b[0mkey\u001b[0m\u001b[0;34m,\u001b[0m \u001b[0mvalue\u001b[0m\u001b[0;34m)\u001b[0m\u001b[0;34m:\u001b[0m\u001b[0;34m\u001b[0m\u001b[0;34m\u001b[0m\u001b[0m\n",
            "\u001b[0;32m/usr/local/lib/python3.7/dist-packages/pandas/core/frame.py\u001b[0m in \u001b[0;36m_get_value\u001b[0;34m(self, index, col, takeable)\u001b[0m\n\u001b[1;32m   3008\u001b[0m             \u001b[0;32mreturn\u001b[0m \u001b[0mseries\u001b[0m\u001b[0;34m.\u001b[0m\u001b[0m_values\u001b[0m\u001b[0;34m[\u001b[0m\u001b[0mindex\u001b[0m\u001b[0;34m]\u001b[0m\u001b[0;34m\u001b[0m\u001b[0;34m\u001b[0m\u001b[0m\n\u001b[1;32m   3009\u001b[0m \u001b[0;34m\u001b[0m\u001b[0m\n\u001b[0;32m-> 3010\u001b[0;31m         \u001b[0mseries\u001b[0m \u001b[0;34m=\u001b[0m \u001b[0mself\u001b[0m\u001b[0;34m.\u001b[0m\u001b[0m_get_item_cache\u001b[0m\u001b[0;34m(\u001b[0m\u001b[0mcol\u001b[0m\u001b[0;34m)\u001b[0m\u001b[0;34m\u001b[0m\u001b[0;34m\u001b[0m\u001b[0m\n\u001b[0m\u001b[1;32m   3011\u001b[0m         \u001b[0mengine\u001b[0m \u001b[0;34m=\u001b[0m \u001b[0mself\u001b[0m\u001b[0;34m.\u001b[0m\u001b[0mindex\u001b[0m\u001b[0;34m.\u001b[0m\u001b[0m_engine\u001b[0m\u001b[0;34m\u001b[0m\u001b[0;34m\u001b[0m\u001b[0m\n\u001b[1;32m   3012\u001b[0m \u001b[0;34m\u001b[0m\u001b[0m\n",
            "\u001b[0;32m/usr/local/lib/python3.7/dist-packages/pandas/core/generic.py\u001b[0m in \u001b[0;36m_get_item_cache\u001b[0;34m(self, item)\u001b[0m\n\u001b[1;32m   3540\u001b[0m             \u001b[0;31m#  pending resolution of GH#33047\u001b[0m\u001b[0;34m\u001b[0m\u001b[0;34m\u001b[0m\u001b[0;34m\u001b[0m\u001b[0m\n\u001b[1;32m   3541\u001b[0m \u001b[0;34m\u001b[0m\u001b[0m\n\u001b[0;32m-> 3542\u001b[0;31m             \u001b[0mloc\u001b[0m \u001b[0;34m=\u001b[0m \u001b[0mself\u001b[0m\u001b[0;34m.\u001b[0m\u001b[0mcolumns\u001b[0m\u001b[0;34m.\u001b[0m\u001b[0mget_loc\u001b[0m\u001b[0;34m(\u001b[0m\u001b[0mitem\u001b[0m\u001b[0;34m)\u001b[0m\u001b[0;34m\u001b[0m\u001b[0;34m\u001b[0m\u001b[0m\n\u001b[0m\u001b[1;32m   3543\u001b[0m             \u001b[0mvalues\u001b[0m \u001b[0;34m=\u001b[0m \u001b[0mself\u001b[0m\u001b[0;34m.\u001b[0m\u001b[0m_mgr\u001b[0m\u001b[0;34m.\u001b[0m\u001b[0miget\u001b[0m\u001b[0;34m(\u001b[0m\u001b[0mloc\u001b[0m\u001b[0;34m)\u001b[0m\u001b[0;34m\u001b[0m\u001b[0;34m\u001b[0m\u001b[0m\n\u001b[1;32m   3544\u001b[0m             \u001b[0mres\u001b[0m \u001b[0;34m=\u001b[0m \u001b[0mself\u001b[0m\u001b[0;34m.\u001b[0m\u001b[0m_box_col_values\u001b[0m\u001b[0;34m(\u001b[0m\u001b[0mvalues\u001b[0m\u001b[0;34m,\u001b[0m \u001b[0mloc\u001b[0m\u001b[0;34m)\u001b[0m\u001b[0;34m\u001b[0m\u001b[0;34m\u001b[0m\u001b[0m\n",
            "\u001b[0;32m/usr/local/lib/python3.7/dist-packages/pandas/core/indexes/base.py\u001b[0m in \u001b[0;36mget_loc\u001b[0;34m(self, key, method, tolerance)\u001b[0m\n\u001b[1;32m   2898\u001b[0m                 \u001b[0;32mreturn\u001b[0m \u001b[0mself\u001b[0m\u001b[0;34m.\u001b[0m\u001b[0m_engine\u001b[0m\u001b[0;34m.\u001b[0m\u001b[0mget_loc\u001b[0m\u001b[0;34m(\u001b[0m\u001b[0mcasted_key\u001b[0m\u001b[0;34m)\u001b[0m\u001b[0;34m\u001b[0m\u001b[0;34m\u001b[0m\u001b[0m\n\u001b[1;32m   2899\u001b[0m             \u001b[0;32mexcept\u001b[0m \u001b[0mKeyError\u001b[0m \u001b[0;32mas\u001b[0m \u001b[0merr\u001b[0m\u001b[0;34m:\u001b[0m\u001b[0;34m\u001b[0m\u001b[0;34m\u001b[0m\u001b[0m\n\u001b[0;32m-> 2900\u001b[0;31m                 \u001b[0;32mraise\u001b[0m \u001b[0mKeyError\u001b[0m\u001b[0;34m(\u001b[0m\u001b[0mkey\u001b[0m\u001b[0;34m)\u001b[0m \u001b[0;32mfrom\u001b[0m \u001b[0merr\u001b[0m\u001b[0;34m\u001b[0m\u001b[0;34m\u001b[0m\u001b[0m\n\u001b[0m\u001b[1;32m   2901\u001b[0m \u001b[0;34m\u001b[0m\u001b[0m\n\u001b[1;32m   2902\u001b[0m         \u001b[0;32mif\u001b[0m \u001b[0mtolerance\u001b[0m \u001b[0;32mis\u001b[0m \u001b[0;32mnot\u001b[0m \u001b[0;32mNone\u001b[0m\u001b[0;34m:\u001b[0m\u001b[0;34m\u001b[0m\u001b[0;34m\u001b[0m\u001b[0m\n",
            "\u001b[0;31mKeyError\u001b[0m: 'pred'"
          ]
        }
      ]
    },
    {
      "cell_type": "code",
      "metadata": {
        "id": "ttQIfxqd3Tx3"
      },
      "source": [
        "x = len(indialockdown1)\n",
        "y = len(indialockdown2)\n",
        "\n",
        "\n",
        "poscount1 = (poscount1/x) *100\n",
        "negcount1 = (negcount1/x) *100\n",
        "\n",
        "neutcount1 = (neutcount1/x) *100\n",
        "\n",
        "poscount2= (poscount2/y) *100\n",
        "negcount2= (negcount2/y) *100\n",
        "\n",
        "neutcount2= (neutcount2/y) *100\n",
        "\n",
        "\n"
      ],
      "execution_count": null,
      "outputs": []
    },
    {
      "cell_type": "code",
      "metadata": {
        "id": "nB7nhV2rv5_e"
      },
      "source": [
        "indialockdown1.head()"
      ],
      "execution_count": null,
      "outputs": []
    },
    {
      "cell_type": "code",
      "metadata": {
        "id": "HL0eoAMEv9Dy"
      },
      "source": [
        "indialockdown2.head()"
      ],
      "execution_count": null,
      "outputs": []
    },
    {
      "cell_type": "code",
      "metadata": {
        "id": "Y7QIOwuwwLai"
      },
      "source": [
        "draw = pd.DataFrame(columns=[\"Lockdown\",\"Positive\",\"Negative\",\"Neutral\"])\n",
        "draw = draw.append({'Lockdown': \"Lockdown 1\", 'Positive': poscount1, 'Negative': negcount1, 'Neutral': neutcount1}, ignore_index=True)\n",
        "draw = draw.append({'Lockdown': \"Lockdown 2\",'Positive': poscount2, 'Negative': negcount2, 'Neutral': neutcount2}, ignore_index=True)\n",
        "draw.head()"
      ],
      "execution_count": null,
      "outputs": []
    },
    {
      "cell_type": "code",
      "metadata": {
        "colab": {
          "base_uri": "https://localhost:8080/",
          "height": 309
        },
        "id": "be44oPp5fMMd",
        "outputId": "93b88496-17b7-4cc8-fea9-4e619297e662"
      },
      "source": [
        "draw.plot(kind=\"bar\")\n",
        "plt.title(\"Sentiment Analysis\")\n",
        "plt.xlabel(\"Lockdown\")\n",
        "plt.ylabel(\"Number of Tweets\")"
      ],
      "execution_count": null,
      "outputs": [
        {
          "output_type": "execute_result",
          "data": {
            "text/plain": [
              "Text(0, 0.5, 'Number of Tweets')"
            ]
          },
          "metadata": {
            "tags": []
          },
          "execution_count": 62
        },
        {
          "output_type": "display_data",
          "data": {
            "image/png": "[encoded data removed]",
            "text/plain": [
              "<Figure size 432x288 with 1 Axes>"
            ]
          },
          "metadata": {
            "tags": [],
            "needs_background": "light"
          }
        }
      ]
    },
    {
      "cell_type": "code",
      "metadata": {
        "scrolled": false,
        "colab": {
          "base_uri": "https://localhost:8080/",
          "height": 499
        },
        "id": "JXADmEmbUMOa",
        "outputId": "c52fce34-f4fa-4c6d-f3bd-f77664331d5e"
      },
      "source": [
        "lockdown1 = \"\"\n",
        "\n",
        "for i in indialockdown1.index:\n",
        "    lockdown1 = lockdown1 + str(indialockdown1.at[i,\"topics\"])\n",
        "    \n",
        "all_topicslockdown1 = lockdown1.split(\",\")\n",
        "counts_no_urls = collections.Counter(all_topicslockdown1)\n",
        "\n",
        "counts_no_urls.most_common(15)\n",
        "len(counts_no_urls)\n",
        "\n",
        "clean_tweets_no_urls = pd.DataFrame(counts_no_urls.most_common(10),\n",
        "                             columns=['words', 'count'])\n",
        "\n",
        "fig, ax = plt.subplots(figsize=(8, 8))\n",
        "\n",
        "# Plot horizontal bar graph\n",
        "clean_tweets_no_urls.sort_values(by='count').plot.barh(x='words',\n",
        "                      y='count',\n",
        "                      ax=ax,\n",
        "                      color=\"red\")\n",
        "\n",
        "ax.set_title(\"Common Topics Found in Tweets (Including All Words) for India Lockdown 1\")\n",
        "\n",
        "plt.show()"
      ],
      "execution_count": null,
      "outputs": [
        {
          "output_type": "display_data",
          "data": {
            "image/png": "[encoded data removed]",
            "text/plain": [
              "<Figure size 576x576 with 1 Axes>"
            ]
          },
          "metadata": {
            "tags": [],
            "needs_background": "light"
          }
        }
      ]
    },
    {
      "cell_type": "code",
      "metadata": {
        "id": "AM23K9muUMOb",
        "colab": {
          "base_uri": "https://localhost:8080/",
          "height": 499
        },
        "outputId": "bfcfc18f-13dd-49bf-b373-ce74cd75eae5"
      },
      "source": [
        "lockdown2 = \"\"\n",
        "\n",
        "for i in indialockdown2.index:\n",
        "    lockdown2 = lockdown2 + str(indialockdown2.at[i,\"topics\"])\n",
        "    \n",
        "all_topicslockdown2 = lockdown2.split(\",\")\n",
        "counts_no_urls = collections.Counter(all_topicslockdown2)\n",
        "\n",
        "counts_no_urls.most_common(15)\n",
        "len(counts_no_urls)\n",
        "\n",
        "clean_tweets_no_urls = pd.DataFrame(counts_no_urls.most_common(10),\n",
        "                             columns=['words', 'count'])\n",
        "\n",
        "fig, ax = plt.subplots(figsize=(8, 8))\n",
        "\n",
        "# Plot horizontal bar graph\n",
        "clean_tweets_no_urls.sort_values(by='count').plot.barh(x='words',\n",
        "                      y='count',\n",
        "                      ax=ax,\n",
        "                      color=\"green\")\n",
        "\n",
        "ax.set_title(\"Common Topics Found in Tweets (Including All Words) for India Lockdown 2\")\n",
        "\n",
        "plt.show()"
      ],
      "execution_count": null,
      "outputs": [
        {
          "output_type": "display_data",
          "data": {
            "image/png": "[encoded data removed]",
            "text/plain": [
              "<Figure size 576x576 with 1 Axes>"
            ]
          },
          "metadata": {
            "tags": [],
            "needs_background": "light"
          }
        }
      ]
    },
    {
      "cell_type": "code",
      "metadata": {
        "id": "lEK4uOdxUMOb",
        "colab": {
          "base_uri": "https://localhost:8080/",
          "height": 499
        },
        "outputId": "71ca86b0-6e2b-40d8-e46c-3887547ce656"
      },
      "source": [
        "lockdown3 = \"\"\n",
        "\n",
        "for i in indialockdown3.index:\n",
        "    lockdown3 = lockdown3 + str(indialockdown3.at[i,\"topics\"])\n",
        "    \n",
        "all_topicslockdown3 = lockdown3.split(\",\")\n",
        "counts_no_urls = collections.Counter(all_topicslockdown3)\n",
        "\n",
        "\n",
        "\n",
        "clean_tweets_no_urls = pd.DataFrame(counts_no_urls.most_common(1),\n",
        "                             columns=['words', 'count'])\n",
        "\n",
        "fig, ax = plt.subplots(figsize=(8, 8))\n",
        "\n",
        "# Plot horizontal bar graph\n",
        "clean_tweets_no_urls.sort_values(by='count').plot.barh(x='words',\n",
        "                      y='count',\n",
        "                      ax=ax,\n",
        "                      color=\"blue\")\n",
        "\n",
        "ax.set_title(\"Common Topics Found in Tweets (Including All Words) for India Lockdown 3\")\n",
        "\n",
        "plt.show()"
      ],
      "execution_count": null,
      "outputs": [
        {
          "output_type": "display_data",
          "data": {
            "image/png": "[encoded data removed]",
            "text/plain": [
              "<Figure size 576x576 with 1 Axes>"
            ]
          },
          "metadata": {
            "tags": [],
            "needs_background": "light"
          }
        }
      ]
    },
    {
      "cell_type": "code",
      "metadata": {
        "colab": {
          "base_uri": "https://localhost:8080/",
          "height": 499
        },
        "id": "8OXrOMbRP_4U",
        "outputId": "528a5ff6-3363-43e1-c0e0-6ecde4098b3f"
      },
      "source": [
        "lockdown4 = \"\"\n",
        "\n",
        "for i in indialockdown4.index:\n",
        "    lockdown4 = lockdown4 + str(indialockdown4.at[i,\"topics\"])\n",
        "    \n",
        "all_topicslockdown4 = lockdown4.split(\",\")\n",
        "counts_no_urls = collections.Counter(all_topicslockdown4)\n",
        "\n",
        "\n",
        "\n",
        "clean_tweets_no_urls = pd.DataFrame(counts_no_urls.most_common(1),\n",
        "                             columns=['words', 'count'])\n",
        "\n",
        "fig, ax = plt.subplots(figsize=(8, 8))\n",
        "\n",
        "# Plot horizontal bar graph\n",
        "clean_tweets_no_urls.sort_values(by='count').plot.barh(x='words',\n",
        "                      y='count',\n",
        "                      ax=ax,\n",
        "                      color=\"blue\")\n",
        "\n",
        "ax.set_title(\"Common Topics Found in Tweets (Including All Words) for India Lockdown 4\")\n",
        "\n",
        "plt.show()"
      ],
      "execution_count": null,
      "outputs": [
        {
          "output_type": "display_data",
          "data": {
            "image/png": "[encoded data removed]",
            "text/plain": [
              "<Figure size 576x576 with 1 Axes>"
            ]
          },
          "metadata": {
            "tags": [],
            "needs_background": "light"
          }
        }
      ]
    },
    {
      "cell_type": "code",
      "metadata": {
        "colab": {
          "base_uri": "https://localhost:8080/",
          "height": 402
        },
        "id": "CKVInpAMQJoJ",
        "outputId": "d62a969a-0229-4a43-e5d3-fc49a8579700"
      },
      "source": [
        "indialockdown4"
      ],
      "execution_count": null,
      "outputs": [
        {
          "output_type": "execute_result",
          "data": {
            "text/html": [
              "<div>\n",
              "<style scoped>\n",
              "    .dataframe tbody tr th:only-of-type {\n",
              "        vertical-align: middle;\n",
              "    }\n",
              "\n",
              "    .dataframe tbody tr th {\n",
              "        vertical-align: top;\n",
              "    }\n",
              "\n",
              "    .dataframe thead th {\n",
              "        text-align: right;\n",
              "    }\n",
              "</style>\n",
              "<table border=\"1\" class=\"dataframe\">\n",
              "  <thead>\n",
              "    <tr style=\"text-align: right;\">\n",
              "      <th></th>\n",
              "      <th>index</th>\n",
              "      <th>text</th>\n",
              "      <th>topics</th>\n",
              "      <th>date</th>\n",
              "      <th>polarity</th>\n",
              "      <th>subjectivity</th>\n",
              "      <th>sentiment</th>\n",
              "    </tr>\n",
              "  </thead>\n",
              "  <tbody>\n",
              "    <tr>\n",
              "      <th>0</th>\n",
              "      <td>44223</td>\n",
              "      <td>next pm kaun only</td>\n",
              "      <td>next,pm</td>\n",
              "      <td>2020-05-18</td>\n",
              "      <td>0.000000</td>\n",
              "      <td>0.500000</td>\n",
              "      <td>Neutral</td>\n",
              "    </tr>\n",
              "    <tr>\n",
              "      <th>1</th>\n",
              "      <td>44224</td>\n",
              "      <td>while numbers are scary the fact that mumbai i...</td>\n",
              "      <td>million,test,india,million,best</td>\n",
              "      <td>2020-05-18</td>\n",
              "      <td>0.116667</td>\n",
              "      <td>0.566667</td>\n",
              "      <td>Positive</td>\n",
              "    </tr>\n",
              "    <tr>\n",
              "      <th>2</th>\n",
              "      <td>44225</td>\n",
              "      <td>a men has been transferred to show best perfor...</td>\n",
              "      <td>best,corona</td>\n",
              "      <td>2020-05-18</td>\n",
              "      <td>0.500000</td>\n",
              "      <td>0.650000</td>\n",
              "      <td>Positive</td>\n",
              "    </tr>\n",
              "    <tr>\n",
              "      <th>3</th>\n",
              "      <td>44226</td>\n",
              "      <td>gadkari jaipur jail became rd largest jail hot...</td>\n",
              "      <td>country,health,stop,need,social,distancing</td>\n",
              "      <td>2020-05-18</td>\n",
              "      <td>-0.059524</td>\n",
              "      <td>0.070238</td>\n",
              "      <td>Negative</td>\n",
              "    </tr>\n",
              "    <tr>\n",
              "      <th>4</th>\n",
              "      <td>44227</td>\n",
              "      <td>the older people who are innocent and still ke...</td>\n",
              "      <td>people,who,govt,people,risk,corona</td>\n",
              "      <td>2020-05-18</td>\n",
              "      <td>0.137778</td>\n",
              "      <td>0.295556</td>\n",
              "      <td>Positive</td>\n",
              "    </tr>\n",
              "    <tr>\n",
              "      <th>...</th>\n",
              "      <td>...</td>\n",
              "      <td>...</td>\n",
              "      <td>...</td>\n",
              "      <td>...</td>\n",
              "      <td>...</td>\n",
              "      <td>...</td>\n",
              "      <td>...</td>\n",
              "    </tr>\n",
              "    <tr>\n",
              "      <th>14263</th>\n",
              "      <td>58486</td>\n",
              "      <td>aatmanirbharapnabharat facilitating states dur...</td>\n",
              "      <td>states,covid,via,app</td>\n",
              "      <td>2020-05-23</td>\n",
              "      <td>0.000000</td>\n",
              "      <td>0.000000</td>\n",
              "      <td>Neutral</td>\n",
              "    </tr>\n",
              "    <tr>\n",
              "      <th>14264</th>\n",
              "      <td>58487</td>\n",
              "      <td>cheers to you jyoti wish you health happiness ...</td>\n",
              "      <td>health,who,leaders,would,help,real</td>\n",
              "      <td>2020-05-23</td>\n",
              "      <td>0.450000</td>\n",
              "      <td>0.250000</td>\n",
              "      <td>Positive</td>\n",
              "    </tr>\n",
              "    <tr>\n",
              "      <th>14265</th>\n",
              "      <td>58488</td>\n",
              "      <td>aatmanirbharapnabharat technology driven educa...</td>\n",
              "      <td>covid,via,app</td>\n",
              "      <td>2020-05-23</td>\n",
              "      <td>0.000000</td>\n",
              "      <td>0.000000</td>\n",
              "      <td>Neutral</td>\n",
              "    </tr>\n",
              "    <tr>\n",
              "      <th>14266</th>\n",
              "      <td>58489</td>\n",
              "      <td>eidmubarak eidalfitr romanreigns eid mubarak e...</td>\n",
              "      <td>everyone,world,india,sad,corona,virus,world</td>\n",
              "      <td>2020-05-23</td>\n",
              "      <td>-0.500000</td>\n",
              "      <td>1.000000</td>\n",
              "      <td>Negative</td>\n",
              "    </tr>\n",
              "    <tr>\n",
              "      <th>14267</th>\n",
              "      <td>58490</td>\n",
              "      <td>dmrc metro i wanna ask about and gave asure to...</td>\n",
              "      <td>days,what,doctors,corona</td>\n",
              "      <td>2020-05-23</td>\n",
              "      <td>0.333333</td>\n",
              "      <td>0.375000</td>\n",
              "      <td>Positive</td>\n",
              "    </tr>\n",
              "  </tbody>\n",
              "</table>\n",
              "<p>14268 rows × 7 columns</p>\n",
              "</div>"
            ],
            "text/plain": [
              "       index  ... sentiment\n",
              "0      44223  ...   Neutral\n",
              "1      44224  ...  Positive\n",
              "2      44225  ...  Positive\n",
              "3      44226  ...  Negative\n",
              "4      44227  ...  Positive\n",
              "...      ...  ...       ...\n",
              "14263  58486  ...   Neutral\n",
              "14264  58487  ...  Positive\n",
              "14265  58488  ...   Neutral\n",
              "14266  58489  ...  Negative\n",
              "14267  58490  ...  Positive\n",
              "\n",
              "[14268 rows x 7 columns]"
            ]
          },
          "metadata": {
            "tags": []
          },
          "execution_count": 197
        }
      ]
    },
    {
      "cell_type": "code",
      "metadata": {
        "id": "rSBvGA9fUMOb",
        "colab": {
          "base_uri": "https://localhost:8080/",
          "height": 402
        },
        "outputId": "d00ca120-833f-4913-d711-eaf5673b3ca7"
      },
      "source": [
        "indialockdown3"
      ],
      "execution_count": null,
      "outputs": [
        {
          "output_type": "execute_result",
          "data": {
            "text/html": [
              "<div>\n",
              "<style scoped>\n",
              "    .dataframe tbody tr th:only-of-type {\n",
              "        vertical-align: middle;\n",
              "    }\n",
              "\n",
              "    .dataframe tbody tr th {\n",
              "        vertical-align: top;\n",
              "    }\n",
              "\n",
              "    .dataframe thead th {\n",
              "        text-align: right;\n",
              "    }\n",
              "</style>\n",
              "<table border=\"1\" class=\"dataframe\">\n",
              "  <thead>\n",
              "    <tr style=\"text-align: right;\">\n",
              "      <th></th>\n",
              "      <th>index</th>\n",
              "      <th>text</th>\n",
              "      <th>topics</th>\n",
              "      <th>date</th>\n",
              "      <th>polarity</th>\n",
              "      <th>subjectivity</th>\n",
              "      <th>sentiment</th>\n",
              "    </tr>\n",
              "  </thead>\n",
              "  <tbody>\n",
              "    <tr>\n",
              "      <th>0</th>\n",
              "      <td>38073</td>\n",
              "      <td>india completes million covid tests what is re...</td>\n",
              "      <td>india,million,covid,what,via</td>\n",
              "      <td>2020-05-04</td>\n",
              "      <td>0.750000</td>\n",
              "      <td>0.750000</td>\n",
              "      <td>Positive</td>\n",
              "    </tr>\n",
              "    <tr>\n",
              "      <th>1</th>\n",
              "      <td>38074</td>\n",
              "      <td>in the pandemic situation all over world east ...</td>\n",
              "      <td>pandemic,world,provide,essential,people,covid,...</td>\n",
              "      <td>2020-05-04</td>\n",
              "      <td>0.140000</td>\n",
              "      <td>0.305000</td>\n",
              "      <td>Positive</td>\n",
              "    </tr>\n",
              "    <tr>\n",
              "      <th>2</th>\n",
              "      <td>38075</td>\n",
              "      <td>fair enough but for that matter you need manpo...</td>\n",
              "      <td>need,save,lives,economy,must,corona,virus,amer...</td>\n",
              "      <td>2020-05-04</td>\n",
              "      <td>0.216667</td>\n",
              "      <td>0.616667</td>\n",
              "      <td>Positive</td>\n",
              "    </tr>\n",
              "    <tr>\n",
              "      <th>3</th>\n",
              "      <td>38076</td>\n",
              "      <td>good mem</td>\n",
              "      <td>good</td>\n",
              "      <td>2020-05-04</td>\n",
              "      <td>0.700000</td>\n",
              "      <td>0.600000</td>\n",
              "      <td>Positive</td>\n",
              "    </tr>\n",
              "    <tr>\n",
              "      <th>4</th>\n",
              "      <td>38077</td>\n",
              "      <td>sir today graph of corona infected person will...</td>\n",
              "      <td>today,corona</td>\n",
              "      <td>2020-05-04</td>\n",
              "      <td>-0.200000</td>\n",
              "      <td>0.000000</td>\n",
              "      <td>Negative</td>\n",
              "    </tr>\n",
              "    <tr>\n",
              "      <th>...</th>\n",
              "      <td>...</td>\n",
              "      <td>...</td>\n",
              "      <td>...</td>\n",
              "      <td>...</td>\n",
              "      <td>...</td>\n",
              "      <td>...</td>\n",
              "      <td>...</td>\n",
              "    </tr>\n",
              "    <tr>\n",
              "      <th>6145</th>\n",
              "      <td>44218</td>\n",
              "      <td>covid update total case cured deaths new cases...</td>\n",
              "      <td>covid,update,total,deaths,new,cases,deaths,rep...</td>\n",
              "      <td>2020-05-07</td>\n",
              "      <td>0.045455</td>\n",
              "      <td>0.423737</td>\n",
              "      <td>Positive</td>\n",
              "    </tr>\n",
              "    <tr>\n",
              "      <th>6146</th>\n",
              "      <td>44219</td>\n",
              "      <td>indiafightscorona drdo develops uv disinfectan...</td>\n",
              "      <td>fight,covid,via,app</td>\n",
              "      <td>2020-05-07</td>\n",
              "      <td>0.000000</td>\n",
              "      <td>0.000000</td>\n",
              "      <td>Neutral</td>\n",
              "    </tr>\n",
              "    <tr>\n",
              "      <th>6147</th>\n",
              "      <td>44220</td>\n",
              "      <td>no surprises</td>\n",
              "      <td></td>\n",
              "      <td>2020-05-07</td>\n",
              "      <td>0.000000</td>\n",
              "      <td>0.000000</td>\n",
              "      <td>Neutral</td>\n",
              "    </tr>\n",
              "    <tr>\n",
              "      <th>6148</th>\n",
              "      <td>44221</td>\n",
              "      <td>coronavirus lockdown industries hit hard in su...</td>\n",
              "      <td>coronavirus,lockdown,news,times,india</td>\n",
              "      <td>2020-05-07</td>\n",
              "      <td>-0.291667</td>\n",
              "      <td>0.541667</td>\n",
              "      <td>Negative</td>\n",
              "    </tr>\n",
              "    <tr>\n",
              "      <th>6149</th>\n",
              "      <td>44222</td>\n",
              "      <td>live with corona</td>\n",
              "      <td>live,corona</td>\n",
              "      <td>2020-05-07</td>\n",
              "      <td>0.136364</td>\n",
              "      <td>0.500000</td>\n",
              "      <td>Positive</td>\n",
              "    </tr>\n",
              "  </tbody>\n",
              "</table>\n",
              "<p>6150 rows × 7 columns</p>\n",
              "</div>"
            ],
            "text/plain": [
              "      index  ... sentiment\n",
              "0     38073  ...  Positive\n",
              "1     38074  ...  Positive\n",
              "2     38075  ...  Positive\n",
              "3     38076  ...  Positive\n",
              "4     38077  ...  Negative\n",
              "...     ...  ...       ...\n",
              "6145  44218  ...  Positive\n",
              "6146  44219  ...   Neutral\n",
              "6147  44220  ...   Neutral\n",
              "6148  44221  ...  Negative\n",
              "6149  44222  ...  Positive\n",
              "\n",
              "[6150 rows x 7 columns]"
            ]
          },
          "metadata": {
            "tags": []
          },
          "execution_count": 198
        }
      ]
    },
    {
      "cell_type": "code",
      "metadata": {
        "id": "bOf1xHpzUMOc",
        "colab": {
          "base_uri": "https://localhost:8080/",
          "height": 402
        },
        "outputId": "b309a31c-4558-42ff-e740-fd5d0f4ea66b"
      },
      "source": [
        "indialockdown4"
      ],
      "execution_count": null,
      "outputs": [
        {
          "output_type": "execute_result",
          "data": {
            "text/html": [
              "<div>\n",
              "<style scoped>\n",
              "    .dataframe tbody tr th:only-of-type {\n",
              "        vertical-align: middle;\n",
              "    }\n",
              "\n",
              "    .dataframe tbody tr th {\n",
              "        vertical-align: top;\n",
              "    }\n",
              "\n",
              "    .dataframe thead th {\n",
              "        text-align: right;\n",
              "    }\n",
              "</style>\n",
              "<table border=\"1\" class=\"dataframe\">\n",
              "  <thead>\n",
              "    <tr style=\"text-align: right;\">\n",
              "      <th></th>\n",
              "      <th>index</th>\n",
              "      <th>text</th>\n",
              "      <th>topics</th>\n",
              "      <th>date</th>\n",
              "      <th>polarity</th>\n",
              "      <th>subjectivity</th>\n",
              "      <th>sentiment</th>\n",
              "    </tr>\n",
              "  </thead>\n",
              "  <tbody>\n",
              "    <tr>\n",
              "      <th>0</th>\n",
              "      <td>44223</td>\n",
              "      <td>next pm kaun only</td>\n",
              "      <td>next,pm</td>\n",
              "      <td>2020-05-18</td>\n",
              "      <td>0.000000</td>\n",
              "      <td>0.500000</td>\n",
              "      <td>Neutral</td>\n",
              "    </tr>\n",
              "    <tr>\n",
              "      <th>1</th>\n",
              "      <td>44224</td>\n",
              "      <td>while numbers are scary the fact that mumbai i...</td>\n",
              "      <td>million,test,india,million,best</td>\n",
              "      <td>2020-05-18</td>\n",
              "      <td>0.116667</td>\n",
              "      <td>0.566667</td>\n",
              "      <td>Positive</td>\n",
              "    </tr>\n",
              "    <tr>\n",
              "      <th>2</th>\n",
              "      <td>44225</td>\n",
              "      <td>a men has been transferred to show best perfor...</td>\n",
              "      <td>best,corona</td>\n",
              "      <td>2020-05-18</td>\n",
              "      <td>0.500000</td>\n",
              "      <td>0.650000</td>\n",
              "      <td>Positive</td>\n",
              "    </tr>\n",
              "    <tr>\n",
              "      <th>3</th>\n",
              "      <td>44226</td>\n",
              "      <td>gadkari jaipur jail became rd largest jail hot...</td>\n",
              "      <td>country,health,stop,need,social,distancing</td>\n",
              "      <td>2020-05-18</td>\n",
              "      <td>-0.059524</td>\n",
              "      <td>0.070238</td>\n",
              "      <td>Negative</td>\n",
              "    </tr>\n",
              "    <tr>\n",
              "      <th>4</th>\n",
              "      <td>44227</td>\n",
              "      <td>the older people who are innocent and still ke...</td>\n",
              "      <td>people,who,govt,people,risk,corona</td>\n",
              "      <td>2020-05-18</td>\n",
              "      <td>0.137778</td>\n",
              "      <td>0.295556</td>\n",
              "      <td>Positive</td>\n",
              "    </tr>\n",
              "    <tr>\n",
              "      <th>...</th>\n",
              "      <td>...</td>\n",
              "      <td>...</td>\n",
              "      <td>...</td>\n",
              "      <td>...</td>\n",
              "      <td>...</td>\n",
              "      <td>...</td>\n",
              "      <td>...</td>\n",
              "    </tr>\n",
              "    <tr>\n",
              "      <th>14263</th>\n",
              "      <td>58486</td>\n",
              "      <td>aatmanirbharapnabharat facilitating states dur...</td>\n",
              "      <td>states,covid,via,app</td>\n",
              "      <td>2020-05-23</td>\n",
              "      <td>0.000000</td>\n",
              "      <td>0.000000</td>\n",
              "      <td>Neutral</td>\n",
              "    </tr>\n",
              "    <tr>\n",
              "      <th>14264</th>\n",
              "      <td>58487</td>\n",
              "      <td>cheers to you jyoti wish you health happiness ...</td>\n",
              "      <td>health,who,leaders,would,help,real</td>\n",
              "      <td>2020-05-23</td>\n",
              "      <td>0.450000</td>\n",
              "      <td>0.250000</td>\n",
              "      <td>Positive</td>\n",
              "    </tr>\n",
              "    <tr>\n",
              "      <th>14265</th>\n",
              "      <td>58488</td>\n",
              "      <td>aatmanirbharapnabharat technology driven educa...</td>\n",
              "      <td>covid,via,app</td>\n",
              "      <td>2020-05-23</td>\n",
              "      <td>0.000000</td>\n",
              "      <td>0.000000</td>\n",
              "      <td>Neutral</td>\n",
              "    </tr>\n",
              "    <tr>\n",
              "      <th>14266</th>\n",
              "      <td>58489</td>\n",
              "      <td>eidmubarak eidalfitr romanreigns eid mubarak e...</td>\n",
              "      <td>everyone,world,india,sad,corona,virus,world</td>\n",
              "      <td>2020-05-23</td>\n",
              "      <td>-0.500000</td>\n",
              "      <td>1.000000</td>\n",
              "      <td>Negative</td>\n",
              "    </tr>\n",
              "    <tr>\n",
              "      <th>14267</th>\n",
              "      <td>58490</td>\n",
              "      <td>dmrc metro i wanna ask about and gave asure to...</td>\n",
              "      <td>days,what,doctors,corona</td>\n",
              "      <td>2020-05-23</td>\n",
              "      <td>0.333333</td>\n",
              "      <td>0.375000</td>\n",
              "      <td>Positive</td>\n",
              "    </tr>\n",
              "  </tbody>\n",
              "</table>\n",
              "<p>14268 rows × 7 columns</p>\n",
              "</div>"
            ],
            "text/plain": [
              "       index  ... sentiment\n",
              "0      44223  ...   Neutral\n",
              "1      44224  ...  Positive\n",
              "2      44225  ...  Positive\n",
              "3      44226  ...  Negative\n",
              "4      44227  ...  Positive\n",
              "...      ...  ...       ...\n",
              "14263  58486  ...   Neutral\n",
              "14264  58487  ...  Positive\n",
              "14265  58488  ...   Neutral\n",
              "14266  58489  ...  Negative\n",
              "14267  58490  ...  Positive\n",
              "\n",
              "[14268 rows x 7 columns]"
            ]
          },
          "metadata": {
            "tags": []
          },
          "execution_count": 199
        }
      ]
    },
    {
      "cell_type": "code",
      "metadata": {
        "id": "59p6pj-sUMOc",
        "outputId": "f1638b6b-addb-44fa-c41d-bacdf566f73a"
      },
      "source": [
        "usa = data[data[\"country_code\"]==\"US\"]\n",
        "usa"
      ],
      "execution_count": null,
      "outputs": [
        {
          "output_type": "execute_result",
          "data": {
            "text/html": [
              "<div>\n",
              "<style scoped>\n",
              "    .dataframe tbody tr th:only-of-type {\n",
              "        vertical-align: middle;\n",
              "    }\n",
              "\n",
              "    .dataframe tbody tr th {\n",
              "        vertical-align: top;\n",
              "    }\n",
              "\n",
              "    .dataframe thead th {\n",
              "        text-align: right;\n",
              "    }\n",
              "</style>\n",
              "<table border=\"1\" class=\"dataframe\">\n",
              "  <thead>\n",
              "    <tr style=\"text-align: right;\">\n",
              "      <th></th>\n",
              "      <th>Unnamed: 0</th>\n",
              "      <th>text</th>\n",
              "      <th>country_code</th>\n",
              "      <th>date</th>\n",
              "      <th>hashtag</th>\n",
              "      <th>topics</th>\n",
              "    </tr>\n",
              "  </thead>\n",
              "  <tbody>\n",
              "    <tr>\n",
              "      <th>0</th>\n",
              "      <td>0</td>\n",
              "      <td>claytravis flu this seems fishy covid_19 numbe...</td>\n",
              "      <td>US</td>\n",
              "      <td>2020-03-29</td>\n",
              "      <td>['#Covid_19']</td>\n",
              "      <td>covid_19</td>\n",
              "    </tr>\n",
              "    <tr>\n",
              "      <th>1</th>\n",
              "      <td>1</td>\n",
              "      <td>netflix omg ozark ending die thanks distractio...</td>\n",
              "      <td>US</td>\n",
              "      <td>2020-03-29</td>\n",
              "      <td>['#COVID19']</td>\n",
              "      <td>die</td>\n",
              "    </tr>\n",
              "    <tr>\n",
              "      <th>2</th>\n",
              "      <td>2</td>\n",
              "      <td>i n't think gd leadership across states i see ...</td>\n",
              "      <td>US</td>\n",
              "      <td>2020-03-29</td>\n",
              "      <td>['#COVID19']</td>\n",
              "      <td>states,long,people,dying,test</td>\n",
              "    </tr>\n",
              "    <tr>\n",
              "      <th>4</th>\n",
              "      <td>4</td>\n",
              "      <td>any hospital our engineering department helped...</td>\n",
              "      <td>US</td>\n",
              "      <td>2020-03-29</td>\n",
              "      <td>['#Covid_19', '#medtwitter']</td>\n",
              "      <td>hospital,covid_19</td>\n",
              "    </tr>\n",
              "    <tr>\n",
              "      <th>7</th>\n",
              "      <td>7</td>\n",
              "      <td>... we best make smile terotheotter pics keep ...</td>\n",
              "      <td>US</td>\n",
              "      <td>2020-03-29</td>\n",
              "      <td>['#terotheotter', '#covid_19', '#lifeakua']</td>\n",
              "      <td>best,make,healthy,today,covid_19</td>\n",
              "    </tr>\n",
              "    <tr>\n",
              "      <th>...</th>\n",
              "      <td>...</td>\n",
              "      <td>...</td>\n",
              "      <td>...</td>\n",
              "      <td>...</td>\n",
              "      <td>...</td>\n",
              "      <td>...</td>\n",
              "    </tr>\n",
              "    <tr>\n",
              "      <th>230762</th>\n",
              "      <td>230762</td>\n",
              "      <td>this lot fun good way spend day stuck inside m...</td>\n",
              "      <td>US</td>\n",
              "      <td>2020-04-15</td>\n",
              "      <td>['#covi', '#sixfanarts', '#sixfanartschallenge...</td>\n",
              "      <td>good,inside,week</td>\n",
              "    </tr>\n",
              "    <tr>\n",
              "      <th>230763</th>\n",
              "      <td>230763</td>\n",
              "      <td>cnn publishes communist chinese propaganda cla...</td>\n",
              "      <td>US</td>\n",
              "      <td>2020-04-15</td>\n",
              "      <td>['#COVID19']</td>\n",
              "      <td>cnn,chinese,china</td>\n",
              "    </tr>\n",
              "    <tr>\n",
              "      <th>230765</th>\n",
              "      <td>230765</td>\n",
              "      <td>ceo_clemetparks sir some positive offshoots co...</td>\n",
              "      <td>US</td>\n",
              "      <td>2020-04-15</td>\n",
              "      <td>['#COVID19', '#everyproblemisanopportunity']</td>\n",
              "      <td>positive,life,would</td>\n",
              "    </tr>\n",
              "    <tr>\n",
              "      <th>230767</th>\n",
              "      <td>230767</td>\n",
              "      <td>remember soviet union told world advanced nucl...</td>\n",
              "      <td>US</td>\n",
              "      <td>2020-04-15</td>\n",
              "      <td>['#COVID19']</td>\n",
              "      <td>world,china,who,help</td>\n",
              "    </tr>\n",
              "    <tr>\n",
              "      <th>230768</th>\n",
              "      <td>230768</td>\n",
              "      <td>umnextfd umnext fox9 and 's story video link t...</td>\n",
              "      <td>US</td>\n",
              "      <td>2020-04-15</td>\n",
              "      <td>['#CoronavirusPandemic']</td>\n",
              "      <td>NaN</td>\n",
              "    </tr>\n",
              "  </tbody>\n",
              "</table>\n",
              "<p>100872 rows × 6 columns</p>\n",
              "</div>"
            ],
            "text/plain": [
              "        Unnamed: 0                                               text  \\\n",
              "0                0  claytravis flu this seems fishy covid_19 numbe...   \n",
              "1                1  netflix omg ozark ending die thanks distractio...   \n",
              "2                2  i n't think gd leadership across states i see ...   \n",
              "4                4  any hospital our engineering department helped...   \n",
              "7                7  ... we best make smile terotheotter pics keep ...   \n",
              "...            ...                                                ...   \n",
              "230762      230762  this lot fun good way spend day stuck inside m...   \n",
              "230763      230763  cnn publishes communist chinese propaganda cla...   \n",
              "230765      230765  ceo_clemetparks sir some positive offshoots co...   \n",
              "230767      230767  remember soviet union told world advanced nucl...   \n",
              "230768      230768  umnextfd umnext fox9 and 's story video link t...   \n",
              "\n",
              "       country_code        date  \\\n",
              "0                US  2020-03-29   \n",
              "1                US  2020-03-29   \n",
              "2                US  2020-03-29   \n",
              "4                US  2020-03-29   \n",
              "7                US  2020-03-29   \n",
              "...             ...         ...   \n",
              "230762           US  2020-04-15   \n",
              "230763           US  2020-04-15   \n",
              "230765           US  2020-04-15   \n",
              "230767           US  2020-04-15   \n",
              "230768           US  2020-04-15   \n",
              "\n",
              "                                                  hashtag  \\\n",
              "0                                           ['#Covid_19']   \n",
              "1                                            ['#COVID19']   \n",
              "2                                            ['#COVID19']   \n",
              "4                            ['#Covid_19', '#medtwitter']   \n",
              "7             ['#terotheotter', '#covid_19', '#lifeakua']   \n",
              "...                                                   ...   \n",
              "230762  ['#covi', '#sixfanarts', '#sixfanartschallenge...   \n",
              "230763                                       ['#COVID19']   \n",
              "230765       ['#COVID19', '#everyproblemisanopportunity']   \n",
              "230767                                       ['#COVID19']   \n",
              "230768                           ['#CoronavirusPandemic']   \n",
              "\n",
              "                                  topics  \n",
              "0                               covid_19  \n",
              "1                                    die  \n",
              "2          states,long,people,dying,test  \n",
              "4                      hospital,covid_19  \n",
              "7       best,make,healthy,today,covid_19  \n",
              "...                                  ...  \n",
              "230762                  good,inside,week  \n",
              "230763                 cnn,chinese,china  \n",
              "230765               positive,life,would  \n",
              "230767              world,china,who,help  \n",
              "230768                               NaN  \n",
              "\n",
              "[100872 rows x 6 columns]"
            ]
          },
          "metadata": {
            "tags": []
          },
          "execution_count": 40
        }
      ]
    },
    {
      "cell_type": "code",
      "metadata": {
        "id": "cjmks7toUMOc"
      },
      "source": [
        "india = usa"
      ],
      "execution_count": null,
      "outputs": []
    },
    {
      "cell_type": "code",
      "metadata": {
        "id": "qaPtLUsXUMOc"
      },
      "source": [
        "from datetime import datetime\n",
        "\n",
        "for i in india.index:\n",
        "    india.at[i,\"date\"] = datetime.strptime(india.at[i,\"date\"], '%Y-%m-%d')\n",
        "\n",
        "indialockdown1 = india[(india.date>=a1) & (india.date<=a2)]\n",
        "indialockdown2 = india[(india.date>=b1) & (india.date<=b2)]\n",
        "indialockdown3 = india[(india.date>=c1) & (india.date<=c2)]\n",
        "indialockdown4 = india[(india.date>=d1) & (india.date<=d2)]"
      ],
      "execution_count": null,
      "outputs": []
    },
    {
      "cell_type": "code",
      "metadata": {
        "id": "NS9B1tCVUMOc",
        "outputId": "3750f757-84a6-4b75-85c2-f39fa5cb4cd5"
      },
      "source": [
        "lockdown1 = \"\"\n",
        "\n",
        "for i in indialockdown1.index:\n",
        "    lockdown1 = lockdown1 + str(indialockdown1.at[i,\"topics\"])\n",
        "    \n",
        "all_topicslockdown1 = lockdown1.split(\",\")\n",
        "counts_no_urls = collections.Counter(all_topicslockdown1)\n",
        "\n",
        "counts_no_urls.most_common(15)\n",
        "len(counts_no_urls)\n",
        "\n",
        "clean_tweets_no_urls = pd.DataFrame(counts_no_urls.most_common(10),\n",
        "                             columns=['words', 'count'])\n",
        "\n",
        "fig, ax = plt.subplots(figsize=(8, 8))\n",
        "\n",
        "# Plot horizontal bar graph\n",
        "clean_tweets_no_urls.sort_values(by='count').plot.barh(x='words',\n",
        "                      y='count',\n",
        "                      ax=ax,\n",
        "                      color=\"blue\")\n",
        "\n",
        "ax.set_title(\"Common Topis Found in Tweets (Including All Words)\")\n",
        "\n",
        "plt.show()"
      ],
      "execution_count": null,
      "outputs": [
        {
          "output_type": "display_data",
          "data": {
            "image/png": "[encoded data removed]",
            "text/plain": [
              "<Figure size 576x576 with 1 Axes>"
            ]
          },
          "metadata": {
            "tags": [],
            "needs_background": "light"
          }
        }
      ]
    },
    {
      "cell_type": "code",
      "metadata": {
        "id": "n3S-hdHhUMOd",
        "outputId": "10c18bb1-ced9-4e02-de46-430289e72389"
      },
      "source": [
        "lockdown2 = \"\"\n",
        "\n",
        "for i in indialockdown2.index:\n",
        "    lockdown2 = lockdown2 + str(indialockdown2.at[i,\"topics\"])\n",
        "    \n",
        "all_topicslockdown2 = lockdown2.split(\",\")\n",
        "counts_no_urls = collections.Counter(all_topicslockdown2)\n",
        "\n",
        "counts_no_urls.most_common(15)\n",
        "len(counts_no_urls)\n",
        "\n",
        "clean_tweets_no_urls = pd.DataFrame(counts_no_urls.most_common(10),\n",
        "                             columns=['words', 'count'])\n",
        "\n",
        "fig, ax = plt.subplots(figsize=(8, 8))\n",
        "\n",
        "# Plot horizontal bar graph\n",
        "clean_tweets_no_urls.sort_values(by='count').plot.barh(x='words',\n",
        "                      y='count',\n",
        "                      ax=ax,\n",
        "                      color=\"black\")\n",
        "\n",
        "ax.set_title(\"Common Topis Found in Tweets (Including All Words)\")\n",
        "\n",
        "plt.show()"
      ],
      "execution_count": null,
      "outputs": [
        {
          "output_type": "display_data",
          "data": {
            "image/png": "[encoded data removed]",
            "text/plain": [
              "<Figure size 576x576 with 1 Axes>"
            ]
          },
          "metadata": {
            "tags": [],
            "needs_background": "light"
          }
        }
      ]
    },
    {
      "cell_type": "code",
      "metadata": {
        "id": "ty3t27x-UMOe",
        "colab": {
          "base_uri": "https://localhost:8080/",
          "height": 499
        },
        "outputId": "8c209a82-cc32-4d1c-85f3-e41b1da52b9b"
      },
      "source": [
        "lockdown3 = \"\"\n",
        "\n",
        "for i in indialockdown3.index:\n",
        "    lockdown3 = lockdown3 + str(indialockdown3.at[i,\"topics\"])\n",
        "    \n",
        "all_topicslockdown3 = lockdown3.split(\",\")\n",
        "counts_no_urls = collections.Counter(all_topicslockdown3)\n",
        "\n",
        "\n",
        "\n",
        "clean_tweets_no_urls = pd.DataFrame(counts_no_urls.most_common(1),\n",
        "                             columns=['words', 'count'])\n",
        "\n",
        "fig, ax = plt.subplots(figsize=(8, 8))\n",
        "\n",
        "# Plot horizontal bar graph\n",
        "clean_tweets_no_urls.sort_values(by='count').plot.barh(x='words',\n",
        "                      y='count',\n",
        "                      ax=ax,\n",
        "                      color=\"pink\")\n",
        "\n",
        "ax.set_title(\"Common Topis Found in Tweets (Including All Words)\")\n",
        "\n",
        "plt.show()"
      ],
      "execution_count": null,
      "outputs": [
        {
          "output_type": "display_data",
          "data": {
            "image/png": "[encoded data removed]",
            "text/plain": [
              "<Figure size 576x576 with 1 Axes>"
            ]
          },
          "metadata": {
            "tags": [],
            "needs_background": "light"
          }
        }
      ]
    },
    {
      "cell_type": "code",
      "metadata": {
        "id": "97aGZQy7UMOf",
        "outputId": "1840df28-f467-48d0-a8ed-9b6c1dcd6a44"
      },
      "source": [
        "data[\"country_code\"].unique()"
      ],
      "execution_count": null,
      "outputs": [
        {
          "output_type": "execute_result",
          "data": {
            "text/plain": [
              "array(['US', 'GB', 'JP', 'CA', 'IE', 'QA', 'AU', 'NG', 'FJ', 'FR', 'HK',\n",
              "       'IN', 'VC', 'NZ', 'PK', 'PH', 'SV', 'BR', 'CO', 'CH', 'SA', 'MA',\n",
              "       'MY', 'SG', 'MX', 'UY', 'KE', 'WS', 'CN', 'SK', 'CM', 'ZA', 'BM',\n",
              "       'MV', 'ES', 'ID', 'TM', 'PT', 'TH', 'KR', 'FI', 'TR', 'AE', 'BD',\n",
              "       'RW', 'DZ', 'IT', 'GH', 'ZW', 'JM', 'LK', 'TT', 'GM', 'NP', 'AR',\n",
              "       'OM', 'AT', 'VN', 'UG', 'BT', 'NL', 'LB', 'SC', 'EG', 'AF', 'GT',\n",
              "       'VE', 'HT', 'SD', 'MM', 'DE', 'PL', 'GR', 'NO', 'TW', 'BE', 'UA',\n",
              "       'RU', 'ZM', 'KZ', 'MW', 'LS', 'SI', 'RO', 'DK', 'MZ', 'CY', 'DO',\n",
              "       'SE', 'NI', 'IL', 'SO', 'BW', 'TZ', 'EC', 'AO', 'ML', 'CZ', 'HR',\n",
              "       'ET', 'KW', 'ME', 'AL', 'IQ', 'CI', 'DJ', 'LY', 'EE', 'BN', 'SY',\n",
              "       'MT', 'CL', 'GE', 'SZ', 'SN', 'LR', 'JO', 'LU', 'BA', 'PG', 'BJ',\n",
              "       'RS', 'IR', 'KH', 'AD', 'IM', 'CW', 'IS', 'HU', 'MK', 'NE', 'AM',\n",
              "       'CD', 'MC', 'CG', 'SL', 'LT', 'VG', 'MN', 'MO', 'GI', 'BH', 'TN',\n",
              "       'XK', 'BO', 'GN', 'AW', 'AG', 'AZ', 'BB', 'PE', 'LC', 'KY', 'GG',\n",
              "       'GY', 'BZ', 'HN', 'CR', 'TC', 'KN', 'SX', 'BQ', 'TG', 'BS', 'MU',\n",
              "       'VU', 'CU', 'GU', 'GA', 'BG', 'GD', 'MQ', 'PA', 'LI', 'BI', 'VA',\n",
              "       'PF', 'BY', 'PN', 'DM', 'MP', 'RE', 'YE', 'VI', 'UZ', 'PR', 'KG',\n",
              "       'MR', 'GQ', 'SB', 'TJ', 'FK', 'MG', 'GP', 'AS', 'LV', 'MF', 'GW',\n",
              "       'PY', 'SR', 'JE', 'MD', 'CV', 'TL', 'FO', 'GL', 'BF', 'UM', 'LA'],\n",
              "      dtype=object)"
            ]
          },
          "metadata": {
            "tags": []
          },
          "execution_count": 49
        }
      ]
    },
    {
      "cell_type": "code",
      "metadata": {
        "id": "2qC7l0LYUMOf"
      },
      "source": [
        "import seaborn as sns"
      ],
      "execution_count": null,
      "outputs": []
    },
    {
      "cell_type": "code",
      "metadata": {
        "id": "0QZJcBgSUMOg",
        "outputId": "921de784-d1b2-4f2a-c973-02f6dee88d3e"
      },
      "source": [
        "sns.countplot(data['country_code'])"
      ],
      "execution_count": null,
      "outputs": [
        {
          "output_type": "execute_result",
          "data": {
            "text/plain": [
              "<matplotlib.axes._subplots.AxesSubplot at 0x17017def400>"
            ]
          },
          "metadata": {
            "tags": []
          },
          "execution_count": 51
        },
        {
          "output_type": "display_data",
          "data": {
            "image/png": "[encoded data removed]",
            "text/plain": [
              "<Figure size 432x288 with 1 Axes>"
            ]
          },
          "metadata": {
            "tags": [],
            "needs_background": "light"
          }
        }
      ]
    },
    {
      "cell_type": "code",
      "metadata": {
        "scrolled": false,
        "id": "R24xPN9BUMOg"
      },
      "source": [
        "df = data\n",
        "freq_vals = df['country_code'].value_counts()[:].index.tolist()\n",
        "freq_df = df[df['country_code'].isin(freq_vals)]\n"
      ],
      "execution_count": null,
      "outputs": []
    },
    {
      "cell_type": "code",
      "metadata": {
        "id": "VlgysW1wUMOg"
      },
      "source": [
        "count = df['country_code'].value_counts() "
      ],
      "execution_count": null,
      "outputs": []
    },
    {
      "cell_type": "code",
      "metadata": {
        "id": "ccMn_TzUUMOh",
        "outputId": "c028b25d-8859-453e-9c02-068a7024a337"
      },
      "source": [
        "count"
      ],
      "execution_count": null,
      "outputs": [
        {
          "output_type": "execute_result",
          "data": {
            "text/plain": [
              "US    100872\n",
              "GB     33574\n",
              "IN     23949\n",
              "CA     13033\n",
              "NG      8225\n",
              "       ...  \n",
              "MF         1\n",
              "PN         1\n",
              "PF         1\n",
              "GD         1\n",
              "YE         1\n",
              "Name: country_code, Length: 209, dtype: int64"
            ]
          },
          "metadata": {
            "tags": []
          },
          "execution_count": 58
        }
      ]
    },
    {
      "cell_type": "code",
      "metadata": {
        "id": "F2F0tGMdUMOh"
      },
      "source": [
        "count.to_csv(\"a.csv\")"
      ],
      "execution_count": null,
      "outputs": []
    },
    {
      "cell_type": "code",
      "metadata": {
        "id": "bQJsExf1UMOh",
        "outputId": "331fc317-07e6-4832-af02-e6647e122fbc"
      },
      "source": [
        ""
      ],
      "execution_count": null,
      "outputs": [
        {
          "output_type": "execute_result",
          "data": {
            "text/html": [
              "<div>\n",
              "<style scoped>\n",
              "    .dataframe tbody tr th:only-of-type {\n",
              "        vertical-align: middle;\n",
              "    }\n",
              "\n",
              "    .dataframe tbody tr th {\n",
              "        vertical-align: top;\n",
              "    }\n",
              "\n",
              "    .dataframe thead th {\n",
              "        text-align: right;\n",
              "    }\n",
              "</style>\n",
              "<table border=\"1\" class=\"dataframe\">\n",
              "  <thead>\n",
              "    <tr style=\"text-align: right;\">\n",
              "      <th></th>\n",
              "      <th>country</th>\n",
              "      <th>count</th>\n",
              "    </tr>\n",
              "  </thead>\n",
              "  <tbody>\n",
              "  </tbody>\n",
              "</table>\n",
              "</div>"
            ],
            "text/plain": [
              "Empty DataFrame\n",
              "Columns: [country, count]\n",
              "Index: []"
            ]
          },
          "metadata": {
            "tags": []
          },
          "execution_count": 64
        }
      ]
    },
    {
      "cell_type": "code",
      "metadata": {
        "id": "kN2r_zLDUMOi"
      },
      "source": [
        ""
      ],
      "execution_count": null,
      "outputs": []
    }
  ]
}